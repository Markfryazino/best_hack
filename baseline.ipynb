{
 "cells": [
  {
   "cell_type": "markdown",
   "metadata": {},
   "source": [
    "# Ну что ж, давайте обучать #"
   ]
  },
  {
   "cell_type": "code",
   "execution_count": 1,
   "metadata": {},
   "outputs": [],
   "source": [
    "import pandas as pd\n",
    "import numpy as np\n",
    "import matplotlib.pyplot as plt\n",
    "import seaborn as sns\n",
    "sns.set()\n",
    "sns.set_style('ticks')"
   ]
  },
  {
   "cell_type": "code",
   "execution_count": 2,
   "metadata": {},
   "outputs": [],
   "source": [
    "train = pd.read_excel('semifinal_data/train.xlsx')\n",
    "test = pd.read_excel('semifinal_data/test.xlsx')\n",
    "descr = pd.read_excel('semifinal_data/description.xlsx')"
   ]
  },
  {
   "cell_type": "markdown",
   "metadata": {},
   "source": [
    "## Preprocessing & feature engineering ##"
   ]
  },
  {
   "cell_type": "code",
   "execution_count": 3,
   "metadata": {},
   "outputs": [
    {
     "data": {
      "text/plain": [
       "(8618, 52)"
      ]
     },
     "execution_count": 3,
     "metadata": {},
     "output_type": "execute_result"
    }
   ],
   "source": [
    "train_idx = train.index\n",
    "data = pd.concat([train, test], sort=False)\n",
    "data.shape"
   ]
  },
  {
   "cell_type": "markdown",
   "metadata": {},
   "source": [
    "Отбросим сильно коррелирующие признаки (смотри ноутбук с EDA)."
   ]
  },
  {
   "cell_type": "code",
   "execution_count": 4,
   "metadata": {},
   "outputs": [],
   "source": [
    "data.drop(['Vit_D_µg', 'Vit_A_RAE', 'Folate_Tot_(µg)'], axis=1, inplace=True)"
   ]
  },
  {
   "cell_type": "markdown",
   "metadata": {},
   "source": [
    "Добавим признак \"число NaNов в строке\", заполним NaNы в числовых признаках медианами."
   ]
  },
  {
   "cell_type": "code",
   "execution_count": 5,
   "metadata": {},
   "outputs": [],
   "source": [
    "data['Energ_Kcal'].fillna(-1., inplace=True)\n",
    "data['NaN_number'] = data.isnull().sum(axis=1)\n",
    "\n",
    "float_cols = list(set(data.columns) - {'GmWt_Desc1', 'GmWt_Desc2', 'Shrt_Desc', 'Energ_Kcal'})\n",
    "for col in float_cols:\n",
    "    data[col].fillna(data[col].median(), inplace=True)"
   ]
  },
  {
   "cell_type": "markdown",
   "metadata": {},
   "source": [
    "Нормализуем числовые признаки."
   ]
  },
  {
   "cell_type": "code",
   "execution_count": 6,
   "metadata": {},
   "outputs": [],
   "source": [
    "from sklearn.preprocessing import StandardScaler\n",
    "\n",
    "for col in float_cols:\n",
    "    data[col] = StandardScaler().fit_transform(data[col].values.reshape(-1, 1))"
   ]
  },
  {
   "cell_type": "markdown",
   "metadata": {},
   "source": [
    "Строковые признаки пока что отбросим."
   ]
  },
  {
   "cell_type": "code",
   "execution_count": 7,
   "metadata": {},
   "outputs": [],
   "source": [
    "str_cols = ['GmWt_Desc1', 'GmWt_Desc2', 'Shrt_Desc']\n",
    "data.drop(str_cols, axis=1, inplace=True)"
   ]
  },
  {
   "cell_type": "markdown",
   "metadata": {},
   "source": [
    "Вернемся к трейну и тесту и нормализуем целевую переменную."
   ]
  },
  {
   "cell_type": "code",
   "execution_count": 8,
   "metadata": {},
   "outputs": [
    {
     "name": "stderr",
     "output_type": "stream",
     "text": [
      "/home/data_sapiens/Anaconda/lib/python3.7/site-packages/pandas/core/frame.py:4102: SettingWithCopyWarning: \n",
      "A value is trying to be set on a copy of a slice from a DataFrame\n",
      "\n",
      "See the caveats in the documentation: http://pandas.pydata.org/pandas-docs/stable/user_guide/indexing.html#returning-a-view-versus-a-copy\n",
      "  errors=errors,\n",
      "/home/data_sapiens/Anaconda/lib/python3.7/site-packages/ipykernel_launcher.py:9: SettingWithCopyWarning: \n",
      "A value is trying to be set on a copy of a slice from a DataFrame.\n",
      "Try using .loc[row_indexer,col_indexer] = value instead\n",
      "\n",
      "See the caveats in the documentation: http://pandas.pydata.org/pandas-docs/stable/user_guide/indexing.html#returning-a-view-versus-a-copy\n",
      "  if __name__ == '__main__':\n"
     ]
    }
   ],
   "source": [
    "from sklearn.preprocessing import StandardScaler\n",
    "\n",
    "train = data[data['Energ_Kcal'] != -1]\n",
    "test = data[data['Energ_Kcal'] == -1]\n",
    "test.drop('Energ_Kcal', axis=1, inplace=True)\n",
    "\n",
    "scaler = StandardScaler()\n",
    "scaler.fit(train['Energ_Kcal'].values.reshape(-1, 1))\n",
    "train['Energ_Kcal'] = scaler.transform(train['Energ_Kcal'].values.reshape(-1, 1))"
   ]
  },
  {
   "cell_type": "markdown",
   "metadata": {},
   "source": [
    "## Попробуем обучить что-нибудь простенькое ##"
   ]
  },
  {
   "cell_type": "code",
   "execution_count": 9,
   "metadata": {},
   "outputs": [],
   "source": [
    "from sklearn.model_selection import train_test_split\n",
    "\n",
    "X_train, X_test, y_train, y_test = train_test_split(train.drop('Energ_Kcal', axis=1), train['Energ_Kcal'], \n",
    "                                                   shuffle=True)"
   ]
  },
  {
   "cell_type": "markdown",
   "metadata": {},
   "source": [
    "Нам понадобится особенная метрика (из-за того, что мы скалировали)"
   ]
  },
  {
   "cell_type": "code",
   "execution_count": 10,
   "metadata": {},
   "outputs": [],
   "source": [
    "from sklearn.metrics import mean_absolute_error\n",
    "\n",
    "def metric(y_pred, y_true, dmatrix=True):\n",
    "    if dmatrix:\n",
    "        y_true_rescaled = scaler.inverse_transform(y_true.get_label().reshape(-1, 1))\n",
    "    else:\n",
    "        y_true_rescaled = scaler.inverse_transform(y_true.reshape(-1, 1))\n",
    "    y_pred_rescaled = scaler.inverse_transform(y_pred.reshape(-1, 1))\n",
    "    return ('mae', mean_absolute_error(y_true_rescaled, y_pred_rescaled))"
   ]
  },
  {
   "cell_type": "code",
   "execution_count": 11,
   "metadata": {},
   "outputs": [
    {
     "name": "stdout",
     "output_type": "stream",
     "text": [
      "MAE на валидационном сете:  ('mae', 5.6481186195654685)\n"
     ]
    }
   ],
   "source": [
    "from __future__ import print_function\n",
    "from xgboost import XGBRegressor\n",
    "from IPython.utils import io\n",
    "\n",
    "model = XGBRegressor(n_estimators=1200)\n",
    "with io.capture_output() as captured:\n",
    "    model.fit(X_train.values, y_train.values, eval_set=[(X_train.values, y_train.values),\n",
    "              (X_test.values, y_test.values)], eval_metric=metric, verbose=True)\n",
    "\n",
    "print('MAE на валидационном сете: ', metric(model.predict(X_test.values), y_test.values, False))"
   ]
  },
  {
   "cell_type": "code",
   "execution_count": 12,
   "metadata": {},
   "outputs": [
    {
     "data": {
      "text/plain": [
       "<matplotlib.axes._subplots.AxesSubplot at 0x7f1a60359550>"
      ]
     },
     "execution_count": 12,
     "metadata": {},
     "output_type": "execute_result"
    },
    {
     "data": {
      "image/png": "[encoded data removed]",
      "text/plain": [
       "<Figure size 1224x360 with 2 Axes>"
      ]
     },
     "metadata": {
      "needs_background": "light"
     },
     "output_type": "display_data"
    }
   ],
   "source": [
    "info = captured.stdout.split('\\t')[1:]\n",
    "curve = [[], [], [], []]\n",
    "for i in range(0, len(info)):\n",
    "    score = float(info[i].split(':')[1].split('\\n')[0])\n",
    "    curve[i % 4].append(score)\n",
    "\n",
    "rounds = len(curve[0])\n",
    "\n",
    "index = np.array([[i, i] for i in range(rounds)]).reshape((2 * rounds,))\n",
    "np_curve = np.array(curve).T\n",
    "np_curve[:, [1, 2]] = np_curve[:, [2, 1]]\n",
    "pd_curve = pd.DataFrame(np_curve.reshape((2 * rounds, 2)), columns=['scaled_rmse', 'mae'])\n",
    "pd_curve['round'] = index\n",
    "pd_curve['set'] = np.array([['train', 'eval'] for i in range(rounds)]).reshape((2 * rounds,))\n",
    "\n",
    "f, axes = plt.subplots(1, 2, figsize=(17, 5))\n",
    "\n",
    "sns.lineplot(data=pd_curve, x='round', y='scaled_rmse', hue='set', ax=axes[0])\n",
    "sns.lineplot(data=pd_curve, x='round', y='mae', hue='set', ax=axes[1])"
   ]
  },
  {
   "cell_type": "markdown",
   "metadata": {},
   "source": [
    "## Предсказание ##"
   ]
  },
  {
   "cell_type": "code",
   "execution_count": 13,
   "metadata": {},
   "outputs": [],
   "source": [
    "test_pred = model.predict(test.values)\n",
    "test_pred = scaler.inverse_transform(test_pred.reshape(-1, 1))\n",
    "answer = pd.Series(test_pred.reshape(-1), name='Pred_kcal')\n",
    "answer.to_csv('semifinal_files/baseline1.csv', index=False, header=True)"
   ]
  }
 ],
 "metadata": {
  "kernelspec": {
   "display_name": "Python 3",
   "language": "python",
   "name": "python3"
  },
  "language_info": {
   "codemirror_mode": {
    "name": "ipython",
    "version": 3
   },
   "file_extension": ".py",
   "mimetype": "text/x-python",
   "name": "python",
   "nbconvert_exporter": "python",
   "pygments_lexer": "ipython3",
   "version": "3.7.5"
  }
 },
 "nbformat": 4,
 "nbformat_minor": 2
}
