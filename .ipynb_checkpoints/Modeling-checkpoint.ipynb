{
 "cells": [
  {
   "cell_type": "code",
   "execution_count": 1,
   "metadata": {},
   "outputs": [],
   "source": [
    "import pandas as pd\n",
    "import numpy as np\n",
    "import matplotlib.pyplot as plt\n",
    "import seaborn as sns\n",
    "\n",
    "sns.set()\n",
    "sns.set_style('ticks')"
   ]
  },
  {
   "cell_type": "code",
   "execution_count": 2,
   "metadata": {},
   "outputs": [],
   "source": [
    "train = pd.read_excel('semifinal_data/train.xlsx')\n",
    "test = pd.read_excel('semifinal_data/test.xlsx')\n",
    "descr = pd.read_excel('semifinal_data/description.xlsx')"
   ]
  },
  {
   "cell_type": "code",
   "execution_count": 3,
   "metadata": {},
   "outputs": [],
   "source": [
    "from nltk import ngrams\n",
    "from collections import defaultdict\n",
    "from gensim.models import Word2Vec"
   ]
  },
  {
   "cell_type": "markdown",
   "metadata": {},
   "source": [
    "word2vec"
   ]
  },
  {
   "cell_type": "code",
   "execution_count": 4,
   "metadata": {},
   "outputs": [],
   "source": [
    "train['Full_descr'] = train['Shrt_Desc'].values + ' ' +\\\n",
    "    train['GmWt_Desc1'].fillna('').values + ' ' +\\\n",
    "    train['GmWt_Desc2'].fillna('').values"
   ]
  },
  {
   "cell_type": "code",
   "execution_count": 5,
   "metadata": {},
   "outputs": [],
   "source": [
    "train = train.drop(['Shrt_Desc', 'GmWt_Desc1', 'GmWt_Desc2'], axis = 1)"
   ]
  },
  {
   "cell_type": "code",
   "execution_count": 6,
   "metadata": {},
   "outputs": [],
   "source": [
    "words = train['Full_descr']"
   ]
  },
  {
   "cell_type": "code",
   "execution_count": 7,
   "metadata": {},
   "outputs": [],
   "source": [
    "def foo(word):\n",
    "    temp = word.lower().split()\n",
    "    res = []\n",
    "    for i in temp:\n",
    "        res += i.split(',')\n",
    "    return res"
   ]
  },
  {
   "cell_type": "code",
   "execution_count": 8,
   "metadata": {},
   "outputs": [],
   "source": [
    "sent = [foo(row) for row in words]"
   ]
  },
  {
   "cell_type": "code",
   "execution_count": 9,
   "metadata": {},
   "outputs": [],
   "source": [
    "size_ = 10\n",
    "model = Word2Vec(sent, min_count=1, size=size_, workers=5,\n",
    "                 window=4, sg = 2, iter = 5)"
   ]
  },
  {
   "cell_type": "code",
   "execution_count": 10,
   "metadata": {
    "scrolled": true
   },
   "outputs": [
    {
     "name": "stderr",
     "output_type": "stream",
     "text": [
      "/home/data_sapiens/Anaconda/lib/python3.7/site-packages/ipykernel_launcher.py:2: DeprecationWarning: Call to deprecated `__getitem__` (Method will be removed in 4.0.0, use self.wv.__getitem__() instead).\n",
      "  \n"
     ]
    }
   ],
   "source": [
    "temp = words.apply(lambda x :\n",
    "                   np.array([model[i] for i in foo(x)]).mean(axis = 0))"
   ]
  },
  {
   "cell_type": "code",
   "execution_count": 11,
   "metadata": {},
   "outputs": [],
   "source": [
    "w2v_columns =[]\n",
    "for i in range(size_):\n",
    "    train['w2v_{}'.format(i)] = temp.apply(lambda x : x[i])\n",
    "    w2v_columns += ['w2v_{}'.format(i)]"
   ]
  },
  {
   "cell_type": "code",
   "execution_count": 557,
   "metadata": {},
   "outputs": [],
   "source": [
    "from sklearn.neighbors import KNeighborsRegressor as KNN"
   ]
  },
  {
   "cell_type": "code",
   "execution_count": 558,
   "metadata": {},
   "outputs": [],
   "source": [
    "for i in range(5):\n",
    "    knn_model = KNN(n_neighbors = 10 + i*5)\n",
    "    knn_model.fit(train[w2v_columns], train['Energ_Kcal'])\n",
    "    temp = knn_model.predict(train[w2v_columns])\n",
    "    train['knn_{}'.format(5 + i*5)] = temp"
   ]
  },
  {
   "cell_type": "code",
   "execution_count": 564,
   "metadata": {},
   "outputs": [],
   "source": [
    "import xgboost as xgb\n",
    "from sklearn.metrics import mean_absolute_error\n",
    "from sklearn.model_selection import KFold, train_test_split\n",
    "from sklearn.linear_model import LinearRegression"
   ]
  },
  {
   "cell_type": "code",
   "execution_count": 560,
   "metadata": {},
   "outputs": [],
   "source": [
    "all_names = train.columns.values"
   ]
  },
  {
   "cell_type": "code",
   "execution_count": 627,
   "metadata": {},
   "outputs": [],
   "source": [
    "class full_model:\n",
    "    def __init__(self):\n",
    "        self.xgb = xgb.XGBRegressor(silent=True)\n",
    "        self.lin = LinearRegression()\n",
    "        self.lin2 = LinearRegression()\n",
    "        \n",
    "    def fit(self, X, y):\n",
    "        self.xgb.fit(X, y, eval_metric = mean_absolute_error)\n",
    "        self.lin.fit(X, y)\n",
    "        self.lin2.fit(np.concatenate((self.xgb.predict(X).reshape(-1, 1),\n",
    "                    self.lin.predict(X).reshape(-1, 1)), axis=1), y)\n",
    "        \n",
    "    def predict(self, X):\n",
    "        return self.lin2.predict(np.concatenate((self.xgb.predict(X).reshape(-1, 1),\n",
    "                    self.lin.predict(X).reshape(-1, 1)), axis=1))"
   ]
  },
  {
   "cell_type": "code",
   "execution_count": 628,
   "metadata": {},
   "outputs": [],
   "source": [
    "train = train.fillna(0)"
   ]
  },
  {
   "cell_type": "code",
   "execution_count": 632,
   "metadata": {},
   "outputs": [],
   "source": [
    "def trainXGB(names_list):\n",
    "    X_train, X_test, y_train, y_test = train_test_split(\n",
    "        train[names_list].drop(['Energ_Kcal', 'Full_descr'],\n",
    "            axis=1), train['Energ_Kcal'], test_size=0.1, random_state=42)\n",
    "    \n",
    "    kf = KFold(n_splits=5, random_state=None, shuffle=True)\n",
    "    ans = []\n",
    "    ans2 = []\n",
    "    for train_index, val_index in kf.split(X_train):\n",
    "        model = full_model()\n",
    "        X_ktrain, X_val = X_train.iloc[train_index], X_train.iloc[val_index]\n",
    "        y_ktrain, y_val = y_train.iloc[train_index], y_train.iloc[val_index]\n",
    "        model.fit(X_ktrain.values, y_ktrain.values)\n",
    "        ans += [mean_absolute_error(model.predict(X_test.values), y_test)]\n",
    "        ans2 += [mean_absolute_error(model.predict(X_val.values), y_val)]\n",
    "        \n",
    "        #\n",
    "        #\n",
    "        #break\n",
    "        \n",
    "    return np.array(ans), np.array(ans2)"
   ]
  },
  {
   "cell_type": "code",
   "execution_count": 633,
   "metadata": {
    "scrolled": true
   },
   "outputs": [
    {
     "data": {
      "text/plain": [
       "array([6.6382865 , 6.87787474, 6.91797628, 6.48980234, 6.59214673])"
      ]
     },
     "execution_count": 633,
     "metadata": {},
     "output_type": "execute_result"
    }
   ],
   "source": [
    "all_res, all_res_val = trainXGB(all_names)\n",
    "all_res"
   ]
  },
  {
   "cell_type": "code",
   "execution_count": 634,
   "metadata": {},
   "outputs": [
    {
     "data": {
      "text/plain": [
       "array([6.40646711, 6.70605284, 6.54343567, 6.29692656, 6.39811954])"
      ]
     },
     "execution_count": 634,
     "metadata": {},
     "output_type": "execute_result"
    }
   ],
   "source": [
    "all_res_val"
   ]
  },
  {
   "cell_type": "code",
   "execution_count": 635,
   "metadata": {},
   "outputs": [],
   "source": [
    "def get_ngramsrank(n):\n",
    "    gram2number = defaultdict(lambda : 0);\n",
    "    for word in words:\n",
    "        n_grams = ngrams(word, n)\n",
    "        for i in n_grams:\n",
    "            gram2number[\"\".join(i)] += 1\n",
    "\n",
    "    max_score = 0\n",
    "    for i in gram2number.items():\n",
    "        if i[1] > max_score:\n",
    "            max_score = i[1]\n",
    "\n",
    "    gram2rank = dict()\n",
    "    for i in gram2number.items():\n",
    "        gram2rank[i[0]] = int(i[1])\n",
    "    \n",
    "    return gram2rank"
   ]
  },
  {
   "cell_type": "code",
   "execution_count": 636,
   "metadata": {},
   "outputs": [],
   "source": [
    "example = get_ngramsrank(8)"
   ]
  },
  {
   "cell_type": "code",
   "execution_count": 637,
   "metadata": {},
   "outputs": [],
   "source": [
    "def prepare_word(word):\n",
    "    res = 0\n",
    "    n_grams = ngrams(word, n)\n",
    "    for i in n_grams:\n",
    "        res += 1 / koks[\"\".join(i)]\n",
    "    return res"
   ]
  },
  {
   "cell_type": "code",
   "execution_count": 640,
   "metadata": {
    "scrolled": true
   },
   "outputs": [],
   "source": [
    "train['Ranking_Desc'] = train['Full_descr'].apply(prepare_word)"
   ]
  },
  {
   "cell_type": "code",
   "execution_count": 641,
   "metadata": {
    "scrolled": false
   },
   "outputs": [
    {
     "data": {
      "text/plain": [
       "0.17080338693019015"
      ]
     },
     "execution_count": 641,
     "metadata": {},
     "output_type": "execute_result"
    }
   ],
   "source": [
    "train.corr()['Ranking_Desc']['Energ_Kcal']"
   ]
  }
 ],
 "metadata": {
  "kernelspec": {
   "display_name": "Python 3",
   "language": "python",
   "name": "python3"
  },
  "language_info": {
   "codemirror_mode": {
    "name": "ipython",
    "version": 3
   },
   "file_extension": ".py",
   "mimetype": "text/x-python",
   "name": "python",
   "nbconvert_exporter": "python",
   "pygments_lexer": "ipython3",
   "version": "3.7.3"
  }
 },
 "nbformat": 4,
 "nbformat_minor": 2
}
