{
 "cells": [
  {
   "cell_type": "code",
   "execution_count": 1,
   "metadata": {},
   "outputs": [],
   "source": [
    "import pandas as pd\n",
    "import numpy as np\n",
    "import matplotlib.pyplot as plt\n",
    "import seaborn as sns\n",
    "import warnings\n",
    "sns.set()\n",
    "sns.set_style('ticks')\n",
    "warnings.filterwarnings('ignore')"
   ]
  },
  {
   "cell_type": "code",
   "execution_count": 57,
   "metadata": {},
   "outputs": [],
   "source": [
    "import importlib\n",
    "import scripts\n",
    "\n",
    "importlib.reload(scripts.semifinal_features)\n",
    "importlib.reload(scripts.semifinal_model)\n",
    "importlib.reload(scripts.semifinal_validation)\n",
    "\n",
    "from scripts.semifinal_validation import validate_model, end_to_model\n",
    "from scripts.semifinal_model import Model"
   ]
  },
  {
   "cell_type": "code",
   "execution_count": 18,
   "metadata": {},
   "outputs": [],
   "source": [
    "train = pd.read_excel('semifinal_data/train.xlsx')\n",
    "test = pd.read_excel('semifinal_data/test.xlsx')\n",
    "descr = pd.read_excel('semifinal_data/description.xlsx')"
   ]
  },
  {
   "cell_type": "markdown",
   "metadata": {},
   "source": [
    "# Основная задача #\n",
    "\n",
    "Подбор гиперпараметров:"
   ]
  },
  {
   "cell_type": "code",
   "execution_count": 56,
   "metadata": {},
   "outputs": [
    {
     "name": "stdout",
     "output_type": "stream",
     "text": [
      "ITERATION 0\n",
      "MAE of xgboost on train:  0.552617320262831\n",
      "MAE of xgboost on test:  5.27523978281463 \n",
      "\n",
      "MAE of knn on train:  17.244126536369134\n",
      "MAE of knn on test:  18.941901692183723 \n",
      "\n",
      "MAE of linear regression on train:  6.154467423789866\n",
      "MAE of linear regression on test:  6.058972377249034 \n",
      "\n",
      "MAE of random_forest on train:  5.7760061943525365\n",
      "MAE of random_forest on test:  7.799609307543113 \n",
      "\n",
      "MAE of meta model on train:  0.5299991162651353\n",
      "MAE of meta model on test:  5.295684977522019 \n",
      "\n",
      "Mean absolute error on validation:  5.5811709786827395 \n",
      "\n",
      "\n",
      "ITERATION 1\n",
      "MAE of xgboost on train:  0.564078683200188\n",
      "MAE of xgboost on test:  5.506259303699089 \n",
      "\n",
      "MAE of knn on train:  16.820447219983887\n",
      "MAE of knn on test:  19.847542304593073 \n",
      "\n",
      "MAE of linear regression on train:  5.9156061909928255\n",
      "MAE of linear regression on test:  6.719992640017822 \n",
      "\n",
      "MAE of random_forest on train:  5.748471156017291\n",
      "MAE of random_forest on test:  8.275323901332293 \n",
      "\n",
      "MAE of meta model on train:  0.5429136637000069\n",
      "MAE of meta model on test:  5.524641820305615 \n",
      "\n",
      "Mean absolute error on validation:  5.1471729420349766 \n",
      "\n",
      "\n",
      "ITERATION 2\n",
      "MAE of xgboost on train:  0.5859237702429823\n",
      "MAE of xgboost on test:  5.428534355930125 \n",
      "\n",
      "MAE of knn on train:  17.056768734891218\n",
      "MAE of knn on test:  19.337147461724417 \n",
      "\n",
      "MAE of linear regression on train:  6.022692542874174\n",
      "MAE of linear regression on test:  6.247593318140631 \n",
      "\n",
      "MAE of random_forest on train:  5.672196079935823\n",
      "MAE of random_forest on test:  8.159824519479578 \n",
      "\n",
      "MAE of meta model on train:  0.5591825001636553\n",
      "MAE of meta model on test:  5.44979743026036 \n",
      "\n",
      "Mean absolute error on validation:  5.478222522753767 \n",
      "\n",
      "\n",
      "ITERATION 3\n",
      "MAE of xgboost on train:  0.5864569487576999\n",
      "MAE of xgboost on test:  5.0741667715557925 \n",
      "\n",
      "MAE of knn on train:  16.766156325543918\n",
      "MAE of knn on test:  19.047864625302175 \n",
      "\n",
      "MAE of linear regression on train:  6.268968087623439\n",
      "MAE of linear regression on test:  6.184889378787881 \n",
      "\n",
      "MAE of random_forest on train:  5.856650412970069\n",
      "MAE of random_forest on test:  7.8345764315222715 \n",
      "\n",
      "MAE of meta model on train:  0.5609916713260464\n",
      "MAE of meta model on test:  5.088924681882368 \n",
      "\n",
      "Mean absolute error on validation:  5.270428305717287 \n",
      "\n",
      "\n",
      "ITERATION 4\n",
      "MAE of xgboost on train:  0.5877738903958791\n",
      "MAE of xgboost on test:  4.896642711640942 \n",
      "\n",
      "MAE of knn on train:  17.130197421434328\n",
      "MAE of knn on test:  18.750362610797744 \n",
      "\n",
      "MAE of linear regression on train:  6.022621856918333\n",
      "MAE of linear regression on test:  5.82945746635614 \n",
      "\n",
      "MAE of random_forest on train:  5.868985769411135\n",
      "MAE of random_forest on test:  7.496574013179424 \n",
      "\n",
      "MAE of meta model on train:  0.562127224169643\n",
      "MAE of meta model on test:  4.911043389632652 \n",
      "\n",
      "Mean absolute error on validation:  5.3272367331692525 \n",
      "\n",
      "\n"
     ]
    }
   ],
   "source": [
    "model_params = {'xgb_params': {'silent': True, 'n_jobs': -1, 'n_estimators': 100, 'max_depth': 10},\n",
    "               'knn_params': {'n_neighbors': 10},\n",
    "               'forest_params': {'n_estimators': 400, 'n_jobs': -1, 'max_depth': 10, 'min_samples_leaf': 3,\n",
    "                                'max_features': 'sqrt'}\n",
    "               }\n",
    "validate_model(train, model_params)"
   ]
  },
  {
   "cell_type": "markdown",
   "metadata": {},
   "source": [
    "Обучение всей модели и предсказание:"
   ]
  },
  {
   "cell_type": "code",
   "execution_count": 58,
   "metadata": {},
   "outputs": [
    {
     "name": "stdout",
     "output_type": "stream",
     "text": [
      "MAE of xgboost on train:  0.8375105585974015\n",
      "MAE of knn on train:  15.50002578648788\n",
      "MAE of linear regression on train:  5.978448790474874\n",
      "MAE of random_forest on train:  5.855583190508026\n",
      "MAE of meta model on train:  0.8068802737617694\n"
     ]
    }
   ],
   "source": [
    "model, answer = end_to_model(train, test, model_params)\n",
    "answer.to_csv('Pred_main.csv', index=False, header=True)"
   ]
  }
 ],
 "metadata": {
  "kernelspec": {
   "display_name": "Python 3",
   "language": "python",
   "name": "python3"
  },
  "language_info": {
   "codemirror_mode": {
    "name": "ipython",
    "version": 3
   },
   "file_extension": ".py",
   "mimetype": "text/x-python",
   "name": "python",
   "nbconvert_exporter": "python",
   "pygments_lexer": "ipython3",
   "version": "3.7.3"
  }
 },
 "nbformat": 4,
 "nbformat_minor": 2
}
