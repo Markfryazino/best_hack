{
 "cells": [
  {
   "cell_type": "markdown",
   "metadata": {},
   "source": [
    "# Ну что ж, давайте обучать #"
   ]
  },
  {
   "cell_type": "code",
   "execution_count": 1,
   "metadata": {},
   "outputs": [],
   "source": [
    "import pandas as pd\n",
    "import numpy as np\n",
    "import matplotlib.pyplot as plt\n",
    "import seaborn as sns\n",
    "sns.set()\n",
    "sns.set_style('ticks')"
   ]
  },
  {
   "cell_type": "code",
   "execution_count": 2,
   "metadata": {},
   "outputs": [],
   "source": [
    "train = pd.read_excel('semifinal_data/train.xlsx')\n",
    "test = pd.read_excel('semifinal_data/test.xlsx')\n",
    "descr = pd.read_excel('semifinal_data/description.xlsx')"
   ]
  },
  {
   "cell_type": "markdown",
   "metadata": {},
   "source": [
    "## Строковые признаки ##"
   ]
  },
  {
   "cell_type": "markdown",
   "metadata": {},
   "source": [
    "Сделаем mean encodings первых двух слов признаков GmWt_Desc1 и GmWt_Desc2."
   ]
  },
  {
   "cell_type": "code",
   "execution_count": 3,
   "metadata": {},
   "outputs": [],
   "source": [
    "def handle_desc(x, param):\n",
    "    if (x != x) and (param == 0):\n",
    "        return np.NaN\n",
    "    elif (x != x):\n",
    "        return 'nan'\n",
    "    tup = x.lower().replace(',', '').split(' ')[:2]\n",
    "    if param == 0:\n",
    "        return float(tup[0])\n",
    "    elif param == 1:\n",
    "        return tup[1]\n",
    "    else:\n",
    "        return ' '.join(tup)"
   ]
  },
  {
   "cell_type": "code",
   "execution_count": 4,
   "metadata": {},
   "outputs": [
    {
     "name": "stderr",
     "output_type": "stream",
     "text": [
      "/home/data_sapiens/Anaconda/lib/python3.7/site-packages/ipykernel_launcher.py:20: SettingWithCopyWarning: \n",
      "A value is trying to be set on a copy of a slice from a DataFrame\n",
      "\n",
      "See the caveats in the documentation: http://pandas.pydata.org/pandas-docs/stable/user_guide/indexing.html#returning-a-view-versus-a-copy\n"
     ]
    }
   ],
   "source": [
    "from sklearn.model_selection import KFold\n",
    "\n",
    "for col in ['GmWt_Desc1', 'GmWt_Desc2']:\n",
    "    train[col + '_first'] = train[col].apply(lambda x: handle_desc(x, 0))\n",
    "    test[col + '_first'] = test[col].apply(lambda x: handle_desc(x, 0))\n",
    "\n",
    "    train[col + '_second'] = train[col].apply(lambda x: handle_desc(x, 1))\n",
    "    test[col + '_second'] = test[col].apply(lambda x: handle_desc(x, 1))\n",
    "\n",
    "    train[col + '_pair'] = train[col].apply(lambda x: handle_desc(x, 2))\n",
    "    test[col + '_pair'] = test[col].apply(lambda x: handle_desc(x, 2))\n",
    "    \n",
    "    cv = KFold(n_splits = 5, shuffle = True)\n",
    "\n",
    "    for cur_col in [col + '_second', col + '_pair']:\n",
    "        globalmean = train['Energ_Kcal'].mean()\n",
    "        train[cur_col + '_encoded'] = 0.\n",
    "        for train_idx, test_idx in cv.split(train):\n",
    "            mapping = train.loc[train_idx].groupby(cur_col)['Energ_Kcal'].mean()\n",
    "            train[cur_col + '_encoded'][test_idx] = train[cur_col][test_idx].map(mapping)\n",
    "        train[cur_col + '_encoded'].fillna(globalmean, inplace=True) \n",
    "        mapping = train.groupby(cur_col)['Energ_Kcal'].mean()\n",
    "        test[cur_col + '_encoded'] = test[cur_col].map(mapping)\n",
    "        test[cur_col + '_encoded'].fillna(globalmean, inplace=True)"
   ]
  },
  {
   "cell_type": "markdown",
   "metadata": {},
   "source": [
    "Теперь посчитаем TF IDF описаний."
   ]
  },
  {
   "cell_type": "code",
   "execution_count": 7,
   "metadata": {},
   "outputs": [
    {
     "data": {
      "text/plain": [
       "(8618, 62)"
      ]
     },
     "execution_count": 7,
     "metadata": {},
     "output_type": "execute_result"
    }
   ],
   "source": [
    "data = pd.concat([train, test], sort=False)\n",
    "data.shape"
   ]
  },
  {
   "cell_type": "code",
   "execution_count": 8,
   "metadata": {},
   "outputs": [],
   "source": [
    "def handle_shrt_desc(x):\n",
    "    new = ''\n",
    "    for el in x.lower():\n",
    "        if el.isalpha():\n",
    "            new += el\n",
    "        else:\n",
    "            new += ' '\n",
    "    return new"
   ]
  },
  {
   "cell_type": "code",
   "execution_count": 11,
   "metadata": {},
   "outputs": [],
   "source": [
    "from sklearn.feature_extraction.text import TfidfVectorizer\n",
    "from sklearn.decomposition import NMF\n",
    "\n",
    "pd_corpus = data['Shrt_Desc'].apply(handle_shrt_desc)\n",
    "corpus = list(pd_corpus.values)\n",
    "\n",
    "vectorizer = TfidfVectorizer()\n",
    "tfidf = vectorizer.fit_transform(corpus)\n",
    "\n",
    "nmf = NMF(n_components = 5)\n",
    "word_nmf = nmf.fit_transform(tfidf)\n",
    "word_cols = ['word_TF-IDF-' + str(i) for i in range(5)]\n",
    "data = pd.concat([data.reset_index(drop=True), pd.DataFrame(word_nmf, columns = word_cols)], \n",
    "                 axis = 1, sort = False)"
   ]
  },
  {
   "cell_type": "code",
   "execution_count": 15,
   "metadata": {},
   "outputs": [
    {
     "data": {
      "text/plain": [
       "Index(['Shrt_Desc', 'Water_(g)', 'Energ_Kcal', 'Protein_(g)', 'Lipid_Tot_(g)',\n",
       "       'Ash_(g)', 'Carbohydrt_(g)', 'Fiber_TD_(g)', 'Sugar_Tot_(g)',\n",
       "       'Calcium_(mg)', 'Iron_(mg)', 'Magnesium_(mg)', 'Phosphorus_(mg)',\n",
       "       'Potassium_(mg)', 'Sodium_(mg)', 'Zinc_(mg)', 'Copper_mg)',\n",
       "       'Manganese_(mg)', 'Selenium_(µg)', 'Vit_C_(mg)', 'Thiamin_(mg)',\n",
       "       'Riboflavin_(mg)', 'Niacin_(mg)', 'Panto_Acid_mg)', 'Vit_B6_(mg)',\n",
       "       'Folic_Acid_(µg)', 'Food_Folate_(µg)', 'Folate_DFE_(µg)',\n",
       "       'Choline_Tot_ (mg)', 'Vit_B12_(µg)', 'Vit_A_IU', 'Retinol_(µg)',\n",
       "       'Alpha_Carot_(µg)', 'Beta_Carot_(µg)', 'Beta_Crypt_(µg)',\n",
       "       'Lycopene_(µg)', 'Lut+Zea_ (µg)', 'Vit_E_(mg)', 'Vit_D_IU',\n",
       "       'Vit_K_(µg)', 'FA_Sat_(g)', 'FA_Mono_(g)', 'FA_Poly_(g)',\n",
       "       'Cholestrl_(mg)', 'GmWt_1', 'GmWt_Desc1', 'GmWt_2', 'GmWt_Desc2',\n",
       "       'Refuse_Pct', 'GmWt_Desc1_first', 'GmWt_Desc1_second',\n",
       "       'GmWt_Desc1_pair', 'GmWt_Desc1_second_encoded',\n",
       "       'GmWt_Desc1_pair_encoded', 'GmWt_Desc2_first', 'GmWt_Desc2_second',\n",
       "       'GmWt_Desc2_pair', 'GmWt_Desc2_second_encoded',\n",
       "       'GmWt_Desc2_pair_encoded', 'word_TF-IDF-0', 'word_TF-IDF-1',\n",
       "       'word_TF-IDF-2', 'word_TF-IDF-3', 'word_TF-IDF-4', 'NaN_number'],\n",
       "      dtype='object')"
      ]
     },
     "execution_count": 15,
     "metadata": {},
     "output_type": "execute_result"
    }
   ],
   "source": [
    "data.columns"
   ]
  },
  {
   "cell_type": "markdown",
   "metadata": {},
   "source": [
    "## Работа с числовыми признаками ##"
   ]
  },
  {
   "cell_type": "markdown",
   "metadata": {},
   "source": [
    "Отбросим сильно коррелирующие признаки (смотри ноутбук с EDA)."
   ]
  },
  {
   "cell_type": "code",
   "execution_count": 13,
   "metadata": {},
   "outputs": [],
   "source": [
    "data.drop(['Vit_D_µg', 'Vit_A_RAE', 'Folate_Tot_(µg)'], axis=1, inplace=True)"
   ]
  },
  {
   "cell_type": "markdown",
   "metadata": {},
   "source": [
    "Добавим признак \"число NaNов в строке\", заполним NaNы в числовых признаках медианами."
   ]
  },
  {
   "cell_type": "code",
   "execution_count": 16,
   "metadata": {},
   "outputs": [],
   "source": [
    "data['Energ_Kcal'].fillna(-1., inplace=True)\n",
    "data['NaN_number'] = data.isnull().sum(axis=1)\n",
    "\n",
    "float_cols = list(set(data.columns) - {'GmWt_Desc2_pair', 'GmWt_Desc2_second', 'GmWt_Desc1_pair', \\\n",
    "                                       'GmWt_Desc1', 'GmWt_Desc2', 'Shrt_Desc', 'Energ_Kcal', \\\n",
    "                                      'GmWt_Desc1_second'})\n",
    "for col in float_cols:\n",
    "    data[col].fillna(data[col].median(), inplace=True)"
   ]
  },
  {
   "cell_type": "markdown",
   "metadata": {},
   "source": [
    "Нормализуем числовые признаки."
   ]
  },
  {
   "cell_type": "code",
   "execution_count": 17,
   "metadata": {},
   "outputs": [],
   "source": [
    "from sklearn.preprocessing import StandardScaler\n",
    "\n",
    "for col in float_cols:\n",
    "    data[col] = StandardScaler().fit_transform(data[col].values.reshape(-1, 1))"
   ]
  },
  {
   "cell_type": "markdown",
   "metadata": {},
   "source": [
    "Выкинем лишнее."
   ]
  },
  {
   "cell_type": "code",
   "execution_count": 18,
   "metadata": {},
   "outputs": [],
   "source": [
    "str_cols = ['GmWt_Desc1', 'GmWt_Desc2', 'Shrt_Desc', 'GmWt_Desc2_pair', 'GmWt_Desc2_second', 'GmWt_Desc1_pair',\n",
    "           'GmWt_Desc1_second']\n",
    "data.drop(str_cols, axis=1, inplace=True)"
   ]
  },
  {
   "cell_type": "markdown",
   "metadata": {},
   "source": [
    "Вернемся к трейну и тесту и нормализуем целевую переменную."
   ]
  },
  {
   "cell_type": "code",
   "execution_count": 19,
   "metadata": {},
   "outputs": [
    {
     "name": "stderr",
     "output_type": "stream",
     "text": [
      "/home/data_sapiens/Anaconda/lib/python3.7/site-packages/pandas/core/frame.py:4102: SettingWithCopyWarning: \n",
      "A value is trying to be set on a copy of a slice from a DataFrame\n",
      "\n",
      "See the caveats in the documentation: http://pandas.pydata.org/pandas-docs/stable/user_guide/indexing.html#returning-a-view-versus-a-copy\n",
      "  errors=errors,\n",
      "/home/data_sapiens/Anaconda/lib/python3.7/site-packages/ipykernel_launcher.py:9: SettingWithCopyWarning: \n",
      "A value is trying to be set on a copy of a slice from a DataFrame.\n",
      "Try using .loc[row_indexer,col_indexer] = value instead\n",
      "\n",
      "See the caveats in the documentation: http://pandas.pydata.org/pandas-docs/stable/user_guide/indexing.html#returning-a-view-versus-a-copy\n",
      "  if __name__ == '__main__':\n"
     ]
    }
   ],
   "source": [
    "from sklearn.preprocessing import StandardScaler\n",
    "\n",
    "train = data[data['Energ_Kcal'] != -1]\n",
    "test = data[data['Energ_Kcal'] == -1]\n",
    "test.drop('Energ_Kcal', axis=1, inplace=True)\n",
    "\n",
    "scaler = StandardScaler()\n",
    "scaler.fit(train['Energ_Kcal'].values.reshape(-1, 1))\n",
    "train['Energ_Kcal'] = scaler.transform(train['Energ_Kcal'].values.reshape(-1, 1))"
   ]
  },
  {
   "cell_type": "markdown",
   "metadata": {},
   "source": [
    "## Попробуем обучить что-нибудь простенькое ##"
   ]
  },
  {
   "cell_type": "code",
   "execution_count": 20,
   "metadata": {},
   "outputs": [],
   "source": [
    "from sklearn.model_selection import train_test_split\n",
    "\n",
    "X_train, X_test, y_train, y_test = train_test_split(train.drop('Energ_Kcal', axis=1), train['Energ_Kcal'], \n",
    "                                                   shuffle=True)"
   ]
  },
  {
   "cell_type": "markdown",
   "metadata": {},
   "source": [
    "Нам понадобится особенная метрика (из-за того, что мы скалировали)"
   ]
  },
  {
   "cell_type": "code",
   "execution_count": 21,
   "metadata": {},
   "outputs": [],
   "source": [
    "from sklearn.metrics import mean_absolute_error\n",
    "\n",
    "def metric(y_pred, y_true, dmatrix=True):\n",
    "    if dmatrix:\n",
    "        y_true_rescaled = scaler.inverse_transform(y_true.get_label().reshape(-1, 1))\n",
    "    else:\n",
    "        y_true_rescaled = scaler.inverse_transform(y_true.reshape(-1, 1))\n",
    "    y_pred_rescaled = scaler.inverse_transform(y_pred.reshape(-1, 1))\n",
    "    return ('mae', mean_absolute_error(y_true_rescaled, y_pred_rescaled))"
   ]
  },
  {
   "cell_type": "code",
   "execution_count": 22,
   "metadata": {},
   "outputs": [
    {
     "name": "stdout",
     "output_type": "stream",
     "text": [
      "MAE на валидационном сете:  ('mae', 5.642752981296577)\n"
     ]
    }
   ],
   "source": [
    "from __future__ import print_function\n",
    "from xgboost import XGBRegressor\n",
    "from IPython.utils import io\n",
    "\n",
    "model = XGBRegressor(n_estimators=1200)\n",
    "with io.capture_output() as captured:\n",
    "    model.fit(X_train.values, y_train.values, eval_set=[(X_train.values, y_train.values),\n",
    "              (X_test.values, y_test.values)], eval_metric=metric, verbose=True)\n",
    "\n",
    "print('MAE на валидационном сете: ', metric(model.predict(X_test.values), y_test.values, False))"
   ]
  },
  {
   "cell_type": "code",
   "execution_count": 23,
   "metadata": {},
   "outputs": [
    {
     "data": {
      "text/plain": [
       "<matplotlib.axes._subplots.AxesSubplot at 0x7f363923c240>"
      ]
     },
     "execution_count": 23,
     "metadata": {},
     "output_type": "execute_result"
    },
    {
     "data": {
      "image/png": "[encoded data removed]",
      "text/plain": [
       "<Figure size 1224x360 with 2 Axes>"
      ]
     },
     "metadata": {
      "needs_background": "light"
     },
     "output_type": "display_data"
    }
   ],
   "source": [
    "info = captured.stdout.split('\\t')[1:]\n",
    "curve = [[], [], [], []]\n",
    "for i in range(0, len(info)):\n",
    "    score = float(info[i].split(':')[1].split('\\n')[0])\n",
    "    curve[i % 4].append(score)\n",
    "\n",
    "rounds = len(curve[0])\n",
    "\n",
    "index = np.array([[i, i] for i in range(rounds)]).reshape((2 * rounds,))\n",
    "np_curve = np.array(curve).T\n",
    "np_curve[:, [1, 2]] = np_curve[:, [2, 1]]\n",
    "pd_curve = pd.DataFrame(np_curve.reshape((2 * rounds, 2)), columns=['scaled_rmse', 'mae'])\n",
    "pd_curve['round'] = index\n",
    "pd_curve['set'] = np.array([['train', 'eval'] for i in range(rounds)]).reshape((2 * rounds,))\n",
    "\n",
    "f, axes = plt.subplots(1, 2, figsize=(17, 5))\n",
    "\n",
    "sns.lineplot(data=pd_curve, x='round', y='scaled_rmse', hue='set', ax=axes[0])\n",
    "sns.lineplot(data=pd_curve, x='round', y='mae', hue='set', ax=axes[1])"
   ]
  },
  {
   "cell_type": "markdown",
   "metadata": {},
   "source": [
    "## Важные признаки ##"
   ]
  },
  {
   "cell_type": "code",
   "execution_count": 24,
   "metadata": {},
   "outputs": [
    {
     "name": "stdout",
     "output_type": "stream",
     "text": [
      "5 наиболее важных признаков:\n"
     ]
    },
    {
     "data": {
      "text/plain": [
       "Water_(g)         0.603753\n",
       "Lipid_Tot_(g)     0.342266\n",
       "Ash_(g)           0.013924\n",
       "Carbohydrt_(g)    0.008862\n",
       "Fiber_TD_(g)      0.003561\n",
       "dtype: float32"
      ]
     },
     "execution_count": 24,
     "metadata": {},
     "output_type": "execute_result"
    }
   ],
   "source": [
    "cols = X_train.columns\n",
    "importances = pd.Series(model.feature_importances_, cols)\n",
    "importances.sort_values(ascending=False, inplace=True)\n",
    "\n",
    "print('5 наиболее важных признаков:')\n",
    "importances.head()"
   ]
  },
  {
   "cell_type": "code",
   "execution_count": 25,
   "metadata": {},
   "outputs": [
    {
     "data": {
      "text/plain": [
       "<matplotlib.axes._subplots.AxesSubplot at 0x7f36387c5a58>"
      ]
     },
     "execution_count": 25,
     "metadata": {},
     "output_type": "execute_result"
    },
    {
     "data": {
      "image/png": "[encoded data removed]",
      "text/plain": [
       "<Figure size 1080x360 with 1 Axes>"
      ]
     },
     "metadata": {
      "needs_background": "light"
     },
     "output_type": "display_data"
    }
   ],
   "source": [
    "plt.figure(figsize=(15, 5))\n",
    "sns.barplot(x=importances[:10].index, y=importances[:10].values)"
   ]
  },
  {
   "cell_type": "markdown",
   "metadata": {},
   "source": [
    "## Предсказание ##"
   ]
  },
  {
   "cell_type": "code",
   "execution_count": 13,
   "metadata": {},
   "outputs": [],
   "source": [
    "test_pred = model.predict(test.values)\n",
    "test_pred = scaler.inverse_transform(test_pred.reshape(-1, 1))\n",
    "answer = pd.Series(test_pred.reshape(-1), name='Pred_kcal')\n",
    "answer.to_csv('semifinal_files/baseline1.csv', index=False, header=True)"
   ]
  }
 ],
 "metadata": {
  "kernelspec": {
   "display_name": "Python 3",
   "language": "python",
   "name": "python3"
  },
  "language_info": {
   "codemirror_mode": {
    "name": "ipython",
    "version": 3
   },
   "file_extension": ".py",
   "mimetype": "text/x-python",
   "name": "python",
   "nbconvert_exporter": "python",
   "pygments_lexer": "ipython3",
   "version": "3.7.3"
  }
 },
 "nbformat": 4,
 "nbformat_minor": 2
}
