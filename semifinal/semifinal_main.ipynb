{
 "cells": [
  {
   "cell_type": "code",
   "execution_count": 1,
   "metadata": {},
   "outputs": [],
   "source": [
    "import pandas as pd\n",
    "import numpy as np\n",
    "import matplotlib.pyplot as plt\n",
    "import seaborn as sns\n",
    "import warnings\n",
    "from scripts.semifinal_validation import validate_model, end_to_model\n",
    "from scripts.semifinal_model import Model\n",
    "sns.set()\n",
    "sns.set_style('ticks')\n",
    "warnings.filterwarnings('ignore')"
   ]
  },
  {
   "cell_type": "code",
   "execution_count": 2,
   "metadata": {},
   "outputs": [],
   "source": [
    "train = pd.read_excel('semifinal_data/train.xlsx')\n",
    "test = pd.read_excel('semifinal_data/test.xlsx')\n",
    "descr = pd.read_excel('semifinal_data/description.xlsx')"
   ]
  },
  {
   "cell_type": "markdown",
   "metadata": {},
   "source": [
    "# Основная задача #\n",
    "\n",
    "Подбор гиперпараметров:"
   ]
  },
  {
   "cell_type": "code",
   "execution_count": 3,
   "metadata": {},
   "outputs": [
    {
     "name": "stdout",
     "output_type": "stream",
     "text": [
      "ВАЛИДАЦИЯ ОСНОВНОЙ ЗАДАЧИ\n",
      "ITERATION 0\n",
      "MAE of xgboost on train:  0.6199166687438499\n",
      "MAE of xgboost on test:  5.072825899319145 \n",
      "\n",
      "MAE of knn on train:  16.987507555913762\n",
      "MAE of knn on test:  18.513940370668813 \n",
      "\n",
      "MAE of linear regression on train:  6.284081468252732\n",
      "MAE of linear regression on test:  6.127145232053183 \n",
      "\n",
      "MAE of random_forest on train:  5.881754639784644\n",
      "MAE of random_forest on test:  7.296118626745542 \n",
      "\n",
      "MAE of meta model on train:  0.5968154176763203\n",
      "MAE of meta model on test:  5.0932602140337035 \n",
      "\n",
      "Mean absolute error on validation:  5.60165967716033 \n",
      "\n",
      "\n",
      "ITERATION 1\n",
      "MAE of xgboost on train:  0.5207003941286676\n",
      "MAE of xgboost on test:  5.337888208922602 \n",
      "\n",
      "MAE of knn on train:  17.23748992747784\n",
      "MAE of knn on test:  18.424496373892026 \n",
      "\n",
      "MAE of linear regression on train:  6.352632784708785\n",
      "MAE of linear regression on test:  6.216985796528041 \n",
      "\n",
      "MAE of random_forest on train:  5.847220082410925\n",
      "MAE of random_forest on test:  7.640813030387894 \n",
      "\n",
      "MAE of meta model on train:  0.4994160238285766\n",
      "MAE of meta model on test:  5.356462122258178 \n",
      "\n",
      "Mean absolute error on validation:  5.0956830682078635 \n",
      "\n",
      "\n",
      "ITERATION 2\n",
      "MAE of xgboost on train:  0.6016486599549087\n",
      "MAE of xgboost on test:  5.260610785578452 \n",
      "\n",
      "MAE of knn on train:  16.88620064464142\n",
      "MAE of knn on test:  19.42884770346495 \n",
      "\n",
      "MAE of linear regression on train:  6.098552586500467\n",
      "MAE of linear regression on test:  6.883553674619141 \n",
      "\n",
      "MAE of random_forest on train:  5.833412461026646\n",
      "MAE of random_forest on test:  8.303100212072321 \n",
      "\n",
      "MAE of meta model on train:  0.574629793496732\n",
      "MAE of meta model on test:  5.273660924525608 \n",
      "\n",
      "Mean absolute error on validation:  5.355753474868928 \n",
      "\n",
      "\n",
      "ITERATION 3\n",
      "MAE of xgboost on train:  0.6111311674970566\n",
      "MAE of xgboost on test:  5.119126704385644 \n",
      "\n",
      "MAE of knn on train:  17.245809830781628\n",
      "MAE of knn on test:  18.43722804190169 \n",
      "\n",
      "MAE of linear regression on train:  6.0361877500408685\n",
      "MAE of linear regression on test:  6.288745986620684 \n",
      "\n",
      "MAE of random_forest on train:  5.807019679107054\n",
      "MAE of random_forest on test:  7.955078735806978 \n",
      "\n",
      "MAE of meta model on train:  0.5870915161578991\n",
      "MAE of meta model on test:  5.127508599881505 \n",
      "\n",
      "Mean absolute error on validation:  5.09037593179666 \n",
      "\n",
      "\n",
      "ITERATION 4\n",
      "MAE of xgboost on train:  0.6221816175220284\n",
      "MAE of xgboost on test:  4.613900437602874 \n",
      "\n",
      "MAE of knn on train:  17.220467365028203\n",
      "MAE of knn on test:  18.72586623690572 \n",
      "\n",
      "MAE of linear regression on train:  5.899635978622095\n",
      "MAE of linear regression on test:  6.220301301251681 \n",
      "\n",
      "MAE of random_forest on train:  5.732370136887212\n",
      "MAE of random_forest on test:  7.83606520561875 \n",
      "\n",
      "MAE of meta model on train:  0.5971356146634873\n",
      "MAE of meta model on test:  4.63945071430664 \n",
      "\n",
      "Mean absolute error on validation:  5.62446113457114 \n",
      "\n",
      "\n"
     ]
    }
   ],
   "source": [
    "model_params = {'xgb_params': {'silent': True, 'n_jobs': -1, 'n_estimators': 100, 'max_depth': 10},\n",
    "               'knn_params': {'n_neighbors': 10},\n",
    "               'forest_params': {'n_estimators': 400, 'n_jobs': -1, 'max_depth': 10, 'min_samples_leaf': 3,\n",
    "                                'max_features': 'sqrt'}\n",
    "               }\n",
    "validate_model(train, model_params, False)"
   ]
  },
  {
   "cell_type": "markdown",
   "metadata": {},
   "source": [
    "Обучение всей модели и предсказание:"
   ]
  },
  {
   "cell_type": "code",
   "execution_count": 4,
   "metadata": {},
   "outputs": [
    {
     "name": "stdout",
     "output_type": "stream",
     "text": [
      "MAE of xgboost on train:  0.8154835896427219\n",
      "MAE of knn on train:  15.472150593089221\n",
      "MAE of linear regression on train:  5.966582909423486\n",
      "MAE of random_forest on train:  5.8010618400101075\n",
      "MAE of meta model on train:  0.7859276561087563\n"
     ]
    }
   ],
   "source": [
    "model, answer = end_to_model(train, test, model_params)\n",
    "answer.to_csv('Pred_main.csv', index=False, header=True)"
   ]
  },
  {
   "cell_type": "markdown",
   "metadata": {},
   "source": [
    "# Дополнительная задача №2 #\n",
    "\n",
    "Сделаем все то же самое, но на основе ограниченного числа признаков."
   ]
  },
  {
   "cell_type": "code",
   "execution_count": 5,
   "metadata": {},
   "outputs": [
    {
     "name": "stdout",
     "output_type": "stream",
     "text": [
      "ВАЛИДАЦИЯ ДОПОЛНИТЕЛЬНОЙ ЗАДАЧИ №2\n",
      "ITERATION 0\n",
      "MAE of xgboost on train:  1.4305796193939626\n",
      "MAE of xgboost on test:  6.9450427248629705 \n",
      "\n",
      "MAE of knn on train:  10.984525488615756\n",
      "MAE of knn on test:  11.460032232070912 \n",
      "\n",
      "MAE of linear regression on train:  7.3924667176974035\n",
      "MAE of linear regression on test:  7.137301667097775 \n",
      "\n",
      "MAE of random_forest on train:  6.786235908618437\n",
      "MAE of random_forest on test:  8.790694182703913 \n",
      "\n",
      "MAE of meta model on train:  1.3559716261199533\n",
      "MAE of meta model on test:  7.029481725153055 \n",
      "\n",
      "Mean absolute error on validation:  7.249910592766098 \n",
      "\n",
      "\n",
      "ITERATION 1\n",
      "MAE of xgboost on train:  1.6180280461955416\n",
      "MAE of xgboost on test:  7.296780720341119 \n",
      "\n",
      "MAE of knn on train:  10.837651087832393\n",
      "MAE of knn on test:  12.042304593070105 \n",
      "\n",
      "MAE of linear regression on train:  7.660273911771995\n",
      "MAE of linear regression on test:  7.093112404357367 \n",
      "\n",
      "MAE of random_forest on train:  6.96687114981452\n",
      "MAE of random_forest on test:  9.159476944566638 \n",
      "\n",
      "MAE of meta model on train:  1.5343470588880463\n",
      "MAE of meta model on test:  7.423095442259123 \n",
      "\n",
      "Mean absolute error on validation:  6.905376174193033 \n",
      "\n",
      "\n",
      "ITERATION 2\n",
      "MAE of xgboost on train:  1.601630468338752\n",
      "MAE of xgboost on test:  7.57516503478134 \n",
      "\n",
      "MAE of knn on train:  10.897864625302176\n",
      "MAE of knn on test:  12.563013698630138 \n",
      "\n",
      "MAE of linear regression on train:  7.307557515294426\n",
      "MAE of linear regression on test:  7.609379636857968 \n",
      "\n",
      "MAE of random_forest on train:  7.085535390468596\n",
      "MAE of random_forest on test:  9.1328916547902 \n",
      "\n",
      "MAE of meta model on train:  1.5232368543337533\n",
      "MAE of meta model on test:  7.667150661448375 \n",
      "\n",
      "Mean absolute error on validation:  6.7760746379002095 \n",
      "\n",
      "\n",
      "ITERATION 3\n",
      "MAE of xgboost on train:  1.4339647137715297\n",
      "MAE of xgboost on test:  6.799259031400097 \n",
      "\n",
      "MAE of knn on train:  10.675100725221595\n",
      "MAE of knn on test:  12.100161160354553 \n",
      "\n",
      "MAE of linear regression on train:  7.078535711650227\n",
      "MAE of linear regression on test:  7.264291797850926 \n",
      "\n",
      "MAE of random_forest on train:  6.881197456415659\n",
      "MAE of random_forest on test:  8.696225904251394 \n",
      "\n",
      "MAE of meta model on train:  1.343355752456696\n",
      "MAE of meta model on test:  6.868372366480545 \n",
      "\n",
      "Mean absolute error on validation:  7.349170928971626 \n",
      "\n",
      "\n",
      "ITERATION 4\n",
      "MAE of xgboost on train:  1.539945649077679\n",
      "MAE of xgboost on test:  7.2847450519165236 \n",
      "\n",
      "MAE of knn on train:  10.827336825141016\n",
      "MAE of knn on test:  12.74842868654311 \n",
      "\n",
      "MAE of linear regression on train:  7.354464788342808\n",
      "MAE of linear regression on test:  7.610479789979405 \n",
      "\n",
      "MAE of random_forest on train:  6.962957586154566\n",
      "MAE of random_forest on test:  9.225346483391789 \n",
      "\n",
      "MAE of meta model on train:  1.4590646238289318\n",
      "MAE of meta model on test:  7.358596590893842 \n",
      "\n",
      "Mean absolute error on validation:  7.648524294781986 \n",
      "\n",
      "\n"
     ]
    }
   ],
   "source": [
    "red_cols = ['Protein_(g)', 'Lipid_Tot_(g)', 'Carbohydrt_(g)', 'Shrt_Desc']\n",
    "train_red = train[red_cols + ['Energ_Kcal']].copy()\n",
    "test_red = test[red_cols].copy()\n",
    "\n",
    "model_params = {'xgb_params': {'silent': True, 'n_jobs': -1, 'n_estimators': 100, 'max_depth': 10},\n",
    "               'knn_params': {'n_neighbors': 10},\n",
    "               'forest_params': {'n_estimators': 400, 'n_jobs': -1, 'max_depth': 10, 'min_samples_leaf': 3,\n",
    "                                'max_features': 'sqrt'}\n",
    "               }\n",
    "validate_model(train_red, model_params, True)"
   ]
  },
  {
   "cell_type": "markdown",
   "metadata": {},
   "source": [
    "Предсказание на дополнительную задачу"
   ]
  },
  {
   "cell_type": "code",
   "execution_count": 6,
   "metadata": {},
   "outputs": [
    {
     "name": "stdout",
     "output_type": "stream",
     "text": [
      "MAE of xgboost on train:  1.6396887190515093\n",
      "MAE of knn on train:  9.690033522434243\n",
      "MAE of linear regression on train:  7.3140942741585055\n",
      "MAE of random_forest on train:  6.986232251202972\n",
      "MAE of meta model on train:  1.5433626094456354\n"
     ]
    }
   ],
   "source": [
    "model, answer = end_to_model(train_red, test_red, model_params, use_subset=True)\n",
    "answer.to_csv('Pred_extra_2.csv', index=False, header=True)"
   ]
  }
 ],
 "metadata": {
  "kernelspec": {
   "display_name": "Python 3",
   "language": "python",
   "name": "python3"
  },
  "language_info": {
   "codemirror_mode": {
    "name": "ipython",
    "version": 3
   },
   "file_extension": ".py",
   "mimetype": "text/x-python",
   "name": "python",
   "nbconvert_exporter": "python",
   "pygments_lexer": "ipython3",
   "version": "3.7.3"
  }
 },
 "nbformat": 4,
 "nbformat_minor": 2
}
