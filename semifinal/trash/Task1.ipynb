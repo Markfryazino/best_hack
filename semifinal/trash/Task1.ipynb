{
 "cells": [
  {
   "cell_type": "code",
   "execution_count": 187,
   "metadata": {},
   "outputs": [],
   "source": [
    "import pandas as pd\n",
    "import numpy as np\n",
    "\n",
    "from gensim.models import Word2Vec\n",
    "from xgboost import XGBClassifier\n",
    "from sklearn.neighbors import KNeighborsClassifier\n",
    "from sklearn.linear_model import LogisticRegression\n",
    "from sklearn.linear_model import SGDClassifier\n",
    "from sklearn.ensemble import RandomForestClassifier\n",
    "from sklearn.model_selection import KFold, train_test_split\n",
    "from sklearn.metrics import accuracy_score"
   ]
  },
  {
   "cell_type": "code",
   "execution_count": 2,
   "metadata": {},
   "outputs": [],
   "source": [
    "# импортируем данные\n",
    "train = pd.read_excel('semifinal_data/train.xlsx')\n",
    "test = pd.read_excel('semifinal_data/test.xlsx')\n",
    "descr = pd.read_excel('semifinal_data/description.xlsx')"
   ]
  },
  {
   "cell_type": "code",
   "execution_count": 3,
   "metadata": {},
   "outputs": [],
   "source": [
    "# собираем всю словесную информацию вместе\n",
    "train['Full_descr'] = train['Shrt_Desc'].values + ' ' +\\\n",
    "    train['GmWt_Desc1'].fillna('').values + ' ' +\\\n",
    "    train['GmWt_Desc2'].fillna('').values\n",
    "\n",
    "train = train.drop(['Shrt_Desc', 'GmWt_Desc1', 'GmWt_Desc2'], axis = 1)\n",
    "\n",
    "test['Full_descr'] = test['Shrt_Desc'].values + ' ' +\\\n",
    "    test['GmWt_Desc1'].fillna('').values + ' ' +\\\n",
    "    test['GmWt_Desc2'].fillna('').values\n",
    "\n",
    "test = test.drop(['Shrt_Desc', 'GmWt_Desc1', 'GmWt_Desc2'], axis = 1)"
   ]
  },
  {
   "cell_type": "code",
   "execution_count": 4,
   "metadata": {},
   "outputs": [],
   "source": [
    "def prepare_description(description):\n",
    "    word_form = description.lower().split()\n",
    "        \n",
    "    res = []\n",
    "    for i in word_form:\n",
    "        res += i.split(',')\n",
    "        \n",
    "    for i in range(len(res)):\n",
    "        try_to_find = res[i].find('w/')\n",
    "        if (try_to_find != -1):\n",
    "            res[i] = res[i][:try_to_find] + res[i][try_to_find + 2:]\n",
    "        \n",
    "    return res\n",
    "\n",
    "# уберём подстроки 'w/' и приведем к нижнему регистру\n",
    "word_information = train['Full_descr'].apply(prepare_description)"
   ]
  },
  {
   "cell_type": "code",
   "execution_count": 5,
   "metadata": {},
   "outputs": [],
   "source": [
    "# возьмём контекст слов из книги с рецептами\n",
    "text = []\n",
    "for i in range(1, 14):\n",
    "    with open(\".\\semifinal_files\\\\book_{}.txt\".format(i), 'r') as file:\n",
    "        text += [eval(file.read())]\n",
    "\n",
    "# в датасете есть неудобные однобуквенные слова,\n",
    "# от которых нужно избавиться\n",
    "for i in range(len(text)):\n",
    "    j = 0\n",
    "    while j < len(text[i]):\n",
    "        text[i][j] = text[i][j].lower()\n",
    "        \n",
    "        if len(text[i][j]) == 1:\n",
    "            text[i].pop(j)\n",
    "            j -= 1\n",
    "        j += 1"
   ]
  },
  {
   "cell_type": "code",
   "execution_count": 51,
   "metadata": {},
   "outputs": [],
   "source": [
    "# word2vec для слов из датасета\n",
    "cook_book = Word2Vec(text, min_count=1, size=40, workers=5,\n",
    "                 window=8, sg = 5, iter = 10)"
   ]
  },
  {
   "cell_type": "code",
   "execution_count": 7,
   "metadata": {},
   "outputs": [],
   "source": [
    "# список всех слов\n",
    "all_words = set()\n",
    "for item in cook_book.wv.vocab:\n",
    "    all_words.add(item)"
   ]
  },
  {
   "cell_type": "markdown",
   "metadata": {},
   "source": [
    "Каждому типу продукта сопоставим слова из доступного словаря:\\\n",
    "1) Хлебобулочные изделия : 'bakery', 'bread', 'loaf', 'bun', 'sugar', 'cook', 'bake'\\\n",
    "2) Жидкость : 'liquid', 'water', 'juice', 'wine', 'cocktail'\\\n",
    "3) Молочная продукция : 'milk', 'dairy', 'yogurt', 'buttermilk'\\\n",
    "4) Мясная продукция : 'meat', 'lamb', 'pork', 'mutton', 'bone', 'raw'\\\n",
    "5) Овощи / фрукты : 'apple', 'orange', 'cucumber', 'tomato'"
   ]
  },
  {
   "cell_type": "code",
   "execution_count": 99,
   "metadata": {},
   "outputs": [],
   "source": [
    "# функция, по которой определяется принадлежность к классу\n",
    "def get_voting(description, key_words, min_confidence = 0.8):\n",
    "    votes = 0\n",
    "    sum_confidence = 0\n",
    "    for word in description:\n",
    "        if word in all_words:\n",
    "            for key_word in key_words:\n",
    "                sim = cook_book.wv.similarity(word, key_word)\n",
    "                if sim >= min_confidence: \n",
    "                    sum_confidence += sim\n",
    "                    votes += 1\n",
    "    if not votes:\n",
    "        return 0\n",
    "    return sum_confidence / votes"
   ]
  },
  {
   "cell_type": "code",
   "execution_count": 100,
   "metadata": {
    "scrolled": false
   },
   "outputs": [
    {
     "name": "stderr",
     "output_type": "stream",
     "text": [
      "c:\\users\\shepe\\python\\lib\\site-packages\\ipykernel_launcher.py:16: FutureWarning: \n",
      "The current behaviour of 'Series.argmax' is deprecated, use 'idxmax'\n",
      "instead.\n",
      "The behavior of 'argmax' will be corrected to return the positional\n",
      "maximum in the future. For now, use 'series.values.argmax' or\n",
      "'np.argmax(np.array(values))' to get the position of the maximum\n",
      "row.\n",
      "  app.launch_new_instance()\n"
     ]
    }
   ],
   "source": [
    "# выделим нужные слова в label\n",
    "label = [[]] * 6\n",
    "label[1] = ['bakery', 'bread', 'loaf', 'bun', 'cook']\n",
    "label[2] = ['liquid', 'water', 'juice']\n",
    "label[3] = ['milk', 'dairy', 'curd', 'cream']\n",
    "label[4] = ['meat', 'pork', 'fish', 'bone', 'chicken']\n",
    "label[5] = ['apple', 'orange', 'cucumber', 'tomato']\n",
    "\n",
    "train_votes = pd.DataFrame()\n",
    "for i in range(1, 6):\n",
    "    train_votes['{}'.format(i)] = word_information.apply(lambda x : get_voting(x, label[i]))\n",
    "    \n",
    "label_columns = ['{}'.format(i) for i in range(1, 6)]\n",
    "\n",
    "# найденные классы для исходного train\n",
    "train_res = train_votes[label_columns].apply(lambda x : x.argmax(), axis=1)"
   ]
  },
  {
   "cell_type": "code",
   "execution_count": 103,
   "metadata": {},
   "outputs": [
    {
     "data": {
      "text/plain": [
       "(array(['1', '2', '3', '4', '5'], dtype=object),\n",
       " array([2157,  830, 1912, 1506, 1351], dtype=int64))"
      ]
     },
     "execution_count": 103,
     "metadata": {},
     "output_type": "execute_result"
    }
   ],
   "source": [
    "# посмоторим на распределение классов\n",
    "np.unique(train_res.values, return_counts=True)"
   ]
  },
  {
   "cell_type": "code",
   "execution_count": 102,
   "metadata": {},
   "outputs": [
    {
     "name": "stdout",
     "output_type": "stream",
     "text": [
      "Для названия KELLOGG'S,EGGO,WAFFLES,FRENCH TOAST 1 waffle  класс Хлебобулочные изделия\n",
      "Для названия VEG OIL SPRD,60% FAT,STK,W/ SALT,W/ ADDED VITAMIN D 1 tbsp  класс Молочная продукция\n",
      "Для названия PIE CRUST,STANDARD-TYPE,FRZ,RTB,ENR 1 piece,  (1/8 of 9\" crust) 1 pie crust,  (average weight of 1 frozen crust) класс Молочная продукция\n",
      "Для названия CEREALS RTE,KELLOGG'S SPL K CHOC ALMOND .67 Cup,  (1 NLEA serving)  класс Овощи / фрукты\n",
      "Для названия PORK,FRSH,LOIN,SIRLOIN (CHOPS),BNLESS,LN&FAT,CKD,BRLD 3 oz 1 chop класс Мясная продукция\n",
      "Для названия EMU,FULL RUMP,CKD,BRLD 1 serving,  ( 3 oz ) 1 full rump, cooked ( yield from 695 g raw meat ) класс Хлебобулочные изделия\n",
      "Для названия BEEF,CHUCK,SHRT RIBS,BNLESS,LN,0\" FAT,SEL,RAW 3 oz 1 piece класс Молочная продукция\n",
      "Для названия OIL,CORN,PEANUT,AND OLIVE 1 tablespoon 1 teaspoon класс Овощи / фрукты\n",
      "Для названия LAMB,DOM,SHLDR,BLADE,LN&FAT,1/4\"FAT,CHOIC,CKD,RSTD 3 oz 1 piece, cooked, excluding refuse (yield from 1 lb raw meat with refuse) класс Мясная продукция\n",
      "Для названия POMEGRANATE JUC,BTLD 1 cup 1 fl oz класс Овощи / фрукты\n"
     ]
    }
   ],
   "source": [
    "# посмотрим на случайные ответы\n",
    "def foo(x):\n",
    "    if x == '1':\n",
    "        return \"Хлебобулочные изделия\"\n",
    "    if x == '2':\n",
    "        return \"Жидкость\"\n",
    "    if x == '3':\n",
    "        return \"Молочная продукция\"\n",
    "    if x == '4':\n",
    "        return \"Мясная продукция\"\n",
    "    return \"Овощи / фрукты\"\n",
    "                        \n",
    "idx = np.random.randint(train.shape[0], size = 10)\n",
    "for i in idx:\n",
    "    print('Для названия', train['Full_descr'].iloc[i], 'класс', foo(train_res[i]))"
   ]
  },
  {
   "cell_type": "code",
   "execution_count": 221,
   "metadata": {},
   "outputs": [],
   "source": [
    "class ClassifierModel():\n",
    "    def __init__(self):\n",
    "        self.xgb = XGBClassifier()\n",
    "        #self.knn = KNeighborsClassifier(n_neighbors=8)\n",
    "        #self.sgd = SGDClassifier()\n",
    "        self.rf = RandomForestClassifier()\n",
    "        self.log = LogisticRegression()\n",
    "        \n",
    "        self.log2 = LogisticRegression()\n",
    "        \n",
    "    def get_first_level(self, X):\n",
    "        first_level = np.concatenate((\n",
    "            #self.knn.predict(X).reshape(-1, 1),\n",
    "            #self.sgd.predict(X).reshape(-1, 1),\n",
    "            self.rf.predict(X).reshape(-1, 1),\n",
    "            self.xgb.predict(X).reshape(-1, 1),\n",
    "            self.log.predict(X).reshape(-1, 1)\n",
    "        ), axis = 1)\n",
    "        \n",
    "        return first_level\n",
    "    \n",
    "    def fit(self, X, y):\n",
    "        #self.knn.fit(X, y)\n",
    "        #self.sgd.fit(X, y)\n",
    "        self.rf.fit(X, y)\n",
    "        self.xgb.fit(X, y)\n",
    "        self.log.fit(X, y)\n",
    "        \n",
    "        self.log2.fit(self.get_first_level(X), y)\n",
    "        \n",
    "    def predict(self, X):\n",
    "        first_level = self.get_first_level(X)\n",
    "        result = self.log2.predict(first_level)\n",
    "        \n",
    "        return result\n",
    "        \n",
    "    def print_accuracy(self, X, y):\n",
    "        y_pred = self.predict(X)\n",
    "        print('Accuracy score is', accuracy_score(y_pred, y))"
   ]
  },
  {
   "cell_type": "code",
   "execution_count": 222,
   "metadata": {},
   "outputs": [
    {
     "name": "stderr",
     "output_type": "stream",
     "text": [
      "c:\\users\\shepe\\python\\lib\\site-packages\\sklearn\\ensemble\\forest.py:245: FutureWarning: The default value of n_estimators will change from 10 in version 0.20 to 100 in 0.22.\n",
      "  \"10 in version 0.20 to 100 in 0.22.\", FutureWarning)\n",
      "c:\\users\\shepe\\python\\lib\\site-packages\\sklearn\\linear_model\\logistic.py:432: FutureWarning: Default solver will be changed to 'lbfgs' in 0.22. Specify a solver to silence this warning.\n",
      "  FutureWarning)\n",
      "c:\\users\\shepe\\python\\lib\\site-packages\\sklearn\\linear_model\\logistic.py:469: FutureWarning: Default multi_class will be changed to 'auto' in 0.22. Specify the multi_class option to silence this warning.\n",
      "  \"this warning.\", FutureWarning)\n",
      "c:\\users\\shepe\\python\\lib\\site-packages\\sklearn\\svm\\base.py:929: ConvergenceWarning: Liblinear failed to converge, increase the number of iterations.\n",
      "  \"the number of iterations.\", ConvergenceWarning)\n",
      "c:\\users\\shepe\\python\\lib\\site-packages\\sklearn\\linear_model\\logistic.py:432: FutureWarning: Default solver will be changed to 'lbfgs' in 0.22. Specify a solver to silence this warning.\n",
      "  FutureWarning)\n",
      "c:\\users\\shepe\\python\\lib\\site-packages\\sklearn\\linear_model\\logistic.py:469: FutureWarning: Default multi_class will be changed to 'auto' in 0.22. Specify the multi_class option to silence this warning.\n",
      "  \"this warning.\", FutureWarning)\n"
     ]
    }
   ],
   "source": [
    "X_train, X_test, y_train, y_test = train_test_split(\n",
    "    train.drop(['Full_descr', 'Energ_Kcal'], axis=1).fillna(0), train_res.astype('int64'), test_size=0.33, random_state=42)\n",
    "\n",
    "model = ClassifierModel()\n",
    "model.fit(X_train, y_train)"
   ]
  },
  {
   "cell_type": "code",
   "execution_count": 223,
   "metadata": {},
   "outputs": [
    {
     "name": "stdout",
     "output_type": "stream",
     "text": [
      "Accuracy score is 0.842571208622017\n"
     ]
    }
   ],
   "source": [
    "# Помотрим на показатель на обучающей выборке\n",
    "model.print_accuracy(X_train, y_train)"
   ]
  },
  {
   "cell_type": "code",
   "execution_count": 224,
   "metadata": {},
   "outputs": [
    {
     "name": "stdout",
     "output_type": "stream",
     "text": [
      "Accuracy score is 0.51328125\n"
     ]
    }
   ],
   "source": [
    "# Помотрим на показатель на отложенной выборке\n",
    "model.print_accuracy(X_test, y_test)"
   ]
  },
  {
   "cell_type": "code",
   "execution_count": 225,
   "metadata": {
    "scrolled": true
   },
   "outputs": [
    {
     "name": "stderr",
     "output_type": "stream",
     "text": [
      "c:\\users\\shepe\\python\\lib\\site-packages\\sklearn\\ensemble\\forest.py:245: FutureWarning: The default value of n_estimators will change from 10 in version 0.20 to 100 in 0.22.\n",
      "  \"10 in version 0.20 to 100 in 0.22.\", FutureWarning)\n",
      "c:\\users\\shepe\\python\\lib\\site-packages\\sklearn\\linear_model\\logistic.py:432: FutureWarning: Default solver will be changed to 'lbfgs' in 0.22. Specify a solver to silence this warning.\n",
      "  FutureWarning)\n",
      "c:\\users\\shepe\\python\\lib\\site-packages\\sklearn\\linear_model\\logistic.py:469: FutureWarning: Default multi_class will be changed to 'auto' in 0.22. Specify the multi_class option to silence this warning.\n",
      "  \"this warning.\", FutureWarning)\n",
      "c:\\users\\shepe\\python\\lib\\site-packages\\sklearn\\svm\\base.py:929: ConvergenceWarning: Liblinear failed to converge, increase the number of iterations.\n",
      "  \"the number of iterations.\", ConvergenceWarning)\n",
      "c:\\users\\shepe\\python\\lib\\site-packages\\sklearn\\linear_model\\logistic.py:432: FutureWarning: Default solver will be changed to 'lbfgs' in 0.22. Specify a solver to silence this warning.\n",
      "  FutureWarning)\n",
      "c:\\users\\shepe\\python\\lib\\site-packages\\sklearn\\linear_model\\logistic.py:469: FutureWarning: Default multi_class will be changed to 'auto' in 0.22. Specify the multi_class option to silence this warning.\n",
      "  \"this warning.\", FutureWarning)\n"
     ]
    },
    {
     "ename": "AttributeError",
     "evalue": "'numpy.ndarray' object has no attribute 'to_csv'",
     "output_type": "error",
     "traceback": [
      "\u001b[1;31m---------------------------------------------------------------------------\u001b[0m",
      "\u001b[1;31mAttributeError\u001b[0m                            Traceback (most recent call last)",
      "\u001b[1;32m<ipython-input-225-7907bba8c5b2>\u001b[0m in \u001b[0;36m<module>\u001b[1;34m\u001b[0m\n\u001b[0;32m      4\u001b[0m \u001b[1;33m\u001b[0m\u001b[0m\n\u001b[0;32m      5\u001b[0m \u001b[0mfinal_res\u001b[0m \u001b[1;33m=\u001b[0m \u001b[0mfinal_model\u001b[0m\u001b[1;33m.\u001b[0m\u001b[0mpredict\u001b[0m\u001b[1;33m(\u001b[0m\u001b[0mtest\u001b[0m\u001b[1;33m.\u001b[0m\u001b[0mdrop\u001b[0m\u001b[1;33m(\u001b[0m\u001b[1;33m[\u001b[0m\u001b[1;34m'Full_descr'\u001b[0m\u001b[1;33m]\u001b[0m\u001b[1;33m,\u001b[0m \u001b[0maxis\u001b[0m\u001b[1;33m=\u001b[0m\u001b[1;36m1\u001b[0m\u001b[1;33m)\u001b[0m\u001b[1;33m.\u001b[0m\u001b[0mfillna\u001b[0m\u001b[1;33m(\u001b[0m\u001b[1;36m0\u001b[0m\u001b[1;33m)\u001b[0m\u001b[1;33m)\u001b[0m\u001b[1;33m\u001b[0m\u001b[1;33m\u001b[0m\u001b[0m\n\u001b[1;32m----> 6\u001b[1;33m \u001b[0mfinal_res\u001b[0m\u001b[1;33m.\u001b[0m\u001b[0mto_csv\u001b[0m\u001b[1;33m(\u001b[0m\u001b[1;34m\"lala.csv\"\u001b[0m\u001b[1;33m,\u001b[0m \u001b[0mheader\u001b[0m \u001b[1;33m=\u001b[0m \u001b[1;33m[\u001b[0m\u001b[1;34m'Pred_class'\u001b[0m\u001b[1;33m]\u001b[0m\u001b[1;33m,\u001b[0m \u001b[0mindex\u001b[0m\u001b[1;33m=\u001b[0m\u001b[1;32mFalse\u001b[0m\u001b[1;33m)\u001b[0m\u001b[1;33m\u001b[0m\u001b[1;33m\u001b[0m\u001b[0m\n\u001b[0m",
      "\u001b[1;31mAttributeError\u001b[0m: 'numpy.ndarray' object has no attribute 'to_csv'"
     ]
    }
   ],
   "source": [
    "final_model = ClassifierModel()\n",
    "final_model.fit(train.drop(['Full_descr', 'Energ_Kcal'], axis=1).fillna(0), \n",
    "          train_res.astype('int64'))\n",
    "\n",
    "final_res = final_model.predict(test.drop(['Full_descr'], axis=1).fillna(0))\n",
    "final_res.to_csv(\"lala.csv\", header = ['Pred_class'], index=False)"
   ]
  }
 ],
 "metadata": {
  "kernelspec": {
   "display_name": "Python 3",
   "language": "python",
   "name": "python3"
  },
  "language_info": {
   "codemirror_mode": {
    "name": "ipython",
    "version": 3
   },
   "file_extension": ".py",
   "mimetype": "text/x-python",
   "name": "python",
   "nbconvert_exporter": "python",
   "pygments_lexer": "ipython3",
   "version": "3.7.4"
  }
 },
 "nbformat": 4,
 "nbformat_minor": 2
}
