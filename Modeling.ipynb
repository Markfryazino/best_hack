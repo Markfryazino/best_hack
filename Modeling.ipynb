{
 "cells": [
  {
   "cell_type": "code",
   "execution_count": 1,
   "metadata": {},
   "outputs": [],
   "source": [
    "import pandas as pd\n",
    "import numpy as np\n",
    "import matplotlib.pyplot as plt\n",
    "import seaborn as sns\n",
    "\n",
    "sns.set()\n",
    "sns.set_style('ticks')"
   ]
  },
  {
   "cell_type": "code",
   "execution_count": 2,
   "metadata": {},
   "outputs": [],
   "source": [
    "from nltk import ngrams\n",
    "from collections import defaultdict\n",
    "from gensim.models import Word2Vec"
   ]
  },
  {
   "cell_type": "code",
   "execution_count": 3,
   "metadata": {},
   "outputs": [],
   "source": [
    "import xgboost as xgb\n",
    "from sklearn.metrics import mean_absolute_error\n",
    "from sklearn.model_selection import KFold, train_test_split\n",
    "from sklearn.linear_model import LinearRegression"
   ]
  },
  {
   "cell_type": "code",
   "execution_count": 4,
   "metadata": {},
   "outputs": [],
   "source": [
    "# data import\n",
    "train = pd.read_excel('semifinal_data/train.xlsx')\n",
    "test = pd.read_excel('semifinal_data/test.xlsx')\n",
    "descr = pd.read_excel('semifinal_data/description.xlsx')"
   ]
  },
  {
   "cell_type": "code",
   "execution_count": 5,
   "metadata": {},
   "outputs": [],
   "source": [
    "# word info gathering\n",
    "train['Full_descr'] = train['Shrt_Desc'].values + ' ' +\\\n",
    "    train['GmWt_Desc1'].fillna('').values + ' ' +\\\n",
    "    train['GmWt_Desc2'].fillna('').values\n",
    "\n",
    "train = train.drop(['Shrt_Desc', 'GmWt_Desc1', 'GmWt_Desc2'], axis = 1)\n",
    "\n",
    "test['Full_descr'] = test['Shrt_Desc'].values + ' ' +\\\n",
    "    test['GmWt_Desc1'].fillna('').values + ' ' +\\\n",
    "    test['GmWt_Desc2'].fillna('').values\n",
    "\n",
    "test = test.drop(['Shrt_Desc', 'GmWt_Desc1', 'GmWt_Desc2'], axis = 1)"
   ]
  },
  {
   "cell_type": "code",
   "execution_count": 6,
   "metadata": {},
   "outputs": [],
   "source": [
    "def prepare_description(description):\n",
    "    word_form = description.lower().split()\n",
    "        \n",
    "    res = []\n",
    "    for i in word_form:\n",
    "        res += i.split(',')\n",
    "        \n",
    "    for i in range(len(res)):\n",
    "        try_to_find = res[i].find('w/')\n",
    "        if (try_to_find != -1):\n",
    "            res[i] = res[i][:try_to_find] + res[i][try_to_find + 2:]\n",
    "        \n",
    "    return res\n",
    "\n",
    "# lowering and deleting 'w/' substrings\n",
    "word_information = train['Full_descr'].apply(prepare_description)\n",
    "\n",
    "word_information_test = test['Full_descr'].apply(prepare_description)"
   ]
  },
  {
   "cell_type": "code",
   "execution_count": 7,
   "metadata": {},
   "outputs": [],
   "source": [
    "text = []\n",
    "for i in range(1, 14):\n",
    "    with open(\".\\semifinal_files\\\\book_{}.txt\".format(i), 'r') as file:\n",
    "        text += [eval(file.read())]\n",
    "\n",
    "# lowering and getting rid of short useless words, \n",
    "# which sometimes appear in this dataset\n",
    "for i in range(len(text)):\n",
    "    j = 0\n",
    "    while j < len(text[i]):\n",
    "        text[i][j] = text[i][j].lower()\n",
    "        \n",
    "        if len(text[i][j]) == 1:\n",
    "            text[i].pop(j)\n",
    "            j -= 1\n",
    "        j += 1"
   ]
  },
  {
   "cell_type": "code",
   "execution_count": 10,
   "metadata": {},
   "outputs": [],
   "source": [
    "cook_book = Word2Vec(text, min_count=1, size=15, workers=5,\n",
    "                 window=4, sg = 2, iter = 5)"
   ]
  },
  {
   "cell_type": "code",
   "execution_count": 11,
   "metadata": {},
   "outputs": [],
   "source": [
    "all_words = set()\n",
    "for item in cook_book.wv.vocab:\n",
    "    all_words.add(item)"
   ]
  },
  {
   "cell_type": "markdown",
   "metadata": {},
   "source": [
    "Каждому типу продукта сопоставим слова из доступного словаря:\\\n",
    "1) Хлебобулочные изделия : 'bakery', 'bread', 'loaf', 'bun'\\\n",
    "2) Жидкость : 'liquid', 'water', 'juice', 'wine', 'cocktail'\\\n",
    "3) Молочная продукция : 'milk', 'dairy', 'yogurt', 'buttermilk'\\\n",
    "4) Мясная продукция : 'meat', 'lamb', 'pork', 'mutton'\\\n",
    "5) Овощи / фрукты : 'fruit', 'vegetable', 'apple', 'banana', 'tomato', 'cucumber'\\"
   ]
  },
  {
   "cell_type": "code",
   "execution_count": 12,
   "metadata": {},
   "outputs": [],
   "source": [
    "def get_voting(description, key_words, min_confidence = 0.1):\n",
    "    votes = 0\n",
    "    sum_confidence = 0\n",
    "    for word in description:\n",
    "        if word in all_words:\n",
    "            for key_word in key_words:\n",
    "                sim = cook_book.wv.similarity(word, key_word)\n",
    "                if sim >= min_confidence: \n",
    "                    sum_confidence += sim\n",
    "                    votes += 1\n",
    "    if not votes:\n",
    "        return 0\n",
    "    return sum_confidence / votes"
   ]
  },
  {
   "cell_type": "code",
   "execution_count": 14,
   "metadata": {},
   "outputs": [],
   "source": [
    "label = [[]]*6\n",
    "label[1] = ['bakery', 'bread', 'loaf', 'bun', 'sugar']\n",
    "label[2] = ['liquid', 'water', 'juice', 'wine', 'cocktail']\n",
    "label[3] = ['milk', 'dairy', 'yogurt', 'buttermilk']\n",
    "label[4] = ['meat', 'lamb', 'pork', 'mutton', 'bone', 'raw']\n",
    "label[5] = ['fruit', 'vegetable', 'salad', 'exotic']\n",
    "\n",
    "for i in range(1, 6):\n",
    "    train['label_{}'.format(i)] = word_information.apply(lambda x : get_voting(x, label[i], 0.2))\n",
    "    \n",
    "for i in range(1, 6):\n",
    "    test['label_{}'.format(i)] = word_information_test.apply(lambda x : get_voting(x, label[i], 0.2))"
   ]
  },
  {
   "cell_type": "code",
   "execution_count": 15,
   "metadata": {},
   "outputs": [],
   "source": [
    "label_columns = ['label_{}'.format(i) for i in range(1, 6)]"
   ]
  },
  {
   "cell_type": "code",
   "execution_count": 16,
   "metadata": {},
   "outputs": [
    {
     "name": "stderr",
     "output_type": "stream",
     "text": [
      "c:\\users\\shepe\\python\\lib\\site-packages\\ipykernel_launcher.py:1: FutureWarning: \n",
      "The current behaviour of 'Series.argmax' is deprecated, use 'idxmax'\n",
      "instead.\n",
      "The behavior of 'argmax' will be corrected to return the positional\n",
      "maximum in the future. For now, use 'series.values.argmax' or\n",
      "'np.argmax(np.array(values))' to get the position of the maximum\n",
      "row.\n",
      "  \"\"\"Entry point for launching an IPython kernel.\n"
     ]
    }
   ],
   "source": [
    "train_res = train[label_columns].apply(lambda x : x.argmax(), axis=1)"
   ]
  },
  {
   "cell_type": "code",
   "execution_count": 17,
   "metadata": {},
   "outputs": [
    {
     "name": "stderr",
     "output_type": "stream",
     "text": [
      "c:\\users\\shepe\\python\\lib\\site-packages\\ipykernel_launcher.py:1: FutureWarning: \n",
      "The current behaviour of 'Series.argmax' is deprecated, use 'idxmax'\n",
      "instead.\n",
      "The behavior of 'argmax' will be corrected to return the positional\n",
      "maximum in the future. For now, use 'series.values.argmax' or\n",
      "'np.argmax(np.array(values))' to get the position of the maximum\n",
      "row.\n",
      "  \"\"\"Entry point for launching an IPython kernel.\n"
     ]
    }
   ],
   "source": [
    "test_res = test[label_columns].apply(lambda x : x.argmax(), axis=1)"
   ]
  },
  {
   "cell_type": "code",
   "execution_count": 19,
   "metadata": {},
   "outputs": [
    {
     "name": "stderr",
     "output_type": "stream",
     "text": [
      "c:\\users\\shepe\\python\\lib\\site-packages\\ipykernel_launcher.py:1: FutureWarning: The signature of `Series.to_csv` was aligned to that of `DataFrame.to_csv`, and argument 'header' will change its default value from False to True: please pass an explicit value to suppress this warning.\n",
      "  \"\"\"Entry point for launching an IPython kernel.\n"
     ]
    }
   ],
   "source": [
    "test_res.to_csv('Pred_extra_1.csv')"
   ]
  }
 ],
 "metadata": {
  "kernelspec": {
   "display_name": "Python 3",
   "language": "python",
   "name": "python3"
  },
  "language_info": {
   "codemirror_mode": {
    "name": "ipython",
    "version": 3
   },
   "file_extension": ".py",
   "mimetype": "text/x-python",
   "name": "python",
   "nbconvert_exporter": "python",
   "pygments_lexer": "ipython3",
   "version": "3.7.4"
  }
 },
 "nbformat": 4,
 "nbformat_minor": 2
}
