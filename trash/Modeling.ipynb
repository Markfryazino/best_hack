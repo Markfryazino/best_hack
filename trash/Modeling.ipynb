{
 "cells": [
  {
   "cell_type": "code",
   "execution_count": 1,
   "metadata": {},
   "outputs": [],
   "source": [
    "import pandas as pd\n",
    "import numpy as np\n",
    "import matplotlib.pyplot as plt\n",
    "import seaborn as sns\n",
    "\n",
    "sns.set()\n",
    "sns.set_style('ticks')"
   ]
  },
  {
   "cell_type": "code",
   "execution_count": 2,
   "metadata": {},
   "outputs": [],
   "source": [
    "from nltk import ngrams\n",
    "from collections import defaultdict\n",
    "from gensim.models import Word2Vec"
   ]
  },
  {
   "cell_type": "code",
   "execution_count": null,
   "metadata": {},
   "outputs": [],
   "source": [
    "#########################"
   ]
  },
  {
   "cell_type": "code",
   "execution_count": 87,
   "metadata": {},
   "outputs": [],
   "source": [
    "for i in range(5):\n",
    "    knn_model = KNN(n_neighbors = 10 + i*5)\n",
    "    knn_model.fit(train[w2v_columns], train['Energ_Kcal'])\n",
    "    temp = knn_model.predict(train[w2v_columns])\n",
    "    train['knn_{}'.format(5 + i*5)] = temp"
   ]
  },
  {
   "cell_type": "code",
   "execution_count": 86,
   "metadata": {},
   "outputs": [],
   "source": [
    "from sklearn.neighbors import KNeighborsRegressor as KNN"
   ]
  },
  {
   "cell_type": "code",
   "execution_count": 14,
   "metadata": {},
   "outputs": [],
   "source": [
    "import xgboost as xgb\n",
    "from sklearn.metrics import mean_absolute_error\n",
    "from sklearn.model_selection import KFold, train_test_split\n",
    "from sklearn.linear_model import LinearRegression"
   ]
  },
  {
   "cell_type": "code",
   "execution_count": 88,
   "metadata": {},
   "outputs": [],
   "source": [
    "all_names = train.columns.values"
   ]
  },
  {
   "cell_type": "code",
   "execution_count": 89,
   "metadata": {},
   "outputs": [],
   "source": [
    "class full_model:\n",
    "    def __init__(self):\n",
    "        self.xgb = xgb.XGBRegressor(silent=True)\n",
    "        self.lin = LinearRegression()\n",
    "        #self.lin2 = LinearRegression()\n",
    "        \n",
    "    def fit(self, X, y):\n",
    "        self.xgb.fit(X, y, eval_metric = mean_absolute_error)\n",
    "        self.lin.fit(X, y)\n",
    "        #self.lin2.fit(np.concatenate((self.xgb.predict(X).reshape(-1, 1),\n",
    "        #            self.lin.predict(X).reshape(-1, 1)), axis=1), y)\n",
    "        \n",
    "    def predict(self, X):\n",
    "        #return self.lin2.predict(np.concatenate((self.xgb.predict(X).reshape(-1, 1),\n",
    "        #            self.lin.predict(X).reshape(-1, 1)), axis=1))\n",
    "        return 0.5 * (self.xgb.predict(X) + self.lin.predict(X))"
   ]
  },
  {
   "cell_type": "code",
   "execution_count": 90,
   "metadata": {},
   "outputs": [],
   "source": [
    "train = train.fillna(0)"
   ]
  },
  {
   "cell_type": "code",
   "execution_count": 91,
   "metadata": {},
   "outputs": [],
   "source": [
    "def trainXGB(names_list):\n",
    "    X_train, X_test, y_train, y_test = train_test_split(\n",
    "        train[names_list].drop(['Energ_Kcal', 'Full_descr'],\n",
    "            axis=1), train['Energ_Kcal'], test_size=0.1, random_state=42)\n",
    "    \n",
    "    kf = KFold(n_splits=5, random_state=None, shuffle=True)\n",
    "    ans = []\n",
    "    ans2 = []\n",
    "    for train_index, val_index in kf.split(X_train):\n",
    "        model = full_model()\n",
    "        X_ktrain, X_val = X_train.iloc[train_index], X_train.iloc[val_index]\n",
    "        y_ktrain, y_val = y_train.iloc[train_index], y_train.iloc[val_index]\n",
    "        model.fit(X_ktrain.values, y_ktrain.values)\n",
    "        ans += [mean_absolute_error(model.predict(X_test.values), y_test)]\n",
    "        ans2 += [mean_absolute_error(model.predict(X_val.values), y_val)]\n",
    "        \n",
    "        #\n",
    "        #\n",
    "        #break\n",
    "        \n",
    "    return np.array(ans), np.array(ans2)"
   ]
  },
  {
   "cell_type": "code",
   "execution_count": 92,
   "metadata": {
    "scrolled": true
   },
   "outputs": [
    {
     "data": {
      "text/plain": [
       "array([6.15149628, 6.3127459 , 6.25126594, 6.07384851, 6.39481496])"
      ]
     },
     "execution_count": 92,
     "metadata": {},
     "output_type": "execute_result"
    }
   ],
   "source": [
    "all_res, all_res_val = trainXGB(all_names)\n",
    "all_res"
   ]
  },
  {
   "cell_type": "code",
   "execution_count": 93,
   "metadata": {},
   "outputs": [
    {
     "data": {
      "text/plain": [
       "array([6.13274776, 6.16907667, 5.99187875, 6.1507376 , 5.80413142])"
      ]
     },
     "execution_count": 93,
     "metadata": {},
     "output_type": "execute_result"
    }
   ],
   "source": [
    "all_res_val"
   ]
  },
  {
   "cell_type": "code",
   "execution_count": 189,
   "metadata": {},
   "outputs": [],
   "source": [
    "#############################"
   ]
  },
  {
   "cell_type": "code",
   "execution_count": 10,
   "metadata": {},
   "outputs": [],
   "source": [
    "# data import\n",
    "train = pd.read_excel('semifinal_data/train.xlsx')\n",
    "test = pd.read_excel('semifinal_data/test.xlsx')\n",
    "descr = pd.read_excel('semifinal_data/description.xlsx')"
   ]
  },
  {
   "cell_type": "code",
   "execution_count": 11,
   "metadata": {},
   "outputs": [],
   "source": [
    "# word info gathering\n",
    "train['Full_descr'] = train['Shrt_Desc'].values + ' ' +\\\n",
    "    train['GmWt_Desc1'].fillna('').values + ' ' +\\\n",
    "    train['GmWt_Desc2'].fillna('').values\n",
    "\n",
    "train = train.drop(['Shrt_Desc', 'GmWt_Desc1', 'GmWt_Desc2'], axis = 1)"
   ]
  },
  {
   "cell_type": "code",
   "execution_count": 12,
   "metadata": {},
   "outputs": [],
   "source": [
    "def prepare_description(description):\n",
    "    word_form = description.lower().split()\n",
    "        \n",
    "    res = []\n",
    "    for i in word_form:\n",
    "        res += i.split(',')\n",
    "        \n",
    "    for i in range(len(res)):\n",
    "        try_to_find = res[i].find('w/')\n",
    "        if (try_to_find != -1):\n",
    "            res[i] = res[i][:try_to_find] + res[i][try_to_find + 2:]\n",
    "        \n",
    "    return res\n",
    "\n",
    "# lowering and deleting 'w/' substrings\n",
    "word_information = train['Full_descr'].apply(prepare_description)"
   ]
  },
  {
   "cell_type": "code",
   "execution_count": 13,
   "metadata": {},
   "outputs": [],
   "source": [
    "text = []\n",
    "for i in range(1, 14):\n",
    "    with open(\"semifinal_files/book_{}.txt\".format(i), 'r') as file:\n",
    "        text += [eval(file.read())]\n",
    "\n",
    "# lowering and getting rid of short useless words, \n",
    "# which sometimes appear in this dataset\n",
    "for i in range(len(text)):\n",
    "    j = 0\n",
    "    while j < len(text[i]):\n",
    "        text[i][j] = text[i][j].lower()\n",
    "        \n",
    "        if len(text[i][j]) == 1:\n",
    "            text[i].pop(j)\n",
    "            j -= 1\n",
    "        j += 1"
   ]
  },
  {
   "cell_type": "code",
   "execution_count": 14,
   "metadata": {},
   "outputs": [],
   "source": [
    "cook_book = Word2Vec(text, min_count=1, workers=5,\n",
    "                 window=4, sg = 2, iter = 5)"
   ]
  },
  {
   "cell_type": "code",
   "execution_count": 15,
   "metadata": {},
   "outputs": [],
   "source": [
    "all_words = set()\n",
    "for item in cook_book.wv.vocab:\n",
    "    all_words.add(item)"
   ]
  },
  {
   "cell_type": "markdown",
   "metadata": {},
   "source": [
    "Каждому типу продукта сопоставим слова из доступного словаря:\\\n",
    "1) Хлебобулочные изделия : 'bakery', 'bread', 'loaf', 'bun'\\\n",
    "2) Жидкость : 'liquid', 'water', 'juice', 'wine', 'cocktail'\\\n",
    "3) Молочная продукция : 'milk', 'dairy', 'yogurt', 'buttermilk'\\\n",
    "4) Мясная продукция : 'meat', 'lamb', 'pork', 'mutton'\\\n",
    "5) Овощи / фрукты : 'fruit', 'vegetable', 'apple', 'banana', 'tomato', 'cucumber'\\"
   ]
  },
  {
   "cell_type": "code",
   "execution_count": 16,
   "metadata": {},
   "outputs": [],
   "source": [
    "def get_voting(description, key_words, min_confidence = 0.1):\n",
    "    votes = 0\n",
    "    sum_confidence = 0\n",
    "    for word in description:\n",
    "        if word in all_words:\n",
    "            for key_word in key_words:\n",
    "                sim = cook_book.wv.similarity(word, key_word)\n",
    "                if sim >= min_confidence: \n",
    "                    sum_confidence += sim\n",
    "                    votes += 1\n",
    "    if not votes:\n",
    "        return 0\n",
    "    return sum_confidence / votes"
   ]
  },
  {
   "cell_type": "code",
   "execution_count": 18,
   "metadata": {},
   "outputs": [],
   "source": [
    "label = [[]]*6\n",
    "label[1] = ['bakery', 'bread', 'loaf', 'bun', 'sugar']\n",
    "label[2] = ['liquid', 'water', 'juice', 'wine', 'cocktail']\n",
    "label[3] = ['milk', 'dairy', 'yogurt', 'buttermilk']\n",
    "label[4] = ['meat', 'lamb', 'pork', 'mutton', 'bone', 'raw']\n",
    "label[5] = ['fruit', 'vegetable', 'salad', 'exotic']\n",
    "\n",
    "for i in range(1, 6):\n",
    "    train['label_{}'.format(i)] = word_information.apply(lambda x : get_voting(x, label[i], 0.2))"
   ]
  },
  {
   "cell_type": "code",
   "execution_count": 21,
   "metadata": {},
   "outputs": [
    {
     "data": {
      "text/html": [
       "<div>\n",
       "<style scoped>\n",
       "    .dataframe tbody tr th:only-of-type {\n",
       "        vertical-align: middle;\n",
       "    }\n",
       "\n",
       "    .dataframe tbody tr th {\n",
       "        vertical-align: top;\n",
       "    }\n",
       "\n",
       "    .dataframe thead th {\n",
       "        text-align: right;\n",
       "    }\n",
       "</style>\n",
       "<table border=\"1\" class=\"dataframe\">\n",
       "  <thead>\n",
       "    <tr style=\"text-align: right;\">\n",
       "      <th></th>\n",
       "      <th>Water_(g)</th>\n",
       "      <th>Energ_Kcal</th>\n",
       "      <th>Protein_(g)</th>\n",
       "      <th>Lipid_Tot_(g)</th>\n",
       "      <th>Ash_(g)</th>\n",
       "      <th>Carbohydrt_(g)</th>\n",
       "      <th>Fiber_TD_(g)</th>\n",
       "      <th>Sugar_Tot_(g)</th>\n",
       "      <th>Calcium_(mg)</th>\n",
       "      <th>Iron_(mg)</th>\n",
       "      <th>...</th>\n",
       "      <th>Cholestrl_(mg)</th>\n",
       "      <th>GmWt_1</th>\n",
       "      <th>GmWt_2</th>\n",
       "      <th>Refuse_Pct</th>\n",
       "      <th>Full_descr</th>\n",
       "      <th>label_1</th>\n",
       "      <th>label_2</th>\n",
       "      <th>label_3</th>\n",
       "      <th>label_4</th>\n",
       "      <th>label_5</th>\n",
       "    </tr>\n",
       "  </thead>\n",
       "  <tbody>\n",
       "    <tr>\n",
       "      <td>0</td>\n",
       "      <td>4.70</td>\n",
       "      <td>393</td>\n",
       "      <td>12.00</td>\n",
       "      <td>6.00</td>\n",
       "      <td>3.90</td>\n",
       "      <td>73.40</td>\n",
       "      <td>5.2</td>\n",
       "      <td>13.75</td>\n",
       "      <td>651.0</td>\n",
       "      <td>47.50</td>\n",
       "      <td>...</td>\n",
       "      <td>0.0</td>\n",
       "      <td>2.0</td>\n",
       "      <td>15.0</td>\n",
       "      <td>0.0</td>\n",
       "      <td>BABYFOOD,CRL,OATMEAL,W/BANANAS,DRY 1 tbsp .5 oz</td>\n",
       "      <td>0.903862</td>\n",
       "      <td>0.882051</td>\n",
       "      <td>0.891199</td>\n",
       "      <td>0.904462</td>\n",
       "      <td>0.835817</td>\n",
       "    </tr>\n",
       "    <tr>\n",
       "      <td>1</td>\n",
       "      <td>90.20</td>\n",
       "      <td>28</td>\n",
       "      <td>2.52</td>\n",
       "      <td>0.62</td>\n",
       "      <td>2.04</td>\n",
       "      <td>4.62</td>\n",
       "      <td>2.4</td>\n",
       "      <td>NaN</td>\n",
       "      <td>58.0</td>\n",
       "      <td>3.13</td>\n",
       "      <td>...</td>\n",
       "      <td>0.0</td>\n",
       "      <td>146.0</td>\n",
       "      <td>33.0</td>\n",
       "      <td>0.0</td>\n",
       "      <td>HEARTS OF PALM,CANNED 1 cup 1 piece</td>\n",
       "      <td>0.917030</td>\n",
       "      <td>0.887706</td>\n",
       "      <td>0.912919</td>\n",
       "      <td>0.898939</td>\n",
       "      <td>0.952904</td>\n",
       "    </tr>\n",
       "    <tr>\n",
       "      <td>2</td>\n",
       "      <td>63.89</td>\n",
       "      <td>196</td>\n",
       "      <td>24.06</td>\n",
       "      <td>11.09</td>\n",
       "      <td>1.56</td>\n",
       "      <td>0.00</td>\n",
       "      <td>0.0</td>\n",
       "      <td>0.00</td>\n",
       "      <td>13.0</td>\n",
       "      <td>0.97</td>\n",
       "      <td>...</td>\n",
       "      <td>130.0</td>\n",
       "      <td>89.0</td>\n",
       "      <td>85.0</td>\n",
       "      <td>29.0</td>\n",
       "      <td>CHICKEN,BROILERS OR FRYERS,THIGH,MEAT ONLY,CKD...</td>\n",
       "      <td>0.878424</td>\n",
       "      <td>0.851435</td>\n",
       "      <td>0.852720</td>\n",
       "      <td>0.907550</td>\n",
       "      <td>0.924382</td>\n",
       "    </tr>\n",
       "    <tr>\n",
       "      <td>3</td>\n",
       "      <td>54.73</td>\n",
       "      <td>280</td>\n",
       "      <td>20.43</td>\n",
       "      <td>21.35</td>\n",
       "      <td>3.51</td>\n",
       "      <td>0.00</td>\n",
       "      <td>0.0</td>\n",
       "      <td>0.00</td>\n",
       "      <td>10.0</td>\n",
       "      <td>0.95</td>\n",
       "      <td>...</td>\n",
       "      <td>58.0</td>\n",
       "      <td>140.0</td>\n",
       "      <td>85.0</td>\n",
       "      <td>27.0</td>\n",
       "      <td>PORK,CURED,SHLDR,ARM PICNIC,LN&amp;FAT,RSTD 1 cup ...</td>\n",
       "      <td>0.945092</td>\n",
       "      <td>0.909155</td>\n",
       "      <td>0.941600</td>\n",
       "      <td>0.935186</td>\n",
       "      <td>0.936590</td>\n",
       "    </tr>\n",
       "    <tr>\n",
       "      <td>4</td>\n",
       "      <td>94.78</td>\n",
       "      <td>18</td>\n",
       "      <td>0.00</td>\n",
       "      <td>0.00</td>\n",
       "      <td>0.02</td>\n",
       "      <td>0.04</td>\n",
       "      <td>0.0</td>\n",
       "      <td>0.04</td>\n",
       "      <td>6.0</td>\n",
       "      <td>0.03</td>\n",
       "      <td>...</td>\n",
       "      <td>0.0</td>\n",
       "      <td>14.0</td>\n",
       "      <td>238.0</td>\n",
       "      <td>0.0</td>\n",
       "      <td>VINEGAR,DISTILLED 1 tbsp 1 cup</td>\n",
       "      <td>0.924237</td>\n",
       "      <td>0.898129</td>\n",
       "      <td>0.941379</td>\n",
       "      <td>0.853670</td>\n",
       "      <td>0.945844</td>\n",
       "    </tr>\n",
       "    <tr>\n",
       "      <td>...</td>\n",
       "      <td>...</td>\n",
       "      <td>...</td>\n",
       "      <td>...</td>\n",
       "      <td>...</td>\n",
       "      <td>...</td>\n",
       "      <td>...</td>\n",
       "      <td>...</td>\n",
       "      <td>...</td>\n",
       "      <td>...</td>\n",
       "      <td>...</td>\n",
       "      <td>...</td>\n",
       "      <td>...</td>\n",
       "      <td>...</td>\n",
       "      <td>...</td>\n",
       "      <td>...</td>\n",
       "      <td>...</td>\n",
       "      <td>...</td>\n",
       "      <td>...</td>\n",
       "      <td>...</td>\n",
       "      <td>...</td>\n",
       "      <td>...</td>\n",
       "    </tr>\n",
       "    <tr>\n",
       "      <td>7751</td>\n",
       "      <td>77.33</td>\n",
       "      <td>119</td>\n",
       "      <td>17.54</td>\n",
       "      <td>4.93</td>\n",
       "      <td>1.08</td>\n",
       "      <td>0.00</td>\n",
       "      <td>0.0</td>\n",
       "      <td>NaN</td>\n",
       "      <td>60.0</td>\n",
       "      <td>0.90</td>\n",
       "      <td>...</td>\n",
       "      <td>64.0</td>\n",
       "      <td>85.0</td>\n",
       "      <td>198.0</td>\n",
       "      <td>0.0</td>\n",
       "      <td>DRUM,FRESHWATER,RAW 3 oz 1 fillet</td>\n",
       "      <td>0.944371</td>\n",
       "      <td>0.902569</td>\n",
       "      <td>0.939408</td>\n",
       "      <td>0.933046</td>\n",
       "      <td>0.911712</td>\n",
       "    </tr>\n",
       "    <tr>\n",
       "      <td>7752</td>\n",
       "      <td>63.95</td>\n",
       "      <td>224</td>\n",
       "      <td>20.59</td>\n",
       "      <td>15.04</td>\n",
       "      <td>0.87</td>\n",
       "      <td>0.00</td>\n",
       "      <td>0.0</td>\n",
       "      <td>0.00</td>\n",
       "      <td>23.0</td>\n",
       "      <td>1.47</td>\n",
       "      <td>...</td>\n",
       "      <td>80.0</td>\n",
       "      <td>85.0</td>\n",
       "      <td>NaN</td>\n",
       "      <td>9.0</td>\n",
       "      <td>BEEF,LOIN,TOP LOIN,LN &amp; FAT,1/8\" FAT,SEL,RAW 3...</td>\n",
       "      <td>0.889046</td>\n",
       "      <td>0.846518</td>\n",
       "      <td>0.867114</td>\n",
       "      <td>0.934771</td>\n",
       "      <td>0.908709</td>\n",
       "    </tr>\n",
       "    <tr>\n",
       "      <td>7753</td>\n",
       "      <td>74.00</td>\n",
       "      <td>132</td>\n",
       "      <td>5.06</td>\n",
       "      <td>7.59</td>\n",
       "      <td>2.09</td>\n",
       "      <td>11.27</td>\n",
       "      <td>1.8</td>\n",
       "      <td>NaN</td>\n",
       "      <td>119.0</td>\n",
       "      <td>0.64</td>\n",
       "      <td>...</td>\n",
       "      <td>15.0</td>\n",
       "      <td>245.0</td>\n",
       "      <td>NaN</td>\n",
       "      <td>0.0</td>\n",
       "      <td>POTATOES,AU GRATIN,HOME-PREPARED FROM RECIPE U...</td>\n",
       "      <td>0.891210</td>\n",
       "      <td>0.846278</td>\n",
       "      <td>0.832915</td>\n",
       "      <td>0.916679</td>\n",
       "      <td>0.899715</td>\n",
       "    </tr>\n",
       "    <tr>\n",
       "      <td>7754</td>\n",
       "      <td>79.36</td>\n",
       "      <td>74</td>\n",
       "      <td>0.28</td>\n",
       "      <td>0.12</td>\n",
       "      <td>0.33</td>\n",
       "      <td>19.91</td>\n",
       "      <td>2.6</td>\n",
       "      <td>NaN</td>\n",
       "      <td>4.0</td>\n",
       "      <td>0.43</td>\n",
       "      <td>...</td>\n",
       "      <td>0.0</td>\n",
       "      <td>193.0</td>\n",
       "      <td>NaN</td>\n",
       "      <td>0.0</td>\n",
       "      <td>APPLES,DEHYD (LO MOIST),SULFURED,STWD 1 cup</td>\n",
       "      <td>0.944440</td>\n",
       "      <td>0.896799</td>\n",
       "      <td>0.948496</td>\n",
       "      <td>0.929006</td>\n",
       "      <td>0.986852</td>\n",
       "    </tr>\n",
       "    <tr>\n",
       "      <td>7755</td>\n",
       "      <td>74.03</td>\n",
       "      <td>109</td>\n",
       "      <td>24.40</td>\n",
       "      <td>0.49</td>\n",
       "      <td>1.64</td>\n",
       "      <td>0.00</td>\n",
       "      <td>0.0</td>\n",
       "      <td>0.00</td>\n",
       "      <td>4.0</td>\n",
       "      <td>0.77</td>\n",
       "      <td>...</td>\n",
       "      <td>39.0</td>\n",
       "      <td>28.0</td>\n",
       "      <td>16.0</td>\n",
       "      <td>0.0</td>\n",
       "      <td>TUNA,FRESH,YELLOWFIN,RAW 1 oz, boneless 1 cubi...</td>\n",
       "      <td>0.940358</td>\n",
       "      <td>0.908936</td>\n",
       "      <td>0.930029</td>\n",
       "      <td>0.922048</td>\n",
       "      <td>0.942042</td>\n",
       "    </tr>\n",
       "  </tbody>\n",
       "</table>\n",
       "<p>7756 rows × 55 columns</p>\n",
       "</div>"
      ],
      "text/plain": [
       "      Water_(g)  Energ_Kcal  Protein_(g)  Lipid_Tot_(g)  Ash_(g)  \\\n",
       "0          4.70         393        12.00           6.00     3.90   \n",
       "1         90.20          28         2.52           0.62     2.04   \n",
       "2         63.89         196        24.06          11.09     1.56   \n",
       "3         54.73         280        20.43          21.35     3.51   \n",
       "4         94.78          18         0.00           0.00     0.02   \n",
       "...         ...         ...          ...            ...      ...   \n",
       "7751      77.33         119        17.54           4.93     1.08   \n",
       "7752      63.95         224        20.59          15.04     0.87   \n",
       "7753      74.00         132         5.06           7.59     2.09   \n",
       "7754      79.36          74         0.28           0.12     0.33   \n",
       "7755      74.03         109        24.40           0.49     1.64   \n",
       "\n",
       "      Carbohydrt_(g)  Fiber_TD_(g)  Sugar_Tot_(g)  Calcium_(mg)  Iron_(mg)  \\\n",
       "0              73.40           5.2          13.75         651.0      47.50   \n",
       "1               4.62           2.4            NaN          58.0       3.13   \n",
       "2               0.00           0.0           0.00          13.0       0.97   \n",
       "3               0.00           0.0           0.00          10.0       0.95   \n",
       "4               0.04           0.0           0.04           6.0       0.03   \n",
       "...              ...           ...            ...           ...        ...   \n",
       "7751            0.00           0.0            NaN          60.0       0.90   \n",
       "7752            0.00           0.0           0.00          23.0       1.47   \n",
       "7753           11.27           1.8            NaN         119.0       0.64   \n",
       "7754           19.91           2.6            NaN           4.0       0.43   \n",
       "7755            0.00           0.0           0.00           4.0       0.77   \n",
       "\n",
       "      ...  Cholestrl_(mg)  GmWt_1  GmWt_2  Refuse_Pct  \\\n",
       "0     ...             0.0     2.0    15.0         0.0   \n",
       "1     ...             0.0   146.0    33.0         0.0   \n",
       "2     ...           130.0    89.0    85.0        29.0   \n",
       "3     ...            58.0   140.0    85.0        27.0   \n",
       "4     ...             0.0    14.0   238.0         0.0   \n",
       "...   ...             ...     ...     ...         ...   \n",
       "7751  ...            64.0    85.0   198.0         0.0   \n",
       "7752  ...            80.0    85.0     NaN         9.0   \n",
       "7753  ...            15.0   245.0     NaN         0.0   \n",
       "7754  ...             0.0   193.0     NaN         0.0   \n",
       "7755  ...            39.0    28.0    16.0         0.0   \n",
       "\n",
       "                                             Full_descr   label_1   label_2  \\\n",
       "0       BABYFOOD,CRL,OATMEAL,W/BANANAS,DRY 1 tbsp .5 oz  0.903862  0.882051   \n",
       "1                   HEARTS OF PALM,CANNED 1 cup 1 piece  0.917030  0.887706   \n",
       "2     CHICKEN,BROILERS OR FRYERS,THIGH,MEAT ONLY,CKD...  0.878424  0.851435   \n",
       "3     PORK,CURED,SHLDR,ARM PICNIC,LN&FAT,RSTD 1 cup ...  0.945092  0.909155   \n",
       "4                        VINEGAR,DISTILLED 1 tbsp 1 cup  0.924237  0.898129   \n",
       "...                                                 ...       ...       ...   \n",
       "7751                  DRUM,FRESHWATER,RAW 3 oz 1 fillet  0.944371  0.902569   \n",
       "7752  BEEF,LOIN,TOP LOIN,LN & FAT,1/8\" FAT,SEL,RAW 3...  0.889046  0.846518   \n",
       "7753  POTATOES,AU GRATIN,HOME-PREPARED FROM RECIPE U...  0.891210  0.846278   \n",
       "7754       APPLES,DEHYD (LO MOIST),SULFURED,STWD 1 cup   0.944440  0.896799   \n",
       "7755  TUNA,FRESH,YELLOWFIN,RAW 1 oz, boneless 1 cubi...  0.940358  0.908936   \n",
       "\n",
       "       label_3   label_4   label_5  \n",
       "0     0.891199  0.904462  0.835817  \n",
       "1     0.912919  0.898939  0.952904  \n",
       "2     0.852720  0.907550  0.924382  \n",
       "3     0.941600  0.935186  0.936590  \n",
       "4     0.941379  0.853670  0.945844  \n",
       "...        ...       ...       ...  \n",
       "7751  0.939408  0.933046  0.911712  \n",
       "7752  0.867114  0.934771  0.908709  \n",
       "7753  0.832915  0.916679  0.899715  \n",
       "7754  0.948496  0.929006  0.986852  \n",
       "7755  0.930029  0.922048  0.942042  \n",
       "\n",
       "[7756 rows x 55 columns]"
      ]
     },
     "execution_count": 21,
     "metadata": {},
     "output_type": "execute_result"
    }
   ],
   "source": [
    "train"
   ]
  },
  {
   "cell_type": "code",
   "execution_count": 19,
   "metadata": {},
   "outputs": [],
   "source": [
    "label_columns = ['label_{}'.format(i) for i in range(1, 6)]"
   ]
  },
  {
   "cell_type": "code",
   "execution_count": 20,
   "metadata": {},
   "outputs": [
    {
     "name": "stderr",
     "output_type": "stream",
     "text": [
      "/home/data_sapiens/Anaconda/lib/python3.7/site-packages/ipykernel_launcher.py:1: FutureWarning: \n",
      "The current behaviour of 'Series.argmax' is deprecated, use 'idxmax'\n",
      "instead.\n",
      "The behavior of 'argmax' will be corrected to return the positional\n",
      "maximum in the future. For now, use 'series.values.argmax' or\n",
      "'np.argmax(np.array(values))' to get the position of the maximum\n",
      "row.\n",
      "  \"\"\"Entry point for launching an IPython kernel.\n"
     ]
    },
    {
     "data": {
      "text/plain": [
       "0       label_4\n",
       "1       label_5\n",
       "2       label_5\n",
       "3       label_1\n",
       "4       label_5\n",
       "         ...   \n",
       "7751    label_1\n",
       "7752    label_4\n",
       "7753    label_4\n",
       "7754    label_5\n",
       "7755    label_5\n",
       "Length: 7756, dtype: object"
      ]
     },
     "execution_count": 20,
     "metadata": {},
     "output_type": "execute_result"
    }
   ],
   "source": [
    "train[label_columns].apply(lambda x : x.argmax(), axis=1)"
   ]
  },
  {
   "cell_type": "code",
   "execution_count": 233,
   "metadata": {},
   "outputs": [
    {
     "data": {
      "text/plain": [
       "'TUNA,FRESH,YELLOWFIN,RAW 1 oz, boneless 1 cubic inch, boneless'"
      ]
     },
     "execution_count": 233,
     "metadata": {},
     "output_type": "execute_result"
    }
   ],
   "source": [
    "train['Full_descr'].iloc[-1]"
   ]
  },
  {
   "cell_type": "code",
   "execution_count": 151,
   "metadata": {},
   "outputs": [],
   "source": [
    "def count_includence(x):\n",
    "    res = 0\n",
    "    for i in x:\n",
    "        if i in all_words:\n",
    "            res += 1\n",
    "    return res / len(x)"
   ]
  },
  {
   "cell_type": "code",
   "execution_count": 188,
   "metadata": {
    "scrolled": true
   },
   "outputs": [
    {
     "data": {
      "text/plain": [
       "0.9573233625580196"
      ]
     },
     "execution_count": 188,
     "metadata": {},
     "output_type": "execute_result"
    }
   ],
   "source": [
    "(train['Full_descr'].apply(prepare_word).apply(count_includence) > 0.2).sum() / train.shape[0]"
   ]
  },
  {
   "cell_type": "code",
   "execution_count": null,
   "metadata": {},
   "outputs": [],
   "source": [
    "train['']"
   ]
  }
 ],
 "metadata": {
  "kernelspec": {
   "display_name": "Python 3",
   "language": "python",
   "name": "python3"
  },
  "language_info": {
   "codemirror_mode": {
    "name": "ipython",
    "version": 3
   },
   "file_extension": ".py",
   "mimetype": "text/x-python",
   "name": "python",
   "nbconvert_exporter": "python",
   "pygments_lexer": "ipython3",
   "version": "3.7.3"
  }
 },
 "nbformat": 4,
 "nbformat_minor": 2
}
