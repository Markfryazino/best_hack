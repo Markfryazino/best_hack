{
 "cells": [
  {
   "cell_type": "code",
   "execution_count": 1,
   "metadata": {},
   "outputs": [],
   "source": [
    "import pandas as pd\n",
    "import numpy as np\n",
    "import matplotlib.pyplot as plt\n",
    "import seaborn as sns\n",
    "sns.set()\n",
    "sns.set_style('ticks')"
   ]
  },
  {
   "cell_type": "code",
   "execution_count": 3,
   "metadata": {},
   "outputs": [],
   "source": [
    "str_cols = ['GmWt_Desc1', 'GmWt_Desc2', 'Shrt_Desc']"
   ]
  },
  {
   "cell_type": "code",
   "execution_count": 5,
   "metadata": {},
   "outputs": [
    {
     "data": {
      "text/html": [
       "<div>\n",
       "<style scoped>\n",
       "    .dataframe tbody tr th:only-of-type {\n",
       "        vertical-align: middle;\n",
       "    }\n",
       "\n",
       "    .dataframe tbody tr th {\n",
       "        vertical-align: top;\n",
       "    }\n",
       "\n",
       "    .dataframe thead th {\n",
       "        text-align: right;\n",
       "    }\n",
       "</style>\n",
       "<table border=\"1\" class=\"dataframe\">\n",
       "  <thead>\n",
       "    <tr style=\"text-align: right;\">\n",
       "      <th></th>\n",
       "      <th>GmWt_Desc1</th>\n",
       "      <th>GmWt_Desc2</th>\n",
       "      <th>Shrt_Desc</th>\n",
       "    </tr>\n",
       "  </thead>\n",
       "  <tbody>\n",
       "    <tr>\n",
       "      <td>0</td>\n",
       "      <td>1 tbsp</td>\n",
       "      <td>.5 oz</td>\n",
       "      <td>BABYFOOD,CRL,OATMEAL,W/BANANAS,DRY</td>\n",
       "    </tr>\n",
       "    <tr>\n",
       "      <td>1</td>\n",
       "      <td>1 cup</td>\n",
       "      <td>1 piece</td>\n",
       "      <td>HEARTS OF PALM,CANNED</td>\n",
       "    </tr>\n",
       "    <tr>\n",
       "      <td>2</td>\n",
       "      <td>1 thigh</td>\n",
       "      <td>1 serving,  (3 oz)</td>\n",
       "      <td>CHICKEN,BROILERS OR FRYERS,THIGH,MEAT ONLY,CKD...</td>\n",
       "    </tr>\n",
       "    <tr>\n",
       "      <td>3</td>\n",
       "      <td>1 cup</td>\n",
       "      <td>3 oz</td>\n",
       "      <td>PORK,CURED,SHLDR,ARM PICNIC,LN&amp;FAT,RSTD</td>\n",
       "    </tr>\n",
       "    <tr>\n",
       "      <td>4</td>\n",
       "      <td>1 tbsp</td>\n",
       "      <td>1 cup</td>\n",
       "      <td>VINEGAR,DISTILLED</td>\n",
       "    </tr>\n",
       "  </tbody>\n",
       "</table>\n",
       "</div>"
      ],
      "text/plain": [
       "  GmWt_Desc1          GmWt_Desc2  \\\n",
       "0     1 tbsp               .5 oz   \n",
       "1      1 cup             1 piece   \n",
       "2    1 thigh  1 serving,  (3 oz)   \n",
       "3      1 cup                3 oz   \n",
       "4     1 tbsp               1 cup   \n",
       "\n",
       "                                           Shrt_Desc  \n",
       "0                 BABYFOOD,CRL,OATMEAL,W/BANANAS,DRY  \n",
       "1                              HEARTS OF PALM,CANNED  \n",
       "2  CHICKEN,BROILERS OR FRYERS,THIGH,MEAT ONLY,CKD...  \n",
       "3            PORK,CURED,SHLDR,ARM PICNIC,LN&FAT,RSTD  \n",
       "4                                  VINEGAR,DISTILLED  "
      ]
     },
     "execution_count": 5,
     "metadata": {},
     "output_type": "execute_result"
    }
   ],
   "source": [
    "train[str_cols].head()"
   ]
  },
  {
   "cell_type": "code",
   "execution_count": 14,
   "metadata": {},
   "outputs": [
    {
     "data": {
      "text/plain": [
       "1 cup                                                                       266\n",
       "1 lb                                                                        238\n",
       "1 steak                                                                     238\n",
       "1 piece, cooked, excluding refuse (yield from 1 lb raw meat with refuse)    192\n",
       "1 oz                                                                        177\n",
       "                                                                           ... \n",
       "1 serving, 1 cup (8 fl oz)                                                    1\n",
       "1 packet,  (0.675 oz)                                                         1\n",
       "14 cookie                                                                     1\n",
       ".5 turkey, bone removed                                                       1\n",
       "1 roast,  (yield from 436 g raw meat)                                         1\n",
       "Name: GmWt_Desc2, Length: 862, dtype: int64"
      ]
     },
     "execution_count": 14,
     "metadata": {},
     "output_type": "execute_result"
    }
   ],
   "source": [
    "train['GmWt_Desc2'].value_counts()"
   ]
  },
  {
   "cell_type": "code",
   "execution_count": 57,
   "metadata": {},
   "outputs": [],
   "source": [
    "def handle_desc(x, param):\n",
    "    if (x != x) and (param == 0):\n",
    "        return np.NaN\n",
    "    elif (x != x):\n",
    "        return 'nan'\n",
    "    tup = x.lower().replace(',', '').split(' ')[:2]\n",
    "    if param == 0:\n",
    "        return float(tup[0])\n",
    "    elif param == 1:\n",
    "        return tup[1]\n",
    "    else:\n",
    "        return ' '.join(tup)"
   ]
  },
  {
   "cell_type": "code",
   "execution_count": 29,
   "metadata": {},
   "outputs": [
    {
     "data": {
      "text/plain": [
       "0            [.5, oz]\n",
       "1          [1, piece]\n",
       "2       [1, serving,]\n",
       "3             [3, oz]\n",
       "4            [1, cup]\n",
       "            ...      \n",
       "7751      [1, fillet]\n",
       "7752              NaN\n",
       "7753              NaN\n",
       "7754              NaN\n",
       "7755       [1, cubic]\n",
       "Name: GmWt_Desc2, Length: 7756, dtype: object"
      ]
     },
     "execution_count": 29,
     "metadata": {},
     "output_type": "execute_result"
    }
   ],
   "source": [
    "train_col2"
   ]
  },
  {
   "cell_type": "code",
   "execution_count": 58,
   "metadata": {},
   "outputs": [],
   "source": [
    "col = 'GmWt_Desc2'\n",
    "train[col + '_first'] = train[col].apply(lambda x: handle_desc(x, 0))\n",
    "test[col + '_first'] = test[col].apply(lambda x: handle_desc(x, 0))\n",
    "\n",
    "train[col + '_second'] = train[col].apply(lambda x: handle_desc(x, 1))\n",
    "test[col + '_second'] = test[col].apply(lambda x: handle_desc(x, 1))\n",
    "\n",
    "train[col + '_pair'] = train[col].apply(lambda x: handle_desc(x, 2))\n",
    "test[col + '_pair'] = test[col].apply(lambda x: handle_desc(x, 2))"
   ]
  },
  {
   "cell_type": "code",
   "execution_count": 59,
   "metadata": {},
   "outputs": [
    {
     "data": {
      "text/html": [
       "<div>\n",
       "<style scoped>\n",
       "    .dataframe tbody tr th:only-of-type {\n",
       "        vertical-align: middle;\n",
       "    }\n",
       "\n",
       "    .dataframe tbody tr th {\n",
       "        vertical-align: top;\n",
       "    }\n",
       "\n",
       "    .dataframe thead th {\n",
       "        text-align: right;\n",
       "    }\n",
       "</style>\n",
       "<table border=\"1\" class=\"dataframe\">\n",
       "  <thead>\n",
       "    <tr style=\"text-align: right;\">\n",
       "      <th></th>\n",
       "      <th>Shrt_Desc</th>\n",
       "      <th>Water_(g)</th>\n",
       "      <th>Energ_Kcal</th>\n",
       "      <th>Protein_(g)</th>\n",
       "      <th>Lipid_Tot_(g)</th>\n",
       "      <th>Ash_(g)</th>\n",
       "      <th>Carbohydrt_(g)</th>\n",
       "      <th>Fiber_TD_(g)</th>\n",
       "      <th>Sugar_Tot_(g)</th>\n",
       "      <th>Calcium_(mg)</th>\n",
       "      <th>...</th>\n",
       "      <th>GmWt_Desc1</th>\n",
       "      <th>GmWt_2</th>\n",
       "      <th>GmWt_Desc2</th>\n",
       "      <th>Refuse_Pct</th>\n",
       "      <th>GmWt_Desc1_first</th>\n",
       "      <th>GmWt_Desc1_second</th>\n",
       "      <th>GmWt_Desc1_pair</th>\n",
       "      <th>GmWt_Desc2_first</th>\n",
       "      <th>GmWt_Desc2_second</th>\n",
       "      <th>GmWt_Desc2_pair</th>\n",
       "    </tr>\n",
       "  </thead>\n",
       "  <tbody>\n",
       "    <tr>\n",
       "      <td>7751</td>\n",
       "      <td>DRUM,FRESHWATER,RAW</td>\n",
       "      <td>77.33</td>\n",
       "      <td>119</td>\n",
       "      <td>17.54</td>\n",
       "      <td>4.93</td>\n",
       "      <td>1.08</td>\n",
       "      <td>0.00</td>\n",
       "      <td>0.0</td>\n",
       "      <td>NaN</td>\n",
       "      <td>60.0</td>\n",
       "      <td>...</td>\n",
       "      <td>3 oz</td>\n",
       "      <td>198.0</td>\n",
       "      <td>1 fillet</td>\n",
       "      <td>0.0</td>\n",
       "      <td>3</td>\n",
       "      <td>oz</td>\n",
       "      <td>3 oz</td>\n",
       "      <td>1.0</td>\n",
       "      <td>fillet</td>\n",
       "      <td>1 fillet</td>\n",
       "    </tr>\n",
       "    <tr>\n",
       "      <td>7752</td>\n",
       "      <td>BEEF,LOIN,TOP LOIN,LN &amp; FAT,1/8\" FAT,SEL,RAW</td>\n",
       "      <td>63.95</td>\n",
       "      <td>224</td>\n",
       "      <td>20.59</td>\n",
       "      <td>15.04</td>\n",
       "      <td>0.87</td>\n",
       "      <td>0.00</td>\n",
       "      <td>0.0</td>\n",
       "      <td>0.0</td>\n",
       "      <td>23.0</td>\n",
       "      <td>...</td>\n",
       "      <td>3 oz</td>\n",
       "      <td>NaN</td>\n",
       "      <td>NaN</td>\n",
       "      <td>9.0</td>\n",
       "      <td>3</td>\n",
       "      <td>oz</td>\n",
       "      <td>3 oz</td>\n",
       "      <td>NaN</td>\n",
       "      <td>nan</td>\n",
       "      <td>nan</td>\n",
       "    </tr>\n",
       "    <tr>\n",
       "      <td>7753</td>\n",
       "      <td>POTATOES,AU GRATIN,HOME-PREPARED FROM RECIPE U...</td>\n",
       "      <td>74.00</td>\n",
       "      <td>132</td>\n",
       "      <td>5.06</td>\n",
       "      <td>7.59</td>\n",
       "      <td>2.09</td>\n",
       "      <td>11.27</td>\n",
       "      <td>1.8</td>\n",
       "      <td>NaN</td>\n",
       "      <td>119.0</td>\n",
       "      <td>...</td>\n",
       "      <td>1 cup</td>\n",
       "      <td>NaN</td>\n",
       "      <td>NaN</td>\n",
       "      <td>0.0</td>\n",
       "      <td>1</td>\n",
       "      <td>cup</td>\n",
       "      <td>1 cup</td>\n",
       "      <td>NaN</td>\n",
       "      <td>nan</td>\n",
       "      <td>nan</td>\n",
       "    </tr>\n",
       "    <tr>\n",
       "      <td>7754</td>\n",
       "      <td>APPLES,DEHYD (LO MOIST),SULFURED,STWD</td>\n",
       "      <td>79.36</td>\n",
       "      <td>74</td>\n",
       "      <td>0.28</td>\n",
       "      <td>0.12</td>\n",
       "      <td>0.33</td>\n",
       "      <td>19.91</td>\n",
       "      <td>2.6</td>\n",
       "      <td>NaN</td>\n",
       "      <td>4.0</td>\n",
       "      <td>...</td>\n",
       "      <td>1 cup</td>\n",
       "      <td>NaN</td>\n",
       "      <td>NaN</td>\n",
       "      <td>0.0</td>\n",
       "      <td>1</td>\n",
       "      <td>cup</td>\n",
       "      <td>1 cup</td>\n",
       "      <td>NaN</td>\n",
       "      <td>nan</td>\n",
       "      <td>nan</td>\n",
       "    </tr>\n",
       "    <tr>\n",
       "      <td>7755</td>\n",
       "      <td>TUNA,FRESH,YELLOWFIN,RAW</td>\n",
       "      <td>74.03</td>\n",
       "      <td>109</td>\n",
       "      <td>24.40</td>\n",
       "      <td>0.49</td>\n",
       "      <td>1.64</td>\n",
       "      <td>0.00</td>\n",
       "      <td>0.0</td>\n",
       "      <td>0.0</td>\n",
       "      <td>4.0</td>\n",
       "      <td>...</td>\n",
       "      <td>1 oz, boneless</td>\n",
       "      <td>16.0</td>\n",
       "      <td>1 cubic inch, boneless</td>\n",
       "      <td>0.0</td>\n",
       "      <td>1</td>\n",
       "      <td>oz</td>\n",
       "      <td>1 oz</td>\n",
       "      <td>1.0</td>\n",
       "      <td>cubic</td>\n",
       "      <td>1 cubic</td>\n",
       "    </tr>\n",
       "  </tbody>\n",
       "</table>\n",
       "<p>5 rows × 58 columns</p>\n",
       "</div>"
      ],
      "text/plain": [
       "                                              Shrt_Desc  Water_(g)  \\\n",
       "7751                                DRUM,FRESHWATER,RAW      77.33   \n",
       "7752       BEEF,LOIN,TOP LOIN,LN & FAT,1/8\" FAT,SEL,RAW      63.95   \n",
       "7753  POTATOES,AU GRATIN,HOME-PREPARED FROM RECIPE U...      74.00   \n",
       "7754              APPLES,DEHYD (LO MOIST),SULFURED,STWD      79.36   \n",
       "7755                           TUNA,FRESH,YELLOWFIN,RAW      74.03   \n",
       "\n",
       "      Energ_Kcal  Protein_(g)  Lipid_Tot_(g)  Ash_(g)  Carbohydrt_(g)  \\\n",
       "7751         119        17.54           4.93     1.08            0.00   \n",
       "7752         224        20.59          15.04     0.87            0.00   \n",
       "7753         132         5.06           7.59     2.09           11.27   \n",
       "7754          74         0.28           0.12     0.33           19.91   \n",
       "7755         109        24.40           0.49     1.64            0.00   \n",
       "\n",
       "      Fiber_TD_(g)  Sugar_Tot_(g)  Calcium_(mg)  ...      GmWt_Desc1  GmWt_2  \\\n",
       "7751           0.0            NaN          60.0  ...            3 oz   198.0   \n",
       "7752           0.0            0.0          23.0  ...            3 oz     NaN   \n",
       "7753           1.8            NaN         119.0  ...           1 cup     NaN   \n",
       "7754           2.6            NaN           4.0  ...           1 cup     NaN   \n",
       "7755           0.0            0.0           4.0  ...  1 oz, boneless    16.0   \n",
       "\n",
       "                  GmWt_Desc2  Refuse_Pct  GmWt_Desc1_first  GmWt_Desc1_second  \\\n",
       "7751                1 fillet         0.0                 3                 oz   \n",
       "7752                     NaN         9.0                 3                 oz   \n",
       "7753                     NaN         0.0                 1                cup   \n",
       "7754                     NaN         0.0                 1                cup   \n",
       "7755  1 cubic inch, boneless         0.0                 1                 oz   \n",
       "\n",
       "      GmWt_Desc1_pair  GmWt_Desc2_first  GmWt_Desc2_second  GmWt_Desc2_pair  \n",
       "7751             3 oz               1.0             fillet         1 fillet  \n",
       "7752             3 oz               NaN                nan              nan  \n",
       "7753            1 cup               NaN                nan              nan  \n",
       "7754            1 cup               NaN                nan              nan  \n",
       "7755             1 oz               1.0              cubic          1 cubic  \n",
       "\n",
       "[5 rows x 58 columns]"
      ]
     },
     "execution_count": 59,
     "metadata": {},
     "output_type": "execute_result"
    }
   ],
   "source": [
    "train.tail()"
   ]
  },
  {
   "cell_type": "code",
   "execution_count": 62,
   "metadata": {},
   "outputs": [
    {
     "data": {
      "text/plain": [
       "nan         3439\n",
       "cup          480\n",
       "oz           377\n",
       "piece        319\n",
       "steak        297\n",
       "            ... \n",
       "nuts           1\n",
       "anisette       1\n",
       "raw            1\n",
       "saltines       1\n",
       "kidney         1\n",
       "Name: GmWt_Desc2_second, Length: 212, dtype: int64"
      ]
     },
     "execution_count": 62,
     "metadata": {},
     "output_type": "execute_result"
    }
   ],
   "source": [
    "train[col + '_second'].value_counts()"
   ]
  },
  {
   "cell_type": "code",
   "execution_count": 64,
   "metadata": {},
   "outputs": [
    {
     "data": {
      "text/html": [
       "<div>\n",
       "<style scoped>\n",
       "    .dataframe tbody tr th:only-of-type {\n",
       "        vertical-align: middle;\n",
       "    }\n",
       "\n",
       "    .dataframe tbody tr th {\n",
       "        vertical-align: top;\n",
       "    }\n",
       "\n",
       "    .dataframe thead th {\n",
       "        text-align: right;\n",
       "    }\n",
       "</style>\n",
       "<table border=\"1\" class=\"dataframe\">\n",
       "  <thead>\n",
       "    <tr style=\"text-align: right;\">\n",
       "      <th></th>\n",
       "      <th>Shrt_Desc</th>\n",
       "      <th>Water_(g)</th>\n",
       "      <th>Energ_Kcal</th>\n",
       "      <th>Protein_(g)</th>\n",
       "      <th>Lipid_Tot_(g)</th>\n",
       "      <th>Ash_(g)</th>\n",
       "      <th>Carbohydrt_(g)</th>\n",
       "      <th>Fiber_TD_(g)</th>\n",
       "      <th>Sugar_Tot_(g)</th>\n",
       "      <th>Calcium_(mg)</th>\n",
       "      <th>...</th>\n",
       "      <th>GmWt_Desc1</th>\n",
       "      <th>GmWt_2</th>\n",
       "      <th>GmWt_Desc2</th>\n",
       "      <th>Refuse_Pct</th>\n",
       "      <th>GmWt_Desc1_first</th>\n",
       "      <th>GmWt_Desc1_second</th>\n",
       "      <th>GmWt_Desc1_pair</th>\n",
       "      <th>GmWt_Desc2_first</th>\n",
       "      <th>GmWt_Desc2_second</th>\n",
       "      <th>GmWt_Desc2_pair</th>\n",
       "    </tr>\n",
       "  </thead>\n",
       "  <tbody>\n",
       "    <tr>\n",
       "      <td>0</td>\n",
       "      <td>BABYFOOD,CRL,OATMEAL,W/BANANAS,DRY</td>\n",
       "      <td>4.70</td>\n",
       "      <td>393</td>\n",
       "      <td>12.00</td>\n",
       "      <td>6.00</td>\n",
       "      <td>3.90</td>\n",
       "      <td>73.40</td>\n",
       "      <td>5.2</td>\n",
       "      <td>13.75</td>\n",
       "      <td>651.0</td>\n",
       "      <td>...</td>\n",
       "      <td>1 tbsp</td>\n",
       "      <td>15.0</td>\n",
       "      <td>.5 oz</td>\n",
       "      <td>0.0</td>\n",
       "      <td>1</td>\n",
       "      <td>tbsp</td>\n",
       "      <td>1 tbsp</td>\n",
       "      <td>0.5</td>\n",
       "      <td>oz</td>\n",
       "      <td>.5 oz</td>\n",
       "    </tr>\n",
       "    <tr>\n",
       "      <td>1</td>\n",
       "      <td>HEARTS OF PALM,CANNED</td>\n",
       "      <td>90.20</td>\n",
       "      <td>28</td>\n",
       "      <td>2.52</td>\n",
       "      <td>0.62</td>\n",
       "      <td>2.04</td>\n",
       "      <td>4.62</td>\n",
       "      <td>2.4</td>\n",
       "      <td>NaN</td>\n",
       "      <td>58.0</td>\n",
       "      <td>...</td>\n",
       "      <td>1 cup</td>\n",
       "      <td>33.0</td>\n",
       "      <td>1 piece</td>\n",
       "      <td>0.0</td>\n",
       "      <td>1</td>\n",
       "      <td>cup</td>\n",
       "      <td>1 cup</td>\n",
       "      <td>1.0</td>\n",
       "      <td>piece</td>\n",
       "      <td>1 piece</td>\n",
       "    </tr>\n",
       "    <tr>\n",
       "      <td>2</td>\n",
       "      <td>CHICKEN,BROILERS OR FRYERS,THIGH,MEAT ONLY,CKD...</td>\n",
       "      <td>63.89</td>\n",
       "      <td>196</td>\n",
       "      <td>24.06</td>\n",
       "      <td>11.09</td>\n",
       "      <td>1.56</td>\n",
       "      <td>0.00</td>\n",
       "      <td>0.0</td>\n",
       "      <td>0.00</td>\n",
       "      <td>13.0</td>\n",
       "      <td>...</td>\n",
       "      <td>1 thigh</td>\n",
       "      <td>85.0</td>\n",
       "      <td>1 serving,  (3 oz)</td>\n",
       "      <td>29.0</td>\n",
       "      <td>1</td>\n",
       "      <td>thigh</td>\n",
       "      <td>1 thigh</td>\n",
       "      <td>1.0</td>\n",
       "      <td>serving</td>\n",
       "      <td>1 serving</td>\n",
       "    </tr>\n",
       "    <tr>\n",
       "      <td>3</td>\n",
       "      <td>PORK,CURED,SHLDR,ARM PICNIC,LN&amp;FAT,RSTD</td>\n",
       "      <td>54.73</td>\n",
       "      <td>280</td>\n",
       "      <td>20.43</td>\n",
       "      <td>21.35</td>\n",
       "      <td>3.51</td>\n",
       "      <td>0.00</td>\n",
       "      <td>0.0</td>\n",
       "      <td>0.00</td>\n",
       "      <td>10.0</td>\n",
       "      <td>...</td>\n",
       "      <td>1 cup</td>\n",
       "      <td>85.0</td>\n",
       "      <td>3 oz</td>\n",
       "      <td>27.0</td>\n",
       "      <td>1</td>\n",
       "      <td>cup</td>\n",
       "      <td>1 cup</td>\n",
       "      <td>3.0</td>\n",
       "      <td>oz</td>\n",
       "      <td>3 oz</td>\n",
       "    </tr>\n",
       "    <tr>\n",
       "      <td>4</td>\n",
       "      <td>VINEGAR,DISTILLED</td>\n",
       "      <td>94.78</td>\n",
       "      <td>18</td>\n",
       "      <td>0.00</td>\n",
       "      <td>0.00</td>\n",
       "      <td>0.02</td>\n",
       "      <td>0.04</td>\n",
       "      <td>0.0</td>\n",
       "      <td>0.04</td>\n",
       "      <td>6.0</td>\n",
       "      <td>...</td>\n",
       "      <td>1 tbsp</td>\n",
       "      <td>238.0</td>\n",
       "      <td>1 cup</td>\n",
       "      <td>0.0</td>\n",
       "      <td>1</td>\n",
       "      <td>tbsp</td>\n",
       "      <td>1 tbsp</td>\n",
       "      <td>1.0</td>\n",
       "      <td>cup</td>\n",
       "      <td>1 cup</td>\n",
       "    </tr>\n",
       "  </tbody>\n",
       "</table>\n",
       "<p>5 rows × 58 columns</p>\n",
       "</div>"
      ],
      "text/plain": [
       "                                           Shrt_Desc  Water_(g)  Energ_Kcal  \\\n",
       "0                 BABYFOOD,CRL,OATMEAL,W/BANANAS,DRY       4.70         393   \n",
       "1                              HEARTS OF PALM,CANNED      90.20          28   \n",
       "2  CHICKEN,BROILERS OR FRYERS,THIGH,MEAT ONLY,CKD...      63.89         196   \n",
       "3            PORK,CURED,SHLDR,ARM PICNIC,LN&FAT,RSTD      54.73         280   \n",
       "4                                  VINEGAR,DISTILLED      94.78          18   \n",
       "\n",
       "   Protein_(g)  Lipid_Tot_(g)  Ash_(g)  Carbohydrt_(g)  Fiber_TD_(g)  \\\n",
       "0        12.00           6.00     3.90           73.40           5.2   \n",
       "1         2.52           0.62     2.04            4.62           2.4   \n",
       "2        24.06          11.09     1.56            0.00           0.0   \n",
       "3        20.43          21.35     3.51            0.00           0.0   \n",
       "4         0.00           0.00     0.02            0.04           0.0   \n",
       "\n",
       "   Sugar_Tot_(g)  Calcium_(mg)  ...  GmWt_Desc1  GmWt_2          GmWt_Desc2  \\\n",
       "0          13.75         651.0  ...      1 tbsp    15.0               .5 oz   \n",
       "1            NaN          58.0  ...       1 cup    33.0             1 piece   \n",
       "2           0.00          13.0  ...     1 thigh    85.0  1 serving,  (3 oz)   \n",
       "3           0.00          10.0  ...       1 cup    85.0                3 oz   \n",
       "4           0.04           6.0  ...      1 tbsp   238.0               1 cup   \n",
       "\n",
       "   Refuse_Pct  GmWt_Desc1_first  GmWt_Desc1_second  GmWt_Desc1_pair  \\\n",
       "0         0.0                 1               tbsp           1 tbsp   \n",
       "1         0.0                 1                cup            1 cup   \n",
       "2        29.0                 1              thigh          1 thigh   \n",
       "3        27.0                 1                cup            1 cup   \n",
       "4         0.0                 1               tbsp           1 tbsp   \n",
       "\n",
       "   GmWt_Desc2_first  GmWt_Desc2_second  GmWt_Desc2_pair  \n",
       "0               0.5                 oz            .5 oz  \n",
       "1               1.0              piece          1 piece  \n",
       "2               1.0            serving        1 serving  \n",
       "3               3.0                 oz             3 oz  \n",
       "4               1.0                cup            1 cup  \n",
       "\n",
       "[5 rows x 58 columns]"
      ]
     },
     "execution_count": 64,
     "metadata": {},
     "output_type": "execute_result"
    }
   ],
   "source": [
    "train.head()"
   ]
  },
  {
   "cell_type": "code",
   "execution_count": 66,
   "metadata": {},
   "outputs": [
    {
     "name": "stderr",
     "output_type": "stream",
     "text": [
      "/home/data_sapiens/Anaconda/lib/python3.7/site-packages/ipykernel_launcher.py:11: SettingWithCopyWarning: \n",
      "A value is trying to be set on a copy of a slice from a DataFrame\n",
      "\n",
      "See the caveats in the documentation: http://pandas.pydata.org/pandas-docs/stable/user_guide/indexing.html#returning-a-view-versus-a-copy\n",
      "  # This is added back by InteractiveShellApp.init_path()\n"
     ]
    }
   ],
   "source": [
    "from sklearn.model_selection import KFold\n",
    "\n",
    "cv = KFold(n_splits = 5, shuffle = True)\n",
    "\n",
    "cols = [col + '_second', col + '_pair']\n",
    "for cur_col in cols:\n",
    "    globalmean = train['Energ_Kcal'].mean()\n",
    "    train[cur_col + '_encoded'] = 0.\n",
    "    for train_idx, test_idx in cv.split(train):\n",
    "        mapping = train.loc[train_idx].groupby(cur_col)['Energ_Kcal'].mean()\n",
    "        train[cur_col + '_encoded'][test_idx] = train[cur_col][test_idx].map(mapping)\n",
    "    train[cur_col + '_encoded'].fillna(globalmean, inplace=True) \n",
    "    mapping = train.groupby(cur_col)['Energ_Kcal'].mean()\n",
    "    test[cur_col + '_encoded'] = test[cur_col].map(mapping)\n",
    "    test[cur_col + '_encoded'].fillna(globalmean, inplace=True)"
   ]
  },
  {
   "cell_type": "code",
   "execution_count": 74,
   "metadata": {},
   "outputs": [
    {
     "data": {
      "text/plain": [
       "0                      BABYFOOD,CRL,OATMEAL,W/BANANAS,DRY\n",
       "1                                   HEARTS OF PALM,CANNED\n",
       "2       CHICKEN,BROILERS OR FRYERS,THIGH,MEAT ONLY,CKD...\n",
       "3                 PORK,CURED,SHLDR,ARM PICNIC,LN&FAT,RSTD\n",
       "4                                       VINEGAR,DISTILLED\n",
       "                              ...                        \n",
       "7751                                  DRUM,FRESHWATER,RAW\n",
       "7752         BEEF,LOIN,TOP LOIN,LN & FAT,1/8\" FAT,SEL,RAW\n",
       "7753    POTATOES,AU GRATIN,HOME-PREPARED FROM RECIPE U...\n",
       "7754                APPLES,DEHYD (LO MOIST),SULFURED,STWD\n",
       "7755                             TUNA,FRESH,YELLOWFIN,RAW\n",
       "Name: Shrt_Desc, Length: 7756, dtype: object"
      ]
     },
     "execution_count": 74,
     "metadata": {},
     "output_type": "execute_result"
    }
   ],
   "source": [
    "train['Shrt_Desc']"
   ]
  },
  {
   "cell_type": "code",
   "execution_count": 85,
   "metadata": {},
   "outputs": [],
   "source": [
    "def handle_shrt_desc(x):\n",
    "    new = ''\n",
    "    for el in x.lower():\n",
    "        if el.isalpha():\n",
    "            new += el\n",
    "        else:\n",
    "            new += ' '\n",
    "    return new"
   ]
  },
  {
   "cell_type": "code",
   "execution_count": 87,
   "metadata": {},
   "outputs": [],
   "source": [
    "train['word_corpus'] = train['Shrt_Desc'].apply(handle_shrt_desc)\n",
    "corpus = list(train['word_corpus'].values)"
   ]
  },
  {
   "cell_type": "code",
   "execution_count": 88,
   "metadata": {},
   "outputs": [],
   "source": [
    "from sklearn.feature_extraction.text import TfidfVectorizer\n",
    "\n",
    "vectorizer = TfidfVectorizer()\n",
    "tfidf = vectorizer.fit_transform(corpus)"
   ]
  },
  {
   "cell_type": "code",
   "execution_count": 90,
   "metadata": {},
   "outputs": [],
   "source": [
    "from sklearn.decomposition import NMF\n",
    "nmf = NMF(n_components = 5)\n",
    "\n",
    "word_nmf = nmf.fit_transform(tfidf)\n",
    "\n",
    "word_cols = ['word_TF-IDF-' + str(i) for i in range(5)]\n",
    "\n",
    "train = pd.concat([train, pd.DataFrame(word_nmf, columns = word_cols)], axis = 1, sort = False)"
   ]
  },
  {
   "cell_type": "code",
   "execution_count": 91,
   "metadata": {},
   "outputs": [
    {
     "data": {
      "text/html": [
       "<div>\n",
       "<style scoped>\n",
       "    .dataframe tbody tr th:only-of-type {\n",
       "        vertical-align: middle;\n",
       "    }\n",
       "\n",
       "    .dataframe tbody tr th {\n",
       "        vertical-align: top;\n",
       "    }\n",
       "\n",
       "    .dataframe thead th {\n",
       "        text-align: right;\n",
       "    }\n",
       "</style>\n",
       "<table border=\"1\" class=\"dataframe\">\n",
       "  <thead>\n",
       "    <tr style=\"text-align: right;\">\n",
       "      <th></th>\n",
       "      <th>Shrt_Desc</th>\n",
       "      <th>Water_(g)</th>\n",
       "      <th>Energ_Kcal</th>\n",
       "      <th>Protein_(g)</th>\n",
       "      <th>Lipid_Tot_(g)</th>\n",
       "      <th>Ash_(g)</th>\n",
       "      <th>Carbohydrt_(g)</th>\n",
       "      <th>Fiber_TD_(g)</th>\n",
       "      <th>Sugar_Tot_(g)</th>\n",
       "      <th>Calcium_(mg)</th>\n",
       "      <th>...</th>\n",
       "      <th>GmWt_Desc2_second</th>\n",
       "      <th>GmWt_Desc2_pair</th>\n",
       "      <th>GmWt_Desc2_second_encoded</th>\n",
       "      <th>GmWt_Desc2_pair_encoded</th>\n",
       "      <th>word_corpus</th>\n",
       "      <th>word_TF-IDF-0</th>\n",
       "      <th>word_TF-IDF-1</th>\n",
       "      <th>word_TF-IDF-2</th>\n",
       "      <th>word_TF-IDF-3</th>\n",
       "      <th>word_TF-IDF-4</th>\n",
       "    </tr>\n",
       "  </thead>\n",
       "  <tbody>\n",
       "    <tr>\n",
       "      <td>0</td>\n",
       "      <td>BABYFOOD,CRL,OATMEAL,W/BANANAS,DRY</td>\n",
       "      <td>4.70</td>\n",
       "      <td>393</td>\n",
       "      <td>12.00</td>\n",
       "      <td>6.00</td>\n",
       "      <td>3.90</td>\n",
       "      <td>73.40</td>\n",
       "      <td>5.2</td>\n",
       "      <td>13.75</td>\n",
       "      <td>651.0</td>\n",
       "      <td>...</td>\n",
       "      <td>oz</td>\n",
       "      <td>.5 oz</td>\n",
       "      <td>269.188119</td>\n",
       "      <td>431.250000</td>\n",
       "      <td>babyfood crl oatmeal w bananas dry</td>\n",
       "      <td>0.000000</td>\n",
       "      <td>0.000000</td>\n",
       "      <td>0.001847</td>\n",
       "      <td>0.043166</td>\n",
       "      <td>0.000000</td>\n",
       "    </tr>\n",
       "    <tr>\n",
       "      <td>1</td>\n",
       "      <td>HEARTS OF PALM,CANNED</td>\n",
       "      <td>90.20</td>\n",
       "      <td>28</td>\n",
       "      <td>2.52</td>\n",
       "      <td>0.62</td>\n",
       "      <td>2.04</td>\n",
       "      <td>4.62</td>\n",
       "      <td>2.4</td>\n",
       "      <td>NaN</td>\n",
       "      <td>58.0</td>\n",
       "      <td>...</td>\n",
       "      <td>piece</td>\n",
       "      <td>1 piece</td>\n",
       "      <td>252.078431</td>\n",
       "      <td>248.682353</td>\n",
       "      <td>hearts of palm canned</td>\n",
       "      <td>0.003764</td>\n",
       "      <td>0.000000</td>\n",
       "      <td>0.000000</td>\n",
       "      <td>0.011576</td>\n",
       "      <td>0.000000</td>\n",
       "    </tr>\n",
       "    <tr>\n",
       "      <td>2</td>\n",
       "      <td>CHICKEN,BROILERS OR FRYERS,THIGH,MEAT ONLY,CKD...</td>\n",
       "      <td>63.89</td>\n",
       "      <td>196</td>\n",
       "      <td>24.06</td>\n",
       "      <td>11.09</td>\n",
       "      <td>1.56</td>\n",
       "      <td>0.00</td>\n",
       "      <td>0.0</td>\n",
       "      <td>0.00</td>\n",
       "      <td>13.0</td>\n",
       "      <td>...</td>\n",
       "      <td>serving</td>\n",
       "      <td>1 serving</td>\n",
       "      <td>162.680556</td>\n",
       "      <td>154.024793</td>\n",
       "      <td>chicken broilers or fryers thigh meat only ckd...</td>\n",
       "      <td>0.000000</td>\n",
       "      <td>0.002799</td>\n",
       "      <td>0.220350</td>\n",
       "      <td>0.000000</td>\n",
       "      <td>0.000000</td>\n",
       "    </tr>\n",
       "    <tr>\n",
       "      <td>3</td>\n",
       "      <td>PORK,CURED,SHLDR,ARM PICNIC,LN&amp;FAT,RSTD</td>\n",
       "      <td>54.73</td>\n",
       "      <td>280</td>\n",
       "      <td>20.43</td>\n",
       "      <td>21.35</td>\n",
       "      <td>3.51</td>\n",
       "      <td>0.00</td>\n",
       "      <td>0.0</td>\n",
       "      <td>0.00</td>\n",
       "      <td>10.0</td>\n",
       "      <td>...</td>\n",
       "      <td>oz</td>\n",
       "      <td>3 oz</td>\n",
       "      <td>290.700637</td>\n",
       "      <td>168.086420</td>\n",
       "      <td>pork cured shldr arm picnic ln fat rstd</td>\n",
       "      <td>0.022004</td>\n",
       "      <td>0.000000</td>\n",
       "      <td>0.000000</td>\n",
       "      <td>0.000000</td>\n",
       "      <td>0.134601</td>\n",
       "    </tr>\n",
       "    <tr>\n",
       "      <td>4</td>\n",
       "      <td>VINEGAR,DISTILLED</td>\n",
       "      <td>94.78</td>\n",
       "      <td>18</td>\n",
       "      <td>0.00</td>\n",
       "      <td>0.00</td>\n",
       "      <td>0.02</td>\n",
       "      <td>0.04</td>\n",
       "      <td>0.0</td>\n",
       "      <td>0.04</td>\n",
       "      <td>6.0</td>\n",
       "      <td>...</td>\n",
       "      <td>cup</td>\n",
       "      <td>1 cup</td>\n",
       "      <td>341.739018</td>\n",
       "      <td>382.968750</td>\n",
       "      <td>vinegar distilled</td>\n",
       "      <td>0.000035</td>\n",
       "      <td>0.000000</td>\n",
       "      <td>0.000000</td>\n",
       "      <td>0.000460</td>\n",
       "      <td>0.000000</td>\n",
       "    </tr>\n",
       "    <tr>\n",
       "      <td>...</td>\n",
       "      <td>...</td>\n",
       "      <td>...</td>\n",
       "      <td>...</td>\n",
       "      <td>...</td>\n",
       "      <td>...</td>\n",
       "      <td>...</td>\n",
       "      <td>...</td>\n",
       "      <td>...</td>\n",
       "      <td>...</td>\n",
       "      <td>...</td>\n",
       "      <td>...</td>\n",
       "      <td>...</td>\n",
       "      <td>...</td>\n",
       "      <td>...</td>\n",
       "      <td>...</td>\n",
       "      <td>...</td>\n",
       "      <td>...</td>\n",
       "      <td>...</td>\n",
       "      <td>...</td>\n",
       "      <td>...</td>\n",
       "      <td>...</td>\n",
       "    </tr>\n",
       "    <tr>\n",
       "      <td>7751</td>\n",
       "      <td>DRUM,FRESHWATER,RAW</td>\n",
       "      <td>77.33</td>\n",
       "      <td>119</td>\n",
       "      <td>17.54</td>\n",
       "      <td>4.93</td>\n",
       "      <td>1.08</td>\n",
       "      <td>0.00</td>\n",
       "      <td>0.0</td>\n",
       "      <td>NaN</td>\n",
       "      <td>60.0</td>\n",
       "      <td>...</td>\n",
       "      <td>fillet</td>\n",
       "      <td>1 fillet</td>\n",
       "      <td>134.754098</td>\n",
       "      <td>128.358974</td>\n",
       "      <td>drum freshwater raw</td>\n",
       "      <td>0.005254</td>\n",
       "      <td>0.000000</td>\n",
       "      <td>0.011658</td>\n",
       "      <td>0.000000</td>\n",
       "      <td>0.011330</td>\n",
       "    </tr>\n",
       "    <tr>\n",
       "      <td>7752</td>\n",
       "      <td>BEEF,LOIN,TOP LOIN,LN &amp; FAT,1/8\" FAT,SEL,RAW</td>\n",
       "      <td>63.95</td>\n",
       "      <td>224</td>\n",
       "      <td>20.59</td>\n",
       "      <td>15.04</td>\n",
       "      <td>0.87</td>\n",
       "      <td>0.00</td>\n",
       "      <td>0.0</td>\n",
       "      <td>0.00</td>\n",
       "      <td>23.0</td>\n",
       "      <td>...</td>\n",
       "      <td>nan</td>\n",
       "      <td>nan</td>\n",
       "      <td>229.507592</td>\n",
       "      <td>227.127480</td>\n",
       "      <td>beef loin top loin ln   fat      fat sel raw</td>\n",
       "      <td>0.120790</td>\n",
       "      <td>0.000000</td>\n",
       "      <td>0.000000</td>\n",
       "      <td>0.000000</td>\n",
       "      <td>0.081965</td>\n",
       "    </tr>\n",
       "    <tr>\n",
       "      <td>7753</td>\n",
       "      <td>POTATOES,AU GRATIN,HOME-PREPARED FROM RECIPE U...</td>\n",
       "      <td>74.00</td>\n",
       "      <td>132</td>\n",
       "      <td>5.06</td>\n",
       "      <td>7.59</td>\n",
       "      <td>2.09</td>\n",
       "      <td>11.27</td>\n",
       "      <td>1.8</td>\n",
       "      <td>NaN</td>\n",
       "      <td>119.0</td>\n",
       "      <td>...</td>\n",
       "      <td>nan</td>\n",
       "      <td>nan</td>\n",
       "      <td>231.094109</td>\n",
       "      <td>234.003646</td>\n",
       "      <td>potatoes au gratin home prepared from recipe u...</td>\n",
       "      <td>0.000000</td>\n",
       "      <td>0.002695</td>\n",
       "      <td>0.007345</td>\n",
       "      <td>0.012194</td>\n",
       "      <td>0.000000</td>\n",
       "    </tr>\n",
       "    <tr>\n",
       "      <td>7754</td>\n",
       "      <td>APPLES,DEHYD (LO MOIST),SULFURED,STWD</td>\n",
       "      <td>79.36</td>\n",
       "      <td>74</td>\n",
       "      <td>0.28</td>\n",
       "      <td>0.12</td>\n",
       "      <td>0.33</td>\n",
       "      <td>19.91</td>\n",
       "      <td>2.6</td>\n",
       "      <td>NaN</td>\n",
       "      <td>4.0</td>\n",
       "      <td>...</td>\n",
       "      <td>nan</td>\n",
       "      <td>nan</td>\n",
       "      <td>231.897698</td>\n",
       "      <td>234.003646</td>\n",
       "      <td>apples dehyd  lo moist  sulfured stwd</td>\n",
       "      <td>0.000000</td>\n",
       "      <td>0.000482</td>\n",
       "      <td>0.010030</td>\n",
       "      <td>0.006565</td>\n",
       "      <td>0.000000</td>\n",
       "    </tr>\n",
       "    <tr>\n",
       "      <td>7755</td>\n",
       "      <td>TUNA,FRESH,YELLOWFIN,RAW</td>\n",
       "      <td>74.03</td>\n",
       "      <td>109</td>\n",
       "      <td>24.40</td>\n",
       "      <td>0.49</td>\n",
       "      <td>1.64</td>\n",
       "      <td>0.00</td>\n",
       "      <td>0.0</td>\n",
       "      <td>0.00</td>\n",
       "      <td>4.0</td>\n",
       "      <td>...</td>\n",
       "      <td>cubic</td>\n",
       "      <td>1 cubic</td>\n",
       "      <td>242.055556</td>\n",
       "      <td>228.333333</td>\n",
       "      <td>tuna fresh yellowfin raw</td>\n",
       "      <td>0.004295</td>\n",
       "      <td>0.000000</td>\n",
       "      <td>0.010429</td>\n",
       "      <td>0.001417</td>\n",
       "      <td>0.011586</td>\n",
       "    </tr>\n",
       "  </tbody>\n",
       "</table>\n",
       "<p>7756 rows × 66 columns</p>\n",
       "</div>"
      ],
      "text/plain": [
       "                                              Shrt_Desc  Water_(g)  \\\n",
       "0                    BABYFOOD,CRL,OATMEAL,W/BANANAS,DRY       4.70   \n",
       "1                                 HEARTS OF PALM,CANNED      90.20   \n",
       "2     CHICKEN,BROILERS OR FRYERS,THIGH,MEAT ONLY,CKD...      63.89   \n",
       "3               PORK,CURED,SHLDR,ARM PICNIC,LN&FAT,RSTD      54.73   \n",
       "4                                     VINEGAR,DISTILLED      94.78   \n",
       "...                                                 ...        ...   \n",
       "7751                                DRUM,FRESHWATER,RAW      77.33   \n",
       "7752       BEEF,LOIN,TOP LOIN,LN & FAT,1/8\" FAT,SEL,RAW      63.95   \n",
       "7753  POTATOES,AU GRATIN,HOME-PREPARED FROM RECIPE U...      74.00   \n",
       "7754              APPLES,DEHYD (LO MOIST),SULFURED,STWD      79.36   \n",
       "7755                           TUNA,FRESH,YELLOWFIN,RAW      74.03   \n",
       "\n",
       "      Energ_Kcal  Protein_(g)  Lipid_Tot_(g)  Ash_(g)  Carbohydrt_(g)  \\\n",
       "0            393        12.00           6.00     3.90           73.40   \n",
       "1             28         2.52           0.62     2.04            4.62   \n",
       "2            196        24.06          11.09     1.56            0.00   \n",
       "3            280        20.43          21.35     3.51            0.00   \n",
       "4             18         0.00           0.00     0.02            0.04   \n",
       "...          ...          ...            ...      ...             ...   \n",
       "7751         119        17.54           4.93     1.08            0.00   \n",
       "7752         224        20.59          15.04     0.87            0.00   \n",
       "7753         132         5.06           7.59     2.09           11.27   \n",
       "7754          74         0.28           0.12     0.33           19.91   \n",
       "7755         109        24.40           0.49     1.64            0.00   \n",
       "\n",
       "      Fiber_TD_(g)  Sugar_Tot_(g)  Calcium_(mg)  ...  GmWt_Desc2_second  \\\n",
       "0              5.2          13.75         651.0  ...                 oz   \n",
       "1              2.4            NaN          58.0  ...              piece   \n",
       "2              0.0           0.00          13.0  ...            serving   \n",
       "3              0.0           0.00          10.0  ...                 oz   \n",
       "4              0.0           0.04           6.0  ...                cup   \n",
       "...            ...            ...           ...  ...                ...   \n",
       "7751           0.0            NaN          60.0  ...             fillet   \n",
       "7752           0.0           0.00          23.0  ...                nan   \n",
       "7753           1.8            NaN         119.0  ...                nan   \n",
       "7754           2.6            NaN           4.0  ...                nan   \n",
       "7755           0.0           0.00           4.0  ...              cubic   \n",
       "\n",
       "      GmWt_Desc2_pair  GmWt_Desc2_second_encoded  GmWt_Desc2_pair_encoded  \\\n",
       "0               .5 oz                 269.188119               431.250000   \n",
       "1             1 piece                 252.078431               248.682353   \n",
       "2           1 serving                 162.680556               154.024793   \n",
       "3                3 oz                 290.700637               168.086420   \n",
       "4               1 cup                 341.739018               382.968750   \n",
       "...               ...                        ...                      ...   \n",
       "7751         1 fillet                 134.754098               128.358974   \n",
       "7752              nan                 229.507592               227.127480   \n",
       "7753              nan                 231.094109               234.003646   \n",
       "7754              nan                 231.897698               234.003646   \n",
       "7755          1 cubic                 242.055556               228.333333   \n",
       "\n",
       "                                            word_corpus  word_TF-IDF-0  \\\n",
       "0                    babyfood crl oatmeal w bananas dry       0.000000   \n",
       "1                                 hearts of palm canned       0.003764   \n",
       "2     chicken broilers or fryers thigh meat only ckd...       0.000000   \n",
       "3               pork cured shldr arm picnic ln fat rstd       0.022004   \n",
       "4                                     vinegar distilled       0.000035   \n",
       "...                                                 ...            ...   \n",
       "7751                                drum freshwater raw       0.005254   \n",
       "7752       beef loin top loin ln   fat      fat sel raw       0.120790   \n",
       "7753  potatoes au gratin home prepared from recipe u...       0.000000   \n",
       "7754              apples dehyd  lo moist  sulfured stwd       0.000000   \n",
       "7755                           tuna fresh yellowfin raw       0.004295   \n",
       "\n",
       "      word_TF-IDF-1  word_TF-IDF-2  word_TF-IDF-3  word_TF-IDF-4  \n",
       "0          0.000000       0.001847       0.043166       0.000000  \n",
       "1          0.000000       0.000000       0.011576       0.000000  \n",
       "2          0.002799       0.220350       0.000000       0.000000  \n",
       "3          0.000000       0.000000       0.000000       0.134601  \n",
       "4          0.000000       0.000000       0.000460       0.000000  \n",
       "...             ...            ...            ...            ...  \n",
       "7751       0.000000       0.011658       0.000000       0.011330  \n",
       "7752       0.000000       0.000000       0.000000       0.081965  \n",
       "7753       0.002695       0.007345       0.012194       0.000000  \n",
       "7754       0.000482       0.010030       0.006565       0.000000  \n",
       "7755       0.000000       0.010429       0.001417       0.011586  \n",
       "\n",
       "[7756 rows x 66 columns]"
      ]
     },
     "execution_count": 91,
     "metadata": {},
     "output_type": "execute_result"
    }
   ],
   "source": [
    "train"
   ]
  },
  {
   "cell_type": "code",
   "execution_count": 3,
   "metadata": {},
   "outputs": [],
   "source": [
    "import scripts"
   ]
  },
  {
   "cell_type": "code",
   "execution_count": 2,
   "metadata": {},
   "outputs": [],
   "source": [
    "train = pd.read_excel('semifinal_data/train.xlsx')\n",
    "test = pd.read_excel('semifinal_data/test.xlsx')\n",
    "descr = pd.read_excel('semifinal_data/description.xlsx')"
   ]
  },
  {
   "cell_type": "code",
   "execution_count": 52,
   "metadata": {},
   "outputs": [
    {
     "data": {
      "text/plain": [
       "<module 'scripts.semifinal_model' from '/home/data_sapiens/programs/challenges/best_hack/scripts/semifinal_model.py'>"
      ]
     },
     "execution_count": 52,
     "metadata": {},
     "output_type": "execute_result"
    }
   ],
   "source": [
    "import scripts\n",
    "import importlib\n",
    "importlib.reload(scripts.semifinal_features)\n",
    "importlib.reload(scripts.semifinal_model)"
   ]
  },
  {
   "cell_type": "code",
   "execution_count": 53,
   "metadata": {},
   "outputs": [],
   "source": [
    "from scripts.semifinal_features import prepare_features"
   ]
  },
  {
   "cell_type": "code",
   "execution_count": 54,
   "metadata": {},
   "outputs": [
    {
     "name": "stderr",
     "output_type": "stream",
     "text": [
      "/home/data_sapiens/programs/challenges/best_hack/scripts/semifinal_features.py:66: SettingWithCopyWarning: \n",
      "A value is trying to be set on a copy of a slice from a DataFrame\n",
      "\n",
      "See the caveats in the documentation: http://pandas.pydata.org/pandas-docs/stable/user_guide/indexing.html#returning-a-view-versus-a-copy\n",
      "  train[cur_col + '_encoded'][test_idx] = train[cur_col][test_idx].map(mapping)\n",
      "/home/data_sapiens/Anaconda/lib/python3.7/site-packages/pandas/core/frame.py:4102: SettingWithCopyWarning: \n",
      "A value is trying to be set on a copy of a slice from a DataFrame\n",
      "\n",
      "See the caveats in the documentation: http://pandas.pydata.org/pandas-docs/stable/user_guide/indexing.html#returning-a-view-versus-a-copy\n",
      "  errors=errors,\n"
     ]
    }
   ],
   "source": [
    "train1, test1, scaler = prepare_features(train, test, False)"
   ]
  },
  {
   "cell_type": "code",
   "execution_count": 56,
   "metadata": {},
   "outputs": [
    {
     "data": {
      "text/plain": [
       "Index(['Water_(g)', 'Energ_Kcal', 'Protein_(g)', 'Lipid_Tot_(g)', 'Ash_(g)',\n",
       "       'Carbohydrt_(g)', 'Fiber_TD_(g)', 'Sugar_Tot_(g)', 'Calcium_(mg)',\n",
       "       'Iron_(mg)',\n",
       "       ...\n",
       "       'Carbohydrt_(g)^2', 'Carbohydrt_(g) GmWt_1',\n",
       "       'Carbohydrt_(g) Vit_E_(mg)', 'Carbohydrt_(g) Sugar_Tot_(g)', 'GmWt_1^2',\n",
       "       'GmWt_1 Vit_E_(mg)', 'GmWt_1 Sugar_Tot_(g)', 'Vit_E_(mg)^2',\n",
       "       'Vit_E_(mg) Sugar_Tot_(g)', 'Sugar_Tot_(g)^2'],\n",
       "      dtype='object', length=112)"
      ]
     },
     "execution_count": 56,
     "metadata": {},
     "output_type": "execute_result"
    }
   ],
   "source": [
    "train1.columns"
   ]
  },
  {
   "cell_type": "code",
   "execution_count": 22,
   "metadata": {},
   "outputs": [],
   "source": [
    "from scripts.semifinal_model import Model"
   ]
  },
  {
   "cell_type": "code",
   "execution_count": 23,
   "metadata": {},
   "outputs": [],
   "source": [
    "model = Model(scaler)"
   ]
  },
  {
   "cell_type": "code",
   "execution_count": 24,
   "metadata": {},
   "outputs": [],
   "source": [
    "from sklearn.model_selection import train_test_split\n",
    "\n",
    "X_train, X_test, y_train, y_test = train_test_split(train1.drop('Energ_Kcal', axis=1), train1['Energ_Kcal'], \n",
    "                                                   shuffle=True)"
   ]
  },
  {
   "cell_type": "code",
   "execution_count": 25,
   "metadata": {},
   "outputs": [
    {
     "name": "stdout",
     "output_type": "stream",
     "text": [
      "[15:34:47] WARNING: /workspace/src/objective/regression_obj.cu:152: reg:linear is now deprecated in favor of reg:squarederror.\n",
      "MAE of xgboost on train:  6.244078981342524\n",
      "MAE of xgboost on test:  7.783219488826592 \n",
      "\n",
      "MAE of knn on train:  18.240501976964072\n",
      "MAE of knn on test:  22.9498710675606 \n",
      "\n"
     ]
    },
    {
     "name": "stderr",
     "output_type": "stream",
     "text": [
      "/home/data_sapiens/Anaconda/lib/python3.7/site-packages/sklearn/svm/base.py:193: FutureWarning: The default value of gamma will change from 'auto' to 'scale' in version 0.22 to account better for unscaled features. Set gamma explicitly to 'auto' or 'scale' to avoid this warning.\n",
      "  \"avoid this warning.\", FutureWarning)\n"
     ]
    },
    {
     "name": "stdout",
     "output_type": "stream",
     "text": [
      "MAE of svm on train:  46.34199475171628\n",
      "MAE of svm on test:  47.237496919716186 \n",
      "\n"
     ]
    },
    {
     "name": "stderr",
     "output_type": "stream",
     "text": [
      "/home/data_sapiens/Anaconda/lib/python3.7/site-packages/sklearn/neural_network/multilayer_perceptron.py:566: ConvergenceWarning: Stochastic Optimizer: Maximum iterations (200) reached and the optimization hasn't converged yet.\n",
      "  % self.max_iter, ConvergenceWarning)\n",
      "/home/data_sapiens/Anaconda/lib/python3.7/site-packages/sklearn/ensemble/forest.py:245: FutureWarning: The default value of n_estimators will change from 10 in version 0.20 to 100 in 0.22.\n",
      "  \"10 in version 0.20 to 100 in 0.22.\", FutureWarning)\n"
     ]
    },
    {
     "name": "stdout",
     "output_type": "stream",
     "text": [
      "MAE of neural_network on train:  8.212984900899752\n",
      "MAE of neural_network on test:  10.824174675186972 \n",
      "\n",
      "MAE of random_forest on train:  2.6609764483410694\n",
      "MAE of random_forest on test:  7.084682826199072 \n",
      "\n",
      "[15:35:05] WARNING: /workspace/src/objective/regression_obj.cu:152: reg:linear is now deprecated in favor of reg:squarederror.\n",
      "MAE of meta model on train:  2.801891894526594\n",
      "MAE of meta model on test:  7.079914301987343 \n",
      "\n"
     ]
    }
   ],
   "source": [
    "model.fit(X_train.values, y_train.values, X_test.values, y_test.values)"
   ]
  },
  {
   "cell_type": "code",
   "execution_count": 26,
   "metadata": {},
   "outputs": [],
   "source": [
    "from sklearn.preprocessing import PolynomialFeatures"
   ]
  },
  {
   "cell_type": "code",
   "execution_count": 33,
   "metadata": {},
   "outputs": [
    {
     "data": {
      "text/plain": [
       "PolynomialFeatures(degree=2, include_bias=True, interaction_only=False,\n",
       "                   order='C')"
      ]
     },
     "execution_count": 33,
     "metadata": {},
     "output_type": "execute_result"
    }
   ],
   "source": [
    "important = ['Water_(g)', 'Lipid_Tot_(g)', 'FA_Mono_(g)', 'FA_Sat_(g)', 'FA_Poly_(g)', \n",
    "            'Carbohydrt_(g)', 'GmWt_1', 'Vit_E_(mg)', 'Sugar_Tot_(g)']\n",
    "poly = PolynomialFeatures()\n",
    "poly.fit(train1[important])"
   ]
  },
  {
   "cell_type": "code",
   "execution_count": 34,
   "metadata": {},
   "outputs": [
    {
     "data": {
      "text/plain": [
       "(7756, 55)"
      ]
     },
     "execution_count": 34,
     "metadata": {},
     "output_type": "execute_result"
    }
   ],
   "source": [
    "poly.fit_transform(train1[important]).shape"
   ]
  },
  {
   "cell_type": "code",
   "execution_count": 37,
   "metadata": {},
   "outputs": [
    {
     "data": {
      "text/plain": [
       "PolynomialFeatures(degree=2, include_bias=True, interaction_only=False,\n",
       "                   order='C')"
      ]
     },
     "execution_count": 37,
     "metadata": {},
     "output_type": "execute_result"
    }
   ],
   "source": [
    "poly = PolynomialFeatures()\n",
    "poly.fit(train1[important])"
   ]
  },
  {
   "cell_type": "code",
   "execution_count": 39,
   "metadata": {},
   "outputs": [],
   "source": [
    "mapping = {'x' + str(i): important[i] for i in range(len(important))}"
   ]
  },
  {
   "cell_type": "code",
   "execution_count": 47,
   "metadata": {},
   "outputs": [],
   "source": [
    "the = poly.fit_transform(train1[important])\n",
    "feats = poly.get_feature_names()\n",
    "for i in range(len(feats)):\n",
    "    for key, val in mapping.items():\n",
    "        feats[i] = feats[i].replace(key, val)\n",
    "the = pd.DataFrame(the, columns=feats)"
   ]
  },
  {
   "cell_type": "code",
   "execution_count": 45,
   "metadata": {},
   "outputs": [
    {
     "data": {
      "text/plain": [
       "{'x0': 'Water_(g)',\n",
       " 'x1': 'Lipid_Tot_(g)',\n",
       " 'x2': 'FA_Mono_(g)',\n",
       " 'x3': 'FA_Sat_(g)',\n",
       " 'x4': 'FA_Poly_(g)',\n",
       " 'x5': 'Carbohydrt_(g)',\n",
       " 'x6': 'GmWt_1',\n",
       " 'x7': 'Vit_E_(mg)',\n",
       " 'x8': 'Sugar_Tot_(g)'}"
      ]
     },
     "execution_count": 45,
     "metadata": {},
     "output_type": "execute_result"
    }
   ],
   "source": [
    "mapping"
   ]
  },
  {
   "cell_type": "code",
   "execution_count": 3,
   "metadata": {},
   "outputs": [],
   "source": [
    "from sklearn.model_selection import KFold"
   ]
  },
  {
   "cell_type": "code",
   "execution_count": 4,
   "metadata": {},
   "outputs": [
    {
     "name": "stdout",
     "output_type": "stream",
     "text": [
      "(6204, 52)\n",
      "(6205, 52)\n",
      "(6205, 52)\n",
      "(6205, 52)\n",
      "(6205, 52)\n"
     ]
    }
   ],
   "source": [
    "kf = KFold(n_splits=5, shuffle=True)\n",
    "for i, (train_idx, test_idx) in enumerate(kf.split(train)):\n",
    "    print(train.loc[train_idx].shape)"
   ]
  },
  {
   "cell_type": "code",
   "execution_count": 5,
   "metadata": {},
   "outputs": [],
   "source": [
    "from scripts.semifinal_validation import validate_model"
   ]
  },
  {
   "cell_type": "code",
   "execution_count": 8,
   "metadata": {},
   "outputs": [
    {
     "data": {
      "text/plain": [
       "<module 'scripts.semifinal_validation' from '/home/data_sapiens/programs/challenges/best_hack/scripts/semifinal_validation.py'>"
      ]
     },
     "execution_count": 8,
     "metadata": {},
     "output_type": "execute_result"
    }
   ],
   "source": [
    "import scripts\n",
    "import importlib\n",
    "importlib.reload(scripts.semifinal_features)\n",
    "importlib.reload(scripts.semifinal_model)\n",
    "importlib.reload(scripts.semifinal_validation)"
   ]
  },
  {
   "cell_type": "code",
   "execution_count": 6,
   "metadata": {},
   "outputs": [
    {
     "name": "stdout",
     "output_type": "stream",
     "text": [
      "ITERATION 0\n"
     ]
    },
    {
     "name": "stderr",
     "output_type": "stream",
     "text": [
      "/home/data_sapiens/programs/challenges/best_hack/scripts/semifinal_features.py:65: FutureWarning: \n",
      "Passing list-likes to .loc or [] with any missing label will raise\n",
      "KeyError in the future, you can use .reindex() as an alternative.\n",
      "\n",
      "See the documentation here:\n",
      "https://pandas.pydata.org/pandas-docs/stable/user_guide/indexing.html#deprecate-loc-reindex-listlike\n",
      "  mapping = train.loc[train_idx].groupby(cur_col)['Energ_Kcal'].mean()\n",
      "/home/data_sapiens/Anaconda/lib/python3.7/site-packages/pandas/core/series.py:1143: FutureWarning: \n",
      "Passing list-likes to .loc or [] with any missing label will raise\n",
      "KeyError in the future, you can use .reindex() as an alternative.\n",
      "\n",
      "See the documentation here:\n",
      "https://pandas.pydata.org/pandas-docs/stable/user_guide/indexing.html#deprecate-loc-reindex-listlike\n",
      "  return self.loc[key]\n",
      "/home/data_sapiens/programs/challenges/best_hack/scripts/semifinal_features.py:66: SettingWithCopyWarning: \n",
      "A value is trying to be set on a copy of a slice from a DataFrame\n",
      "\n",
      "See the caveats in the documentation: http://pandas.pydata.org/pandas-docs/stable/user_guide/indexing.html#returning-a-view-versus-a-copy\n",
      "  train[cur_col + '_encoded'][test_idx] = train[cur_col][test_idx].map(mapping)\n"
     ]
    },
    {
     "ename": "ValueError",
     "evalue": "[  19   20   24   26  101  102  115  117  129  260  276  283  315  340\n  344  352  396  425  430  446  465  521  550  629  651  754  777  825\n  861  888  953  988 1011 1050 1066 1074 1088 1091 1129 1179 1184 1250\n 1258 1266 1327 1343 1349 1364 1365 1389 1401 1432 1463 1483 1511 1516\n 1522 1560 1564 1584 1602 1624 1653 1655 1675 1870 1893 1894 1958 1989\n 2021 2022 2034 2060 2079 2132 2141 2161 2175 2189 2253 2266 2275 2303\n 2311 2367 2397 2468 2478 2483 2523 2531 2565 2567 2595 2600 2605 2676\n 2696 2708 2716 2763 2767 2774 2838 2854 2989 3090 3100 3101 3115 3128\n 3164 3182 3262 3274 3313 3352 3408 3413 3428 3447 3478 3485 3506 3545\n 3548 3549 3587 3631 3652 3665 3707 3721 3735 3757 3793 3794 3880 3901\n 3969 4008 4033 4042 4049 4093 4103 4111 4126 4166 4249 4281 4282 4298\n 4310 4314 4315 4331 4363 4384 4399 4427 4445 4469 4489 4538 4578 4605\n 4651 4689 4715 4766 4781 4885 4893 4902 4928 4934 4958 4967 4976 4985\n 4994 5056 5078 5091 5121 5158 5190 5200 5230 5255 5258 5321 5330 5341\n 5365 5370 5374 5390 5424 5474 5477 5491 5531 5552 5559 5561 5570 5571\n 5581 5585 5676 5714 5743 5806 5821 5824 5838 5853 5858 5890 5912 5928\n 5955 5969 5989 6017 6077 6089 6097 6102 6150 6158 6181 6199] not contained in the index",
     "output_type": "error",
     "traceback": [
      "\u001b[0;31m---------------------------------------------------------------------------\u001b[0m",
      "\u001b[0;31mValueError\u001b[0m                                Traceback (most recent call last)",
      "\u001b[0;32m<ipython-input-6-fbc31d020ef3>\u001b[0m in \u001b[0;36m<module>\u001b[0;34m\u001b[0m\n\u001b[0;32m----> 1\u001b[0;31m \u001b[0mvalidate_model\u001b[0m\u001b[0;34m(\u001b[0m\u001b[0mtrain\u001b[0m\u001b[0;34m,\u001b[0m \u001b[0;34m{\u001b[0m\u001b[0;34m}\u001b[0m\u001b[0;34m)\u001b[0m\u001b[0;34m\u001b[0m\u001b[0;34m\u001b[0m\u001b[0m\n\u001b[0m",
      "\u001b[0;32m~/programs/challenges/best_hack/scripts/semifinal_validation.py\u001b[0m in \u001b[0;36mvalidate_model\u001b[0;34m(raw, model_params)\u001b[0m\n\u001b[1;32m     18\u001b[0m         \u001b[0mtest\u001b[0m\u001b[0;34m.\u001b[0m\u001b[0mdrop\u001b[0m\u001b[0;34m(\u001b[0m\u001b[0;34m'Energ_Kcal'\u001b[0m\u001b[0;34m,\u001b[0m \u001b[0maxis\u001b[0m\u001b[0;34m=\u001b[0m\u001b[0;36m1\u001b[0m\u001b[0;34m,\u001b[0m \u001b[0minplace\u001b[0m\u001b[0;34m=\u001b[0m\u001b[0;32mTrue\u001b[0m\u001b[0;34m)\u001b[0m\u001b[0;34m\u001b[0m\u001b[0;34m\u001b[0m\u001b[0m\n\u001b[1;32m     19\u001b[0m \u001b[0;34m\u001b[0m\u001b[0m\n\u001b[0;32m---> 20\u001b[0;31m         \u001b[0mtrain_proc\u001b[0m\u001b[0;34m,\u001b[0m \u001b[0mtest_proc\u001b[0m\u001b[0;34m,\u001b[0m \u001b[0mscaler\u001b[0m \u001b[0;34m=\u001b[0m \u001b[0mprepare_features\u001b[0m\u001b[0;34m(\u001b[0m\u001b[0mtrain\u001b[0m\u001b[0;34m,\u001b[0m \u001b[0mtest\u001b[0m\u001b[0;34m)\u001b[0m\u001b[0;34m\u001b[0m\u001b[0;34m\u001b[0m\u001b[0m\n\u001b[0m\u001b[1;32m     21\u001b[0m         \u001b[0mmodel_params\u001b[0m\u001b[0;34m[\u001b[0m\u001b[0;34m'scaler'\u001b[0m\u001b[0;34m]\u001b[0m \u001b[0;34m=\u001b[0m \u001b[0mscaler\u001b[0m\u001b[0;34m\u001b[0m\u001b[0;34m\u001b[0m\u001b[0m\n\u001b[1;32m     22\u001b[0m         \u001b[0mX_train\u001b[0m \u001b[0;34m=\u001b[0m \u001b[0mtrain_proc\u001b[0m\u001b[0;34m.\u001b[0m\u001b[0mdrop\u001b[0m\u001b[0;34m(\u001b[0m\u001b[0;34m'Energ_Kcal'\u001b[0m\u001b[0;34m,\u001b[0m \u001b[0maxis\u001b[0m\u001b[0;34m=\u001b[0m\u001b[0;36m1\u001b[0m\u001b[0;34m)\u001b[0m\u001b[0;34m.\u001b[0m\u001b[0mvalues\u001b[0m\u001b[0;34m\u001b[0m\u001b[0;34m\u001b[0m\u001b[0m\n",
      "\u001b[0;32m~/programs/challenges/best_hack/scripts/semifinal_features.py\u001b[0m in \u001b[0;36mprepare_features\u001b[0;34m(train, test, scale)\u001b[0m\n\u001b[1;32m     11\u001b[0m \u001b[0;34m\u001b[0m\u001b[0m\n\u001b[1;32m     12\u001b[0m \u001b[0;32mdef\u001b[0m \u001b[0mprepare_features\u001b[0m\u001b[0;34m(\u001b[0m\u001b[0mtrain\u001b[0m\u001b[0;34m,\u001b[0m \u001b[0mtest\u001b[0m\u001b[0;34m,\u001b[0m \u001b[0mscale\u001b[0m\u001b[0;34m=\u001b[0m\u001b[0;32mTrue\u001b[0m\u001b[0;34m)\u001b[0m\u001b[0;34m:\u001b[0m\u001b[0;34m\u001b[0m\u001b[0;34m\u001b[0m\u001b[0m\n\u001b[0;32m---> 13\u001b[0;31m     \u001b[0mtrain\u001b[0m\u001b[0;34m,\u001b[0m \u001b[0mtest\u001b[0m \u001b[0;34m=\u001b[0m \u001b[0mencode_str\u001b[0m\u001b[0;34m(\u001b[0m\u001b[0mtrain\u001b[0m\u001b[0;34m,\u001b[0m \u001b[0mtest\u001b[0m\u001b[0;34m)\u001b[0m\u001b[0;34m\u001b[0m\u001b[0;34m\u001b[0m\u001b[0m\n\u001b[0m\u001b[1;32m     14\u001b[0m     \u001b[0mdata\u001b[0m \u001b[0;34m=\u001b[0m \u001b[0mpd\u001b[0m\u001b[0;34m.\u001b[0m\u001b[0mconcat\u001b[0m\u001b[0;34m(\u001b[0m\u001b[0;34m[\u001b[0m\u001b[0mtrain\u001b[0m\u001b[0;34m,\u001b[0m \u001b[0mtest\u001b[0m\u001b[0;34m]\u001b[0m\u001b[0;34m,\u001b[0m \u001b[0msort\u001b[0m\u001b[0;34m=\u001b[0m\u001b[0;32mFalse\u001b[0m\u001b[0;34m)\u001b[0m\u001b[0;34m\u001b[0m\u001b[0;34m\u001b[0m\u001b[0m\n\u001b[1;32m     15\u001b[0m     \u001b[0mdata\u001b[0m \u001b[0;34m=\u001b[0m \u001b[0mtfidf_desc\u001b[0m\u001b[0;34m(\u001b[0m\u001b[0mdata\u001b[0m\u001b[0;34m)\u001b[0m\u001b[0;34m\u001b[0m\u001b[0;34m\u001b[0m\u001b[0m\n",
      "\u001b[0;32m~/programs/challenges/best_hack/scripts/semifinal_features.py\u001b[0m in \u001b[0;36mencode_str\u001b[0;34m(train, test)\u001b[0m\n\u001b[1;32m     64\u001b[0m             \u001b[0;32mfor\u001b[0m \u001b[0mtrain_idx\u001b[0m\u001b[0;34m,\u001b[0m \u001b[0mtest_idx\u001b[0m \u001b[0;32min\u001b[0m \u001b[0mcv\u001b[0m\u001b[0;34m.\u001b[0m\u001b[0msplit\u001b[0m\u001b[0;34m(\u001b[0m\u001b[0mtrain\u001b[0m\u001b[0;34m)\u001b[0m\u001b[0;34m:\u001b[0m\u001b[0;34m\u001b[0m\u001b[0;34m\u001b[0m\u001b[0m\n\u001b[1;32m     65\u001b[0m                 \u001b[0mmapping\u001b[0m \u001b[0;34m=\u001b[0m \u001b[0mtrain\u001b[0m\u001b[0;34m.\u001b[0m\u001b[0mloc\u001b[0m\u001b[0;34m[\u001b[0m\u001b[0mtrain_idx\u001b[0m\u001b[0;34m]\u001b[0m\u001b[0;34m.\u001b[0m\u001b[0mgroupby\u001b[0m\u001b[0;34m(\u001b[0m\u001b[0mcur_col\u001b[0m\u001b[0;34m)\u001b[0m\u001b[0;34m[\u001b[0m\u001b[0;34m'Energ_Kcal'\u001b[0m\u001b[0;34m]\u001b[0m\u001b[0;34m.\u001b[0m\u001b[0mmean\u001b[0m\u001b[0;34m(\u001b[0m\u001b[0;34m)\u001b[0m\u001b[0;34m\u001b[0m\u001b[0;34m\u001b[0m\u001b[0m\n\u001b[0;32m---> 66\u001b[0;31m                 \u001b[0mtrain\u001b[0m\u001b[0;34m[\u001b[0m\u001b[0mcur_col\u001b[0m \u001b[0;34m+\u001b[0m \u001b[0;34m'_encoded'\u001b[0m\u001b[0;34m]\u001b[0m\u001b[0;34m[\u001b[0m\u001b[0mtest_idx\u001b[0m\u001b[0;34m]\u001b[0m \u001b[0;34m=\u001b[0m \u001b[0mtrain\u001b[0m\u001b[0;34m[\u001b[0m\u001b[0mcur_col\u001b[0m\u001b[0;34m]\u001b[0m\u001b[0;34m[\u001b[0m\u001b[0mtest_idx\u001b[0m\u001b[0;34m]\u001b[0m\u001b[0;34m.\u001b[0m\u001b[0mmap\u001b[0m\u001b[0;34m(\u001b[0m\u001b[0mmapping\u001b[0m\u001b[0;34m)\u001b[0m\u001b[0;34m\u001b[0m\u001b[0;34m\u001b[0m\u001b[0m\n\u001b[0m\u001b[1;32m     67\u001b[0m             \u001b[0mtrain\u001b[0m\u001b[0;34m[\u001b[0m\u001b[0mcur_col\u001b[0m \u001b[0;34m+\u001b[0m \u001b[0;34m'_encoded'\u001b[0m\u001b[0;34m]\u001b[0m\u001b[0;34m.\u001b[0m\u001b[0mfillna\u001b[0m\u001b[0;34m(\u001b[0m\u001b[0mglobalmean\u001b[0m\u001b[0;34m,\u001b[0m \u001b[0minplace\u001b[0m\u001b[0;34m=\u001b[0m\u001b[0;32mTrue\u001b[0m\u001b[0;34m)\u001b[0m\u001b[0;34m\u001b[0m\u001b[0;34m\u001b[0m\u001b[0m\n\u001b[1;32m     68\u001b[0m             \u001b[0mmapping\u001b[0m \u001b[0;34m=\u001b[0m \u001b[0mtrain\u001b[0m\u001b[0;34m.\u001b[0m\u001b[0mgroupby\u001b[0m\u001b[0;34m(\u001b[0m\u001b[0mcur_col\u001b[0m\u001b[0;34m)\u001b[0m\u001b[0;34m[\u001b[0m\u001b[0;34m'Energ_Kcal'\u001b[0m\u001b[0;34m]\u001b[0m\u001b[0;34m.\u001b[0m\u001b[0mmean\u001b[0m\u001b[0;34m(\u001b[0m\u001b[0;34m)\u001b[0m\u001b[0;34m\u001b[0m\u001b[0;34m\u001b[0m\u001b[0m\n",
      "\u001b[0;32m~/Anaconda/lib/python3.7/site-packages/pandas/core/series.py\u001b[0m in \u001b[0;36m__setitem__\u001b[0;34m(self, key, value)\u001b[0m\n\u001b[1;32m   1239\u001b[0m         \u001b[0;31m# do the setitem\u001b[0m\u001b[0;34m\u001b[0m\u001b[0;34m\u001b[0m\u001b[0;34m\u001b[0m\u001b[0m\n\u001b[1;32m   1240\u001b[0m         \u001b[0mcacher_needs_updating\u001b[0m \u001b[0;34m=\u001b[0m \u001b[0mself\u001b[0m\u001b[0;34m.\u001b[0m\u001b[0m_check_is_chained_assignment_possible\u001b[0m\u001b[0;34m(\u001b[0m\u001b[0;34m)\u001b[0m\u001b[0;34m\u001b[0m\u001b[0;34m\u001b[0m\u001b[0m\n\u001b[0;32m-> 1241\u001b[0;31m         \u001b[0msetitem\u001b[0m\u001b[0;34m(\u001b[0m\u001b[0mkey\u001b[0m\u001b[0;34m,\u001b[0m \u001b[0mvalue\u001b[0m\u001b[0;34m)\u001b[0m\u001b[0;34m\u001b[0m\u001b[0;34m\u001b[0m\u001b[0m\n\u001b[0m\u001b[1;32m   1242\u001b[0m         \u001b[0;32mif\u001b[0m \u001b[0mcacher_needs_updating\u001b[0m\u001b[0;34m:\u001b[0m\u001b[0;34m\u001b[0m\u001b[0;34m\u001b[0m\u001b[0m\n\u001b[1;32m   1243\u001b[0m             \u001b[0mself\u001b[0m\u001b[0;34m.\u001b[0m\u001b[0m_maybe_update_cacher\u001b[0m\u001b[0;34m(\u001b[0m\u001b[0;34m)\u001b[0m\u001b[0;34m\u001b[0m\u001b[0;34m\u001b[0m\u001b[0m\n",
      "\u001b[0;32m~/Anaconda/lib/python3.7/site-packages/pandas/core/series.py\u001b[0m in \u001b[0;36msetitem\u001b[0;34m(key, value)\u001b[0m\n\u001b[1;32m   1235\u001b[0m                     \u001b[0;32mpass\u001b[0m\u001b[0;34m\u001b[0m\u001b[0;34m\u001b[0m\u001b[0m\n\u001b[1;32m   1236\u001b[0m \u001b[0;34m\u001b[0m\u001b[0m\n\u001b[0;32m-> 1237\u001b[0;31m             \u001b[0mself\u001b[0m\u001b[0;34m.\u001b[0m\u001b[0m_set_with\u001b[0m\u001b[0;34m(\u001b[0m\u001b[0mkey\u001b[0m\u001b[0;34m,\u001b[0m \u001b[0mvalue\u001b[0m\u001b[0;34m)\u001b[0m\u001b[0;34m\u001b[0m\u001b[0;34m\u001b[0m\u001b[0m\n\u001b[0m\u001b[1;32m   1238\u001b[0m \u001b[0;34m\u001b[0m\u001b[0m\n\u001b[1;32m   1239\u001b[0m         \u001b[0;31m# do the setitem\u001b[0m\u001b[0;34m\u001b[0m\u001b[0;34m\u001b[0m\u001b[0;34m\u001b[0m\u001b[0m\n",
      "\u001b[0;32m~/Anaconda/lib/python3.7/site-packages/pandas/core/series.py\u001b[0m in \u001b[0;36m_set_with\u001b[0;34m(self, key, value)\u001b[0m\n\u001b[1;32m   1290\u001b[0m             \u001b[0;32mif\u001b[0m \u001b[0mkey_type\u001b[0m \u001b[0;34m==\u001b[0m \u001b[0;34m\"integer\"\u001b[0m\u001b[0;34m:\u001b[0m\u001b[0;34m\u001b[0m\u001b[0;34m\u001b[0m\u001b[0m\n\u001b[1;32m   1291\u001b[0m                 \u001b[0;32mif\u001b[0m \u001b[0mself\u001b[0m\u001b[0;34m.\u001b[0m\u001b[0mindex\u001b[0m\u001b[0;34m.\u001b[0m\u001b[0minferred_type\u001b[0m \u001b[0;34m==\u001b[0m \u001b[0;34m\"integer\"\u001b[0m\u001b[0;34m:\u001b[0m\u001b[0;34m\u001b[0m\u001b[0;34m\u001b[0m\u001b[0m\n\u001b[0;32m-> 1292\u001b[0;31m                     \u001b[0mself\u001b[0m\u001b[0;34m.\u001b[0m\u001b[0m_set_labels\u001b[0m\u001b[0;34m(\u001b[0m\u001b[0mkey\u001b[0m\u001b[0;34m,\u001b[0m \u001b[0mvalue\u001b[0m\u001b[0;34m)\u001b[0m\u001b[0;34m\u001b[0m\u001b[0;34m\u001b[0m\u001b[0m\n\u001b[0m\u001b[1;32m   1293\u001b[0m                 \u001b[0;32melse\u001b[0m\u001b[0;34m:\u001b[0m\u001b[0;34m\u001b[0m\u001b[0;34m\u001b[0m\u001b[0m\n\u001b[1;32m   1294\u001b[0m                     \u001b[0;32mreturn\u001b[0m \u001b[0mself\u001b[0m\u001b[0;34m.\u001b[0m\u001b[0m_set_values\u001b[0m\u001b[0;34m(\u001b[0m\u001b[0mkey\u001b[0m\u001b[0;34m,\u001b[0m \u001b[0mvalue\u001b[0m\u001b[0;34m)\u001b[0m\u001b[0;34m\u001b[0m\u001b[0;34m\u001b[0m\u001b[0m\n",
      "\u001b[0;32m~/Anaconda/lib/python3.7/site-packages/pandas/core/series.py\u001b[0m in \u001b[0;36m_set_labels\u001b[0;34m(self, key, value)\u001b[0m\n\u001b[1;32m   1306\u001b[0m         \u001b[0mmask\u001b[0m \u001b[0;34m=\u001b[0m \u001b[0mindexer\u001b[0m \u001b[0;34m==\u001b[0m \u001b[0;34m-\u001b[0m\u001b[0;36m1\u001b[0m\u001b[0;34m\u001b[0m\u001b[0;34m\u001b[0m\u001b[0m\n\u001b[1;32m   1307\u001b[0m         \u001b[0;32mif\u001b[0m \u001b[0mmask\u001b[0m\u001b[0;34m.\u001b[0m\u001b[0many\u001b[0m\u001b[0;34m(\u001b[0m\u001b[0;34m)\u001b[0m\u001b[0;34m:\u001b[0m\u001b[0;34m\u001b[0m\u001b[0;34m\u001b[0m\u001b[0m\n\u001b[0;32m-> 1308\u001b[0;31m             \u001b[0;32mraise\u001b[0m \u001b[0mValueError\u001b[0m\u001b[0;34m(\u001b[0m\u001b[0;34m\"%s not contained in the index\"\u001b[0m \u001b[0;34m%\u001b[0m \u001b[0mstr\u001b[0m\u001b[0;34m(\u001b[0m\u001b[0mkey\u001b[0m\u001b[0;34m[\u001b[0m\u001b[0mmask\u001b[0m\u001b[0;34m]\u001b[0m\u001b[0;34m)\u001b[0m\u001b[0;34m)\u001b[0m\u001b[0;34m\u001b[0m\u001b[0;34m\u001b[0m\u001b[0m\n\u001b[0m\u001b[1;32m   1309\u001b[0m         \u001b[0mself\u001b[0m\u001b[0;34m.\u001b[0m\u001b[0m_set_values\u001b[0m\u001b[0;34m(\u001b[0m\u001b[0mindexer\u001b[0m\u001b[0;34m,\u001b[0m \u001b[0mvalue\u001b[0m\u001b[0;34m)\u001b[0m\u001b[0;34m\u001b[0m\u001b[0;34m\u001b[0m\u001b[0m\n\u001b[1;32m   1310\u001b[0m \u001b[0;34m\u001b[0m\u001b[0m\n",
      "\u001b[0;31mValueError\u001b[0m: [  19   20   24   26  101  102  115  117  129  260  276  283  315  340\n  344  352  396  425  430  446  465  521  550  629  651  754  777  825\n  861  888  953  988 1011 1050 1066 1074 1088 1091 1129 1179 1184 1250\n 1258 1266 1327 1343 1349 1364 1365 1389 1401 1432 1463 1483 1511 1516\n 1522 1560 1564 1584 1602 1624 1653 1655 1675 1870 1893 1894 1958 1989\n 2021 2022 2034 2060 2079 2132 2141 2161 2175 2189 2253 2266 2275 2303\n 2311 2367 2397 2468 2478 2483 2523 2531 2565 2567 2595 2600 2605 2676\n 2696 2708 2716 2763 2767 2774 2838 2854 2989 3090 3100 3101 3115 3128\n 3164 3182 3262 3274 3313 3352 3408 3413 3428 3447 3478 3485 3506 3545\n 3548 3549 3587 3631 3652 3665 3707 3721 3735 3757 3793 3794 3880 3901\n 3969 4008 4033 4042 4049 4093 4103 4111 4126 4166 4249 4281 4282 4298\n 4310 4314 4315 4331 4363 4384 4399 4427 4445 4469 4489 4538 4578 4605\n 4651 4689 4715 4766 4781 4885 4893 4902 4928 4934 4958 4967 4976 4985\n 4994 5056 5078 5091 5121 5158 5190 5200 5230 5255 5258 5321 5330 5341\n 5365 5370 5374 5390 5424 5474 5477 5491 5531 5552 5559 5561 5570 5571\n 5581 5585 5676 5714 5743 5806 5821 5824 5838 5853 5858 5890 5912 5928\n 5955 5969 5989 6017 6077 6089 6097 6102 6150 6158 6181 6199] not contained in the index"
     ]
    }
   ],
   "source": [
    "validate_model(train, {})"
   ]
  },
  {
   "cell_type": "code",
   "execution_count": 10,
   "metadata": {},
   "outputs": [],
   "source": [
    "from scripts.semifinal_features import prepare_features"
   ]
  },
  {
   "cell_type": "code",
   "execution_count": 11,
   "metadata": {},
   "outputs": [
    {
     "name": "stderr",
     "output_type": "stream",
     "text": [
      "/home/data_sapiens/programs/challenges/best_hack/scripts/semifinal_features.py:66: SettingWithCopyWarning: \n",
      "A value is trying to be set on a copy of a slice from a DataFrame\n",
      "\n",
      "See the caveats in the documentation: http://pandas.pydata.org/pandas-docs/stable/user_guide/indexing.html#returning-a-view-versus-a-copy\n",
      "  train[cur_col + '_encoded'][test_idx] = train[cur_col][test_idx].map(mapping)\n",
      "/home/data_sapiens/Anaconda/lib/python3.7/site-packages/pandas/core/frame.py:4102: SettingWithCopyWarning: \n",
      "A value is trying to be set on a copy of a slice from a DataFrame\n",
      "\n",
      "See the caveats in the documentation: http://pandas.pydata.org/pandas-docs/stable/user_guide/indexing.html#returning-a-view-versus-a-copy\n",
      "  errors=errors,\n",
      "/home/data_sapiens/programs/challenges/best_hack/scripts/semifinal_features.py:116: SettingWithCopyWarning: \n",
      "A value is trying to be set on a copy of a slice from a DataFrame.\n",
      "Try using .loc[row_indexer,col_indexer] = value instead\n",
      "\n",
      "See the caveats in the documentation: http://pandas.pydata.org/pandas-docs/stable/user_guide/indexing.html#returning-a-view-versus-a-copy\n",
      "  train['Energ_Kcal'] = scaler.transform(train['Energ_Kcal'].values.reshape(-1, 1))\n"
     ]
    }
   ],
   "source": [
    "train_proc, test_proc, scaler = prepare_features(train, test)"
   ]
  }
 ],
 "metadata": {
  "kernelspec": {
   "display_name": "Python 3",
   "language": "python",
   "name": "python3"
  },
  "language_info": {
   "codemirror_mode": {
    "name": "ipython",
    "version": 3
   },
   "file_extension": ".py",
   "mimetype": "text/x-python",
   "name": "python",
   "nbconvert_exporter": "python",
   "pygments_lexer": "ipython3",
   "version": "3.7.3"
  }
 },
 "nbformat": 4,
 "nbformat_minor": 2
}
